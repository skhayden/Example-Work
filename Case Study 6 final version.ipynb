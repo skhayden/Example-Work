{
 "cells": [
  {
   "cell_type": "markdown",
   "metadata": {},
   "source": [
    "# Case 6: Deep Learning and the Higgs Dataset\n",
    "\n",
    "\n",
    "#### Steven Hayden, Kevin Mendonsa, Joe Schueder, Nicole Wittlin  "
   ]
  },
  {
   "cell_type": "markdown",
   "metadata": {},
   "source": [
    "## Introduction "
   ]
  },
  {
   "cell_type": "markdown",
   "metadata": {},
   "source": [
    "In the field of *high energy physics*, observing exotic particles and measuring their properties may yield critical insights about the nature of matter. However, the data for analyzing these exotic particles is extremely sparse. For example, the Large Hadron Collider produces approximately 10^11 collisions per hour, yet only roughly 300 of these collisions result in the desired exotic particles. Therefore, good data analysis depends on distinguishing collisions which produce particles of interest (signal) from those producing other particles (background).\n",
    "\n",
    "Machine learning, and specifically signal-versus-background classification, can aid in the analysis process. In 2014, Baldi et al. published the results of their work in \"Searching for Exotic Particles in High-Energy Phyics with Deep Learning\" to highlight how neural networks and deep learning approaches can improve the collider searches for exotic particles. \n",
    "\n",
    "Our objective is to recreate the neural network specifications used by Baldi and team leveraging updated techiques, as well as suggest improvements on their existing work given the advances in deep learning in the past six years.  "
   ]
  },
  {
   "cell_type": "markdown",
   "metadata": {
    "colab_type": "text",
    "id": "WL8UoOTmGGsL"
   },
   "source": [
    "## Data Preparation and Exploratory Analysis"
   ]
  },
  {
   "cell_type": "markdown",
   "metadata": {},
   "source": [
    "Baldi and team published a dataset of 11 million simulated collision events for benchmarking machine learning classification algorithms in distinguishing exotic particles (known as Higgs bosons). This data was produced using a Monte Carlo simulation and has 28 features: the first 21 features (columns 2-22) are kinematic properties measured by the particle detectors in the accelerator and the last seven features are high-level features derived by physicists from the first 21 features to help discriminate between the two classes. This dataset is known as the Higgs data.\n",
    "\n",
    "The data set used in the Baldi analysis was nearly balanced with 53% positive examples in Higgs data. \n",
    "\n",
    "We did not conduct true data exploration on the data set; instead, we focused on confirming we had the correct information in a usable format. We opted to import the data as a dataframe, rather than a tensor. This choice made the data more readable and allowed for more straightforward analysis. We acknowledge that this may have a negative impact on performance."
   ]
  },
  {
   "cell_type": "markdown",
   "metadata": {
    "colab_type": "text",
    "id": "9FklhSI0Gg9R"
   },
   "source": [
    "### Package Set Up"
   ]
  },
  {
   "cell_type": "code",
   "execution_count": 4,
   "metadata": {
    "colab": {},
    "colab_type": "code",
    "id": "5pZ8A2liqvgk"
   },
   "outputs": [
    {
     "name": "stdout",
     "output_type": "stream",
     "text": [
      "2.3.0\n"
     ]
    }
   ],
   "source": [
    "from __future__ import absolute_import, division, print_function, unicode_literals\n",
    "\n",
    "try:\n",
    "  # %tensorflow_version only exists in Colab.\n",
    "  %tensorflow_version 2.x\n",
    "except Exception:\n",
    "  pass\n",
    "import tensorflow as tf\n",
    "\n",
    "from tensorflow.keras import layers\n",
    "from tensorflow.keras import regularizers\n",
    "\n",
    "print(tf.__version__)"
   ]
  },
  {
   "cell_type": "code",
   "execution_count": 7,
   "metadata": {
    "colab": {},
    "colab_type": "code",
    "id": "-pnOU-ctX27Q"
   },
   "outputs": [],
   "source": [
    "from  IPython import display\n",
    "from matplotlib import pyplot as plt\n",
    "\n",
    "import numpy as np\n",
    "\n",
    "import pathlib\n",
    "import shutil\n",
    "import tempfile\n"
   ]
  },
  {
   "cell_type": "code",
   "execution_count": 8,
   "metadata": {
    "colab": {},
    "colab_type": "code",
    "id": "jj6I4dvTtbUe"
   },
   "outputs": [],
   "source": [
    "logdir = pathlib.Path(tempfile.mkdtemp())/\"tensorboard_logs\"\n",
    "shutil.rmtree(logdir, ignore_errors=True)"
   ]
  },
  {
   "cell_type": "markdown",
   "metadata": {},
   "source": [
    "### Data Set Preparation"
   ]
  },
  {
   "cell_type": "code",
   "execution_count": 10,
   "metadata": {},
   "outputs": [],
   "source": [
    "import os\n",
    "proxy = ''\n",
    "os.environ['http_proxy'] = proxy\n",
    "os.environ['https_proxy'] = proxy\n",
    "os.environ['HTTP_PROXY'] = proxy\n",
    "os.environ['HTTPS_PROXY'] = proxy"
   ]
  },
  {
   "cell_type": "code",
   "execution_count": 11,
   "metadata": {},
   "outputs": [],
   "source": [
    "import pandas as pd\n",
    "import requests\n",
    "from io import StringIO"
   ]
  },
  {
   "cell_type": "code",
   "execution_count": 12,
   "metadata": {},
   "outputs": [],
   "source": [
    "url_dataset = '/home/jjschued/HIGGS.csv'\n",
    "#df = pd.read_csv('C:/Users/shayden/Downloads/HIGGS.csv.gz', compression = 'gzip',nrows=11000, header = None)\n",
    "#url_dataset = 'C:/Users/shayden/Downloads/HIGGS.csv'\n",
    "#df = pd.read_csv(url_dataset, nrows=1000000)\n",
    "df = pd.read_csv(url_dataset)"
   ]
  },
  {
   "cell_type": "code",
   "execution_count": 13,
   "metadata": {},
   "outputs": [
    {
     "data": {
      "text/plain": [
       "'/home/jjschued/HIGGS.csv'"
      ]
     },
     "execution_count": 13,
     "metadata": {},
     "output_type": "execute_result"
    }
   ],
   "source": [
    "url_dataset"
   ]
  },
  {
   "cell_type": "markdown",
   "metadata": {},
   "source": [
    "### Data Review"
   ]
  },
  {
   "cell_type": "code",
   "execution_count": 15,
   "metadata": {},
   "outputs": [
    {
     "name": "stdout",
     "output_type": "stream",
     "text": [
      "<class 'pandas.core.frame.DataFrame'>\n",
      "RangeIndex: 10999999 entries, 0 to 10999998\n",
      "Data columns (total 29 columns):\n",
      " #   Column                      Dtype  \n",
      "---  ------                      -----  \n",
      " 0   1.000000000000000000e+00    float64\n",
      " 1   8.692932128906250000e-01    float64\n",
      " 2   -6.350818276405334473e-01   float64\n",
      " 3   2.256902605295181274e-01    float64\n",
      " 4   3.274700641632080078e-01    float64\n",
      " 5   -6.899932026863098145e-01   float64\n",
      " 6   7.542022466659545898e-01    float64\n",
      " 7   -2.485731393098831177e-01   float64\n",
      " 8   -1.092063903808593750e+00   float64\n",
      " 9   0.000000000000000000e+00    float64\n",
      " 10  1.374992132186889648e+00    float64\n",
      " 11  -6.536741852760314941e-01   float64\n",
      " 12  9.303491115570068359e-01    float64\n",
      " 13  1.107436060905456543e+00    float64\n",
      " 14  1.138904333114624023e+00    float64\n",
      " 15  -1.578198313713073730e+00   float64\n",
      " 16  -1.046985387802124023e+00   float64\n",
      " 17  0.000000000000000000e+00.1  float64\n",
      " 18  6.579295396804809570e-01    float64\n",
      " 19  -1.045456994324922562e-02   float64\n",
      " 20  -4.576716944575309753e-02   float64\n",
      " 21  3.101961374282836914e+00    float64\n",
      " 22  1.353760004043579102e+00    float64\n",
      " 23  9.795631170272827148e-01    float64\n",
      " 24  9.780761599540710449e-01    float64\n",
      " 25  9.200048446655273438e-01    float64\n",
      " 26  7.216574549674987793e-01    float64\n",
      " 27  9.887509346008300781e-01    float64\n",
      " 28  8.766783475875854492e-01    float64\n",
      "dtypes: float64(29)\n",
      "memory usage: 2.4 GB\n"
     ]
    }
   ],
   "source": [
    "df.info()"
   ]
  },
  {
   "cell_type": "code",
   "execution_count": 18,
   "metadata": {},
   "outputs": [],
   "source": [
    "dfx = df.rename(columns={x:y for x,y in zip(df.columns,range(0,len(df.columns)))})"
   ]
  },
  {
   "cell_type": "markdown",
   "metadata": {},
   "source": [
    "## Replicating the Original Model "
   ]
  },
  {
   "cell_type": "markdown",
   "metadata": {},
   "source": [
    "Baldi and team chose optimal hyper-parameters for the deep learning neural network using a subset of the Higgs data consisting of 2.6M training examples and 100,000 validation examples. They note that the computational costs of the process did not allow for thorough optimization; however they combined pre-training methods, network architectures, initial learning rates, and regularization methods to determine the best criteria. \n",
    "\n",
    "The hyper-parameter optimization was performed using the full set of Higgs features, and the various classifiers algorithms.  These classifiers were tested on 500,000 simulated examples generated using Monte Carlo procedures as training sets. The best performing model, as determined by the Receiver Operating Characteristic (ROC) curves is outlined below. \n",
    "\n",
    "**Optimal Model from Baldi and team**\n",
    "- Five-layer Neural Network with 300 hidden units in each layer\n",
    "- Learning Rate of 0.05\n",
    "- Weight Decay Coefficient 1 x 10-5\n",
    "- Predetermined without Optimization  \n",
    "    - Hidden units all used the **tahn** activation function\n",
    "    - Weights initialized from normal distribution with 0 mean and standard deviation 0.1 in first layer, 0.001 in output layer, and 0.05in all other hidden layers\n",
    "    - Mini-batches of size 100 to compute gradients\n",
    "    - Momentum increased linearly over the first 200 epochs from 0.9 to 0.99, then remained constant\n",
    "    - Learning Rate decayed by 1.0000002 every batch update until it reached a minimum of 10-6\n",
    "- Training ended when momentum reached maximum value and minimum error on validation set of 500,000 examples had not decreased by more than a factor of 0.00001 over 10 epochs. Early stopping prevented overfitting and each NN trained over 200-1000 epochs.\n",
    "- When training with dropout, increased learning rate decay to 1.0000003 and ended training when the momentum reached maximum value and error on validation set had not decreased for 40 epochs\n",
    "- Inputs standardized over entire train/test set with mean 0 and standard deviation of 1, except for features with values strictly greater than 0 (scaled for mean value of 1)\n",
    "- An additional boost in performance is obtained by using the dropout training algorithm, in which we stochastically drop neurons in the top hidden layer with 50% probability during training.\n"
   ]
  },
  {
   "cell_type": "code",
   "execution_count": 17,
   "metadata": {
    "colab": {},
    "colab_type": "code",
    "id": "hmk49OqZIFZP"
   },
   "outputs": [],
   "source": [
    "N_VALIDATION = int(1e3)\n",
    "N_TRAIN = int(1e4)\n",
    "BUFFER_SIZE = int(1e4)\n",
    "BATCH_SIZE = 100\n",
    "STEPS_PER_EPOCH = N_TRAIN//BATCH_SIZE"
   ]
  },
  {
   "cell_type": "code",
   "execution_count": 104,
   "metadata": {},
   "outputs": [],
   "source": [
    "#def schedule( lr):\n",
    "#   if lr > 0.000001:\n",
    "#       return float(lr)\n",
    "#   else:\n",
    "#       return float(0.000001)\n",
    "\n",
    "    \n",
    "# learning rate schedule\n",
    "def schedule(epoch,lr):\n",
    "    initial_learning_rate=0.05\n",
    "    decay = 0.0000002\n",
    "    decay_steps= float(STEPS_PER_EPOCH*1000)\n",
    "    if lr > 0.000001:\n",
    "        LearningRate = initial_learning_rate / (1 + decay * epoch/ decay_steps)  \n",
    "        print(epoch)              \n",
    "        return float(LearningRate)\n",
    "    else:\n",
    "        LearningRate=float(0.000001)\n",
    "        print(epoch)\n",
    "        return LearningRate\n",
    "    \n",
    "   \n",
    "    \n",
    "def get_callbacks():\n",
    "    \n",
    "  return [\n",
    "#    tfdocs.modeling.EpochDots(),\n",
    "    tf.keras.callbacks.EarlyStopping(monitor='val_binary_crossentropy', min_delta = 0.00001, mode = 'min', patience=10),\n",
    "    tf.keras.callbacks.LearningRateScheduler(schedule)\n",
    "  ]"
   ]
  },
  {
   "cell_type": "code",
   "execution_count": 105,
   "metadata": {},
   "outputs": [],
   "source": [
    "def get_optimizer():\n",
    "    \n",
    "  return tf.keras.optimizers.SGD(learning_rate=0.05,momentum=0.90, decay = 0.0000002, nesterov=True)"
   ]
  },
  {
   "cell_type": "code",
   "execution_count": 106,
   "metadata": {},
   "outputs": [],
   "source": [
    "#Parms needed for case study  \n",
    "\n",
    "#We selected a five-layer neural network with 300 hidden units in each layer,\n",
    "#a learning rate of 0.05, and a weight decay coefficient of 1 × 10−5.\n",
    "# Hidden layer have tanh activation function\n",
    "#Gradient computations were made on mini-batches of size 100\n",
    "#The learning rate decayed by a factor of 1.0000002 every batch update until it reached a minimum of 10^−6,\n",
    "\n",
    "def define_predictor():\n",
    "    model = tf.keras.Sequential()\n",
    "    model.add(tf.keras.layers.Dense(300, kernel_initializer = tf.keras.initializers.RandomNormal(mean=0.0, stddev=0.1, seed=None), input_shape= X_train.shape[1:], activation='tanh')) # Hidden 1\n",
    "    model.add(layers.Dropout(0.5))\n",
    "    model.add(tf.keras.layers.Dense(300,kernel_initializer = tf.keras.initializers.RandomNormal(mean=0.0, stddev=0.05, seed=None), activation='tanh')) # Hidden 2\n",
    "    model.add(tf.keras.layers.Dense(300,kernel_initializer = tf.keras.initializers.RandomNormal(mean=0.0, stddev=0.05, seed=None), activation='tanh')) # Hidden 3\n",
    "    model.add(tf.keras.layers.Dense(300,kernel_initializer = tf.keras.initializers.RandomNormal(mean=0.0, stddev=0.05, seed=None), activation='tanh')) # Hidden 4\n",
    "    model.add(tf.keras.layers.Dense(300,kernel_initializer = tf.keras.initializers.RandomNormal(mean=0.0, stddev=0.05, seed=None), activation='tanh')) # Hidden 5\n",
    "    model.add(tf.keras.layers.Dense(1,kernel_initializer = tf.keras.initializers.RandomNormal(mean=0.0, stddev=0.001, seed=None),activation='sigmoid')) # Output #1.2\n",
    "    #model.add(tf.keras.layers.Dense(1,activation='softmax')) # Output\n",
    "    #sgd = tf.keras.optimizers.SGD(lr=.05, decay = 1.0000002, momentum=0.99)\n",
    "    model.compile(loss=tf.keras.losses.BinaryCrossentropy(),\n",
    "                  optimizer=get_optimizer() , \n",
    "                  metrics=['accuracy', \n",
    "                            tf.keras.losses.BinaryCrossentropy(\n",
    "                            from_logits=True, name='val_binary_crossentropy'), \n",
    "                            tf.keras.metrics.AUC()])\n",
    "    return model\n",
    "\n",
    "    \n",
    "#setup scaler\n",
    "from sklearn import preprocessing\n",
    "scaler = preprocessing.StandardScaler()\n",
    "dfx\n",
    "X = dfx.loc[:, 1:28]\n",
    "Y = dfx[0].copy()\n",
    "y = Y.values\n",
    "\n",
    "from sklearn.model_selection import train_test_split, GridSearchCV, KFold, TimeSeriesSplit, StratifiedShuffleSplit\n",
    "from sklearn import metrics as mt\n",
    "X_train, X_test, y_train, y_test = train_test_split(X, y, test_size = 0.3, random_state = 101)\n",
    "X_test, X_validate, y_test, y_validate = train_test_split(X_test, y_test, test_size = 0.5, random_state = 101)\n",
    "#N_VALIDATION = int(1e3)\n",
    "\n",
    "BATCH_SIZE = 3000\n",
    "\n",
    "\n"
   ]
  },
  {
   "cell_type": "markdown",
   "metadata": {},
   "source": [
    "### Hyper-parameters"
   ]
  },
  {
   "cell_type": "markdown",
   "metadata": {},
   "source": [
    "**Hidden layers** - help models extrapolate relationships between variables. One hidden layer is enough to estimate first order and second order interactions. The larger the number of hidden layers in a neural network, the longer it will take for the neural network to produce the output and the more complex problems the neural network can solve. Due to the complexity of our problem additional hidden layers were needed. "
   ]
  },
  {
   "cell_type": "markdown",
   "metadata": {},
   "source": [
    "**Epoch** – represents the number of completes passes through the training dataset during the learning process, where the learning algorithm loops through a fixed number of epochs and within each, updates the network for each row in the training data; one epoch means that each sample in the training dataset has updated internal parameters; calculated as N / batch size training iterations, where N is the total number of examples. \n",
    "\n",
    "*“You can think of a for-loop over the number of epochs where each loop proceeds over the training dataset. Within this for-loop is another nested for-loop that iterates over each batch of samples, where one batch has the specified “batch size” number of samples.”* - Jason Brownlee, PhD, https://machinelearningmastery.com/difference-between-a-batch-and-an-epoch/"
   ]
  },
  {
   "cell_type": "markdown",
   "metadata": {},
   "source": [
    "**Iteration** – number of batches needed to complete on epoch"
   ]
  },
  {
   "cell_type": "markdown",
   "metadata": {},
   "source": [
    "**Understanding Iterations, Batches, and Epochs**\n",
    "\n",
    "Dataset with 200 samples<br>\n",
    "Batch size = 5<br>\n",
    "Epochs = 1000\n",
    "- Dataset will be divided into 40 batches, each with 5 samples, model weights will update after each batch of 5 samples\n",
    "- One epoch will involve 40 batches/40 updates to model\n",
    "- 1000 epochs, model will be exposed/passed through whole data 1000 times, total of 40,000 batches during entire training process"
   ]
  },
  {
   "cell_type": "markdown",
   "metadata": {},
   "source": [
    "**Batch/batch size** – the number of data points/observations used in one iteration (one gradient update) of model training and dictates the number of training observations to be “learned” before updating internal parameters; generally, a larger batch involves more training examples, thus yielding a more stable learning process and accurate estimate. For example, a batch size of 32 means that 32 samples from the training dataset will be used to estimate error gradient before the model weights are updated. *NOTE: batch size and number of batches are different.* "
   ]
  },
  {
   "cell_type": "markdown",
   "metadata": {},
   "source": [
    "**Learning Rate** – a configurable hyper-parameter that controls how quickly/slowly a neural network learns a problem, more specifically it controls how much to change the weights to correct for error during each iteration; a large learning rate allows model to train faster but a cost, where smaller learning rates may yield a better model, requiring more training epochs and smaller batch sizes. \n",
    "- Math: gradient descent algorithm multiples learning rate by gradient, for example value of 0.1 will update weight 10% of the amount it could be updated\n",
    "- Range: 0.0 to 1.0, traditional default 0.1 or 0.01"
   ]
  },
  {
   "cell_type": "markdown",
   "metadata": {},
   "source": [
    "**Learning Rate Decay** – how learning rate changes over training epochs; learning rate decay can be designed where large weight changes happen at the beginning of the process and smaller, fine-tune changes toward the end; another strategy is to decay over a fixed number of training epochs at a small, constant value."
   ]
  },
  {
   "cell_type": "markdown",
   "metadata": {},
   "source": [
    "**Drop Out** – form of regularization to minimize overfitting; technique that randomly removes/inactivates neurons at each training step, which forces remaining neurons to be more independent because they learn rated not in conjunction/cooperation with neighboring neuron; roughly doubles the number of iterations required for convergence but training time for each epoch is less."
   ]
  },
  {
   "cell_type": "markdown",
   "metadata": {},
   "source": [
    "**Activation Functions** – aka transfer functions; functions that take a weighted sum of all inputs from previous layer and generates an output value for the next layer; for each node, it defines the output of the node given an input or set of inputs. \n",
    "- Tanh activation – a non-linear activation function that outputs values between -1.0 and 1.0 and the center falls around 0; limitations are that it can have limited sensitivity and is prone to saturation in larger, more layered networks due to vanishing gradients.\n",
    "- Sigmoid activation – a non-linear activation function similar to a logistic function, where inputs produce a result between 0 and 1; sigmoid outputs are not centered around 0; not necessarily good for many layered networks due to vanishing gradients, and drawbacks include it can be prone to saturation and kill gradient movement.\n",
    "![title](img/tanh.png) "
   ]
  },
  {
   "cell_type": "markdown",
   "metadata": {},
   "source": [
    "**Gradient Descent** - A method for looking for minimum or maximum values for a parameter.  The data is evaluatied in computations to determine if the current comutation is moving towards the goal minimum or maximum compared to the last computation.   \n",
    "\n",
    "**Types of Gradient Descent** \n",
    "- **Batch Gradient Descent** – batch size is set to total number of examples in the training dataset\n",
    "- **Stochastic Gradient Descent** – batch size is set to one\n",
    "- **Minibatch Gradient Descent** – batch size is set to more than one and less than the total number of examples in the training dataset. "
   ]
  },
  {
   "cell_type": "markdown",
   "metadata": {},
   "source": [
    "**Stochastic Gradient Descent Parameters**\n",
    " - **Nesterov** - In the standard Momentum method, the gradient is computed using current parameters. Nesterov momentum achieves stronger convergence by applying the velocity to the parameters in order to compute interim parameters. These interim parameters are then used to compute the gradient, called a \"lookahead\" gradient step. (https://golden.com/wiki/Nesterov_momentum ) \n",
    " - **Momentum** - Determines how much previous gradients effect the current iteration. Ususally this is set to .9 which allows the model to make large leaps when moving in one direction, but decreases when the most recent result finds a change in direction. It im improves the speed of optimization in concert with step size by helping SGD algorithm navigate in relevant/optimal directions; in other words, it adds inertia to the algorithm update process to continue moving in the optimal direction; best to begin with smaller momentum and then increase after passing through larger gradients – momentum can cause learning process to miss or oscillate around the minima. \n",
    "- Math: adds a fraction of the direction of the previous step to a current step\n",
    "- Range: 0.0 to 1.0, traditional default 0.9, 0.99 or 0.5 "
   ]
  },
  {
   "cell_type": "code",
   "execution_count": 107,
   "metadata": {},
   "outputs": [
    {
     "name": "stdout",
     "output_type": "stream",
     "text": [
      "0\n",
      "Epoch 1/50\n",
      "2567/2567 - 22s - loss: 0.5829 - accuracy: 0.6859 - val_binary_crossentropy: 0.6689 - auc_8: 0.7548 - val_loss: 0.6713 - val_accuracy: 0.5858 - val_val_binary_crossentropy: 0.6929 - val_auc_8: 0.6267\n",
      "1\n",
      "Epoch 2/50\n",
      "2567/2567 - 21s - loss: 0.5260 - accuracy: 0.7324 - val_binary_crossentropy: 0.6479 - auc_8: 0.8117 - val_loss: 0.6641 - val_accuracy: 0.6183 - val_val_binary_crossentropy: 0.6956 - val_auc_8: 0.6373\n",
      "2\n",
      "Epoch 3/50\n",
      "2567/2567 - 21s - loss: 0.5142 - accuracy: 0.7402 - val_binary_crossentropy: 0.6439 - auc_8: 0.8213 - val_loss: 0.6807 - val_accuracy: 0.6172 - val_val_binary_crossentropy: 0.6988 - val_auc_8: 0.6280\n",
      "3\n",
      "Epoch 4/50\n",
      "2567/2567 - 21s - loss: 0.5085 - accuracy: 0.7442 - val_binary_crossentropy: 0.6419 - auc_8: 0.8259 - val_loss: 0.7055 - val_accuracy: 0.6017 - val_val_binary_crossentropy: 0.7063 - val_auc_8: 0.6238\n",
      "4\n",
      "Epoch 5/50\n",
      "2567/2567 - 21s - loss: 0.5049 - accuracy: 0.7467 - val_binary_crossentropy: 0.6407 - auc_8: 0.8287 - val_loss: 0.6816 - val_accuracy: 0.6112 - val_val_binary_crossentropy: 0.7011 - val_auc_8: 0.6238\n",
      "5\n",
      "Epoch 6/50\n",
      "2567/2567 - 21s - loss: 0.5023 - accuracy: 0.7487 - val_binary_crossentropy: 0.6398 - auc_8: 0.8308 - val_loss: 0.6849 - val_accuracy: 0.6097 - val_val_binary_crossentropy: 0.7024 - val_auc_8: 0.6203\n",
      "6\n",
      "Epoch 7/50\n",
      "2567/2567 - 21s - loss: 0.5002 - accuracy: 0.7499 - val_binary_crossentropy: 0.6391 - auc_8: 0.8323 - val_loss: 0.6794 - val_accuracy: 0.6114 - val_val_binary_crossentropy: 0.6996 - val_auc_8: 0.6264\n",
      "7\n",
      "Epoch 8/50\n",
      "2567/2567 - 21s - loss: 0.4985 - accuracy: 0.7510 - val_binary_crossentropy: 0.6385 - auc_8: 0.8337 - val_loss: 0.6994 - val_accuracy: 0.6010 - val_val_binary_crossentropy: 0.7055 - val_auc_8: 0.6240\n",
      "8\n",
      "Epoch 9/50\n",
      "2567/2567 - 21s - loss: 0.4971 - accuracy: 0.7520 - val_binary_crossentropy: 0.6380 - auc_8: 0.8347 - val_loss: 0.7138 - val_accuracy: 0.5974 - val_val_binary_crossentropy: 0.7082 - val_auc_8: 0.6145\n",
      "9\n",
      "Epoch 10/50\n",
      "2567/2567 - 21s - loss: 0.4959 - accuracy: 0.7528 - val_binary_crossentropy: 0.6376 - auc_8: 0.8356 - val_loss: 0.7128 - val_accuracy: 0.5964 - val_val_binary_crossentropy: 0.7090 - val_auc_8: 0.6250\n",
      "10\n",
      "Epoch 11/50\n",
      "2567/2567 - 21s - loss: 0.4948 - accuracy: 0.7534 - val_binary_crossentropy: 0.6372 - auc_8: 0.8365 - val_loss: 0.7213 - val_accuracy: 0.5965 - val_val_binary_crossentropy: 0.7094 - val_auc_8: 0.6167\n",
      "11\n",
      "Epoch 12/50\n",
      "2567/2567 - 21s - loss: 0.4938 - accuracy: 0.7542 - val_binary_crossentropy: 0.6369 - auc_8: 0.8372 - val_loss: 0.7288 - val_accuracy: 0.5941 - val_val_binary_crossentropy: 0.7110 - val_auc_8: 0.6176\n",
      "12\n",
      "Epoch 13/50\n",
      "2567/2567 - 21s - loss: 0.4930 - accuracy: 0.7547 - val_binary_crossentropy: 0.6366 - auc_8: 0.8378 - val_loss: 0.7235 - val_accuracy: 0.5951 - val_val_binary_crossentropy: 0.7099 - val_auc_8: 0.6208\n",
      "13\n",
      "Epoch 14/50\n",
      "2567/2567 - 21s - loss: 0.4919 - accuracy: 0.7555 - val_binary_crossentropy: 0.6362 - auc_8: 0.8387 - val_loss: 0.7454 - val_accuracy: 0.5843 - val_val_binary_crossentropy: 0.7151 - val_auc_8: 0.6144\n",
      "14\n",
      "Epoch 15/50\n",
      "2567/2567 - 21s - loss: 0.4912 - accuracy: 0.7558 - val_binary_crossentropy: 0.6360 - auc_8: 0.8392 - val_loss: 0.7685 - val_accuracy: 0.5818 - val_val_binary_crossentropy: 0.7181 - val_auc_8: 0.6146\n",
      "15\n",
      "Epoch 16/50\n",
      "2567/2567 - 21s - loss: 0.4904 - accuracy: 0.7564 - val_binary_crossentropy: 0.6358 - auc_8: 0.8397 - val_loss: 0.7396 - val_accuracy: 0.5879 - val_val_binary_crossentropy: 0.7128 - val_auc_8: 0.6062\n",
      "16\n",
      "Epoch 17/50\n",
      "2567/2567 - 21s - loss: 0.4896 - accuracy: 0.7570 - val_binary_crossentropy: 0.6355 - auc_8: 0.8404 - val_loss: 0.7356 - val_accuracy: 0.5866 - val_val_binary_crossentropy: 0.7130 - val_auc_8: 0.6085\n",
      "17\n",
      "Epoch 18/50\n",
      "2567/2567 - 21s - loss: 0.4890 - accuracy: 0.7573 - val_binary_crossentropy: 0.6353 - auc_8: 0.8408 - val_loss: 0.7323 - val_accuracy: 0.5897 - val_val_binary_crossentropy: 0.7106 - val_auc_8: 0.6125\n",
      "18\n",
      "Epoch 19/50\n",
      "2567/2567 - 21s - loss: 0.4882 - accuracy: 0.7579 - val_binary_crossentropy: 0.6350 - auc_8: 0.8414 - val_loss: 0.7377 - val_accuracy: 0.5881 - val_val_binary_crossentropy: 0.7125 - val_auc_8: 0.6072\n",
      "19\n",
      "Epoch 20/50\n",
      "2567/2567 - 21s - loss: 0.4878 - accuracy: 0.7581 - val_binary_crossentropy: 0.6349 - auc_8: 0.8417 - val_loss: 0.8088 - val_accuracy: 0.5715 - val_val_binary_crossentropy: 0.7237 - val_auc_8: 0.6018\n",
      "20\n",
      "Epoch 21/50\n",
      "2567/2567 - 21s - loss: 0.4873 - accuracy: 0.7584 - val_binary_crossentropy: 0.6347 - auc_8: 0.8421 - val_loss: 0.7096 - val_accuracy: 0.5920 - val_val_binary_crossentropy: 0.7075 - val_auc_8: 0.6100\n",
      "21\n",
      "Epoch 22/50\n",
      "2567/2567 - 21s - loss: 0.4866 - accuracy: 0.7590 - val_binary_crossentropy: 0.6345 - auc_8: 0.8426 - val_loss: 0.7760 - val_accuracy: 0.5760 - val_val_binary_crossentropy: 0.7196 - val_auc_8: 0.6072\n",
      "22\n",
      "Epoch 23/50\n",
      "2567/2567 - 21s - loss: 0.4862 - accuracy: 0.7591 - val_binary_crossentropy: 0.6343 - auc_8: 0.8429 - val_loss: 0.7480 - val_accuracy: 0.5801 - val_val_binary_crossentropy: 0.7148 - val_auc_8: 0.6005\n",
      "23\n",
      "Epoch 24/50\n",
      "2567/2567 - 21s - loss: 0.4855 - accuracy: 0.7595 - val_binary_crossentropy: 0.6341 - auc_8: 0.8433 - val_loss: 0.7538 - val_accuracy: 0.5797 - val_val_binary_crossentropy: 0.7156 - val_auc_8: 0.6007\n",
      "24\n",
      "Epoch 25/50\n",
      "2567/2567 - 21s - loss: 0.4851 - accuracy: 0.7598 - val_binary_crossentropy: 0.6340 - auc_8: 0.8437 - val_loss: 0.7363 - val_accuracy: 0.5914 - val_val_binary_crossentropy: 0.7104 - val_auc_8: 0.6102\n",
      "25\n",
      "Epoch 26/50\n",
      "2567/2567 - 21s - loss: 0.4847 - accuracy: 0.7603 - val_binary_crossentropy: 0.6338 - auc_8: 0.8440 - val_loss: 0.7289 - val_accuracy: 0.5854 - val_val_binary_crossentropy: 0.7102 - val_auc_8: 0.6039\n",
      "26\n",
      "Epoch 27/50\n",
      "2567/2567 - 21s - loss: 0.4842 - accuracy: 0.7604 - val_binary_crossentropy: 0.6337 - auc_8: 0.8444 - val_loss: 0.7779 - val_accuracy: 0.5746 - val_val_binary_crossentropy: 0.7179 - val_auc_8: 0.5954\n",
      "27\n",
      "Epoch 28/50\n",
      "2567/2567 - 21s - loss: 0.4839 - accuracy: 0.7607 - val_binary_crossentropy: 0.6335 - auc_8: 0.8446 - val_loss: 0.7314 - val_accuracy: 0.5814 - val_val_binary_crossentropy: 0.7101 - val_auc_8: 0.5979\n",
      "28\n",
      "Epoch 29/50\n",
      "2567/2567 - 21s - loss: 0.4835 - accuracy: 0.7609 - val_binary_crossentropy: 0.6334 - auc_8: 0.8448 - val_loss: 0.7449 - val_accuracy: 0.5777 - val_val_binary_crossentropy: 0.7129 - val_auc_8: 0.5939\n",
      "29\n",
      "Epoch 30/50\n",
      "2567/2567 - 21s - loss: 0.4831 - accuracy: 0.7613 - val_binary_crossentropy: 0.6333 - auc_8: 0.8452 - val_loss: 0.7523 - val_accuracy: 0.5781 - val_val_binary_crossentropy: 0.7165 - val_auc_8: 0.5947\n",
      "30\n",
      "Epoch 31/50\n",
      "2567/2567 - 21s - loss: 0.4826 - accuracy: 0.7616 - val_binary_crossentropy: 0.6331 - auc_8: 0.8455 - val_loss: 0.7442 - val_accuracy: 0.5782 - val_val_binary_crossentropy: 0.7145 - val_auc_8: 0.5979\n",
      "31\n",
      "Epoch 32/50\n",
      "2567/2567 - 21s - loss: 0.4824 - accuracy: 0.7617 - val_binary_crossentropy: 0.6330 - auc_8: 0.8457 - val_loss: 0.7483 - val_accuracy: 0.5782 - val_val_binary_crossentropy: 0.7142 - val_auc_8: 0.5925\n",
      "32\n",
      "Epoch 33/50\n",
      "2567/2567 - 21s - loss: 0.4820 - accuracy: 0.7620 - val_binary_crossentropy: 0.6329 - auc_8: 0.8460 - val_loss: 0.7764 - val_accuracy: 0.5710 - val_val_binary_crossentropy: 0.7196 - val_auc_8: 0.5900\n",
      "33\n",
      "Epoch 34/50\n",
      "2567/2567 - 21s - loss: 0.4817 - accuracy: 0.7621 - val_binary_crossentropy: 0.6328 - auc_8: 0.8462 - val_loss: 0.7390 - val_accuracy: 0.5778 - val_val_binary_crossentropy: 0.7122 - val_auc_8: 0.5929\n",
      "34\n",
      "Epoch 35/50\n",
      "2567/2567 - 21s - loss: 0.4813 - accuracy: 0.7625 - val_binary_crossentropy: 0.6327 - auc_8: 0.8465 - val_loss: 0.7974 - val_accuracy: 0.5654 - val_val_binary_crossentropy: 0.7247 - val_auc_8: 0.5936\n",
      "35\n",
      "Epoch 36/50\n",
      "2567/2567 - 21s - loss: 0.4810 - accuracy: 0.7626 - val_binary_crossentropy: 0.6326 - auc_8: 0.8467 - val_loss: 0.7684 - val_accuracy: 0.5725 - val_val_binary_crossentropy: 0.7187 - val_auc_8: 0.5874\n",
      "36\n",
      "Epoch 37/50\n",
      "2567/2567 - 21s - loss: 0.4807 - accuracy: 0.7628 - val_binary_crossentropy: 0.6325 - auc_8: 0.8469 - val_loss: 0.7516 - val_accuracy: 0.5735 - val_val_binary_crossentropy: 0.7165 - val_auc_8: 0.5960\n",
      "37\n",
      "Epoch 38/50\n",
      "2567/2567 - 21s - loss: 0.4804 - accuracy: 0.7631 - val_binary_crossentropy: 0.6324 - auc_8: 0.8471 - val_loss: 0.7449 - val_accuracy: 0.5760 - val_val_binary_crossentropy: 0.7144 - val_auc_8: 0.5929\n",
      "38\n",
      "Epoch 39/50\n",
      "2567/2567 - 21s - loss: 0.4801 - accuracy: 0.7632 - val_binary_crossentropy: 0.6323 - auc_8: 0.8473 - val_loss: 0.7976 - val_accuracy: 0.5683 - val_val_binary_crossentropy: 0.7234 - val_auc_8: 0.5917\n",
      "39\n",
      "Epoch 40/50\n",
      "2567/2567 - 21s - loss: 0.4799 - accuracy: 0.7635 - val_binary_crossentropy: 0.6322 - auc_8: 0.8475 - val_loss: 0.7543 - val_accuracy: 0.5747 - val_val_binary_crossentropy: 0.7160 - val_auc_8: 0.5857\n",
      "40\n",
      "Epoch 41/50\n",
      "2567/2567 - 21s - loss: 0.4795 - accuracy: 0.7635 - val_binary_crossentropy: 0.6321 - auc_8: 0.8477 - val_loss: 0.7590 - val_accuracy: 0.5734 - val_val_binary_crossentropy: 0.7176 - val_auc_8: 0.5903\n",
      "41\n",
      "Epoch 42/50\n",
      "2567/2567 - 21s - loss: 0.4792 - accuracy: 0.7638 - val_binary_crossentropy: 0.6320 - auc_8: 0.8480 - val_loss: 0.7928 - val_accuracy: 0.5690 - val_val_binary_crossentropy: 0.7212 - val_auc_8: 0.5860\n",
      "42\n",
      "Epoch 43/50\n",
      "2567/2567 - 21s - loss: 0.4791 - accuracy: 0.7638 - val_binary_crossentropy: 0.6319 - auc_8: 0.8480 - val_loss: 0.7717 - val_accuracy: 0.5745 - val_val_binary_crossentropy: 0.7173 - val_auc_8: 0.5940\n",
      "43\n",
      "Epoch 44/50\n",
      "2567/2567 - 21s - loss: 0.4787 - accuracy: 0.7641 - val_binary_crossentropy: 0.6318 - auc_8: 0.8484 - val_loss: 0.7959 - val_accuracy: 0.5699 - val_val_binary_crossentropy: 0.7224 - val_auc_8: 0.5897\n",
      "44\n",
      "Epoch 45/50\n",
      "2567/2567 - 21s - loss: 0.4785 - accuracy: 0.7641 - val_binary_crossentropy: 0.6318 - auc_8: 0.8484 - val_loss: 0.7739 - val_accuracy: 0.5719 - val_val_binary_crossentropy: 0.7190 - val_auc_8: 0.5934\n",
      "45\n",
      "Epoch 46/50\n",
      "2567/2567 - 21s - loss: 0.4783 - accuracy: 0.7645 - val_binary_crossentropy: 0.6317 - auc_8: 0.8486 - val_loss: 0.7437 - val_accuracy: 0.5791 - val_val_binary_crossentropy: 0.7139 - val_auc_8: 0.5895\n",
      "46\n",
      "Epoch 47/50\n",
      "2567/2567 - 21s - loss: 0.4779 - accuracy: 0.7646 - val_binary_crossentropy: 0.6316 - auc_8: 0.8489 - val_loss: 0.7377 - val_accuracy: 0.5724 - val_val_binary_crossentropy: 0.7139 - val_auc_8: 0.5849\n",
      "47\n",
      "Epoch 48/50\n",
      "2567/2567 - 21s - loss: 0.4776 - accuracy: 0.7649 - val_binary_crossentropy: 0.6314 - auc_8: 0.8491 - val_loss: 0.8027 - val_accuracy: 0.5654 - val_val_binary_crossentropy: 0.7227 - val_auc_8: 0.5867\n",
      "48\n",
      "Epoch 49/50\n",
      "2567/2567 - 21s - loss: 0.4775 - accuracy: 0.7648 - val_binary_crossentropy: 0.6314 - auc_8: 0.8492 - val_loss: 0.7664 - val_accuracy: 0.5702 - val_val_binary_crossentropy: 0.7156 - val_auc_8: 0.5857\n",
      "49\n",
      "Epoch 50/50\n",
      "2567/2567 - 21s - loss: 0.4772 - accuracy: 0.7651 - val_binary_crossentropy: 0.6313 - auc_8: 0.8494 - val_loss: 0.7546 - val_accuracy: 0.5728 - val_val_binary_crossentropy: 0.7158 - val_auc_8: 0.5905\n"
     ]
    }
   ],
   "source": [
    "Att_model = define_predictor()\n",
    "history = Att_model.fit(scaler.fit_transform(X_train),\n",
    "                        np.array(y_train),\n",
    "                        callbacks=get_callbacks(),\n",
    "                        verbose=2, \n",
    "#                        steps_per_epoch = 5, \n",
    "                        epochs=50, \n",
    "                        batch_size=BATCH_SIZE,\n",
    "                        validation_data =  ( X_validate, y_validate ))"
   ]
  },
  {
   "cell_type": "code",
   "execution_count": 96,
   "metadata": {},
   "outputs": [
    {
     "name": "stdout",
     "output_type": "stream",
     "text": [
      "16500/16500 [==============================] - 40s 2ms/step - loss: 0.4688 - accuracy: 0.7705 - val_binary_crossentropy: 0.6265 - auc_7: 0.8557\n"
     ]
    }
   ],
   "source": [
    "results = Att_model.evaluate(scaler.fit_transform(X_test),np.array(y_test), batch_size=100)"
   ]
  },
  {
   "cell_type": "code",
   "execution_count": 97,
   "metadata": {},
   "outputs": [],
   "source": [
    "predictions = Att_model.predict(scaler.fit_transform(X_test))"
   ]
  },
  {
   "cell_type": "code",
   "execution_count": 98,
   "metadata": {},
   "outputs": [
    {
     "data": {
      "text/html": [
       "<div>\n",
       "<style scoped>\n",
       "    .dataframe tbody tr th:only-of-type {\n",
       "        vertical-align: middle;\n",
       "    }\n",
       "\n",
       "    .dataframe tbody tr th {\n",
       "        vertical-align: top;\n",
       "    }\n",
       "\n",
       "    .dataframe thead th {\n",
       "        text-align: right;\n",
       "    }\n",
       "</style>\n",
       "<table border=\"1\" class=\"dataframe\">\n",
       "  <thead>\n",
       "    <tr style=\"text-align: right;\">\n",
       "      <th></th>\n",
       "      <th>0</th>\n",
       "    </tr>\n",
       "  </thead>\n",
       "  <tbody>\n",
       "    <tr>\n",
       "      <th>0</th>\n",
       "      <td>0.902757</td>\n",
       "    </tr>\n",
       "    <tr>\n",
       "      <th>1</th>\n",
       "      <td>0.704698</td>\n",
       "    </tr>\n",
       "    <tr>\n",
       "      <th>2</th>\n",
       "      <td>0.401465</td>\n",
       "    </tr>\n",
       "    <tr>\n",
       "      <th>3</th>\n",
       "      <td>0.593673</td>\n",
       "    </tr>\n",
       "    <tr>\n",
       "      <th>4</th>\n",
       "      <td>0.599746</td>\n",
       "    </tr>\n",
       "  </tbody>\n",
       "</table>\n",
       "</div>"
      ],
      "text/plain": [
       "          0\n",
       "0  0.902757\n",
       "1  0.704698\n",
       "2  0.401465\n",
       "3  0.593673\n",
       "4  0.599746"
      ]
     },
     "execution_count": 98,
     "metadata": {},
     "output_type": "execute_result"
    }
   ],
   "source": [
    "preddf = pd.DataFrame(predictions)\n",
    "preddf.head()"
   ]
  },
  {
   "cell_type": "code",
   "execution_count": 99,
   "metadata": {},
   "outputs": [],
   "source": [
    "import numpy as np\n",
    "import matplotlib.pyplot as plt\n",
    "from itertools import cycle\n",
    "\n",
    "from sklearn import svm, datasets\n",
    "from sklearn.metrics import roc_curve, auc\n",
    "from sklearn.model_selection import train_test_split\n",
    "from sklearn.preprocessing import label_binarize\n",
    "from sklearn.multiclass import OneVsRestClassifier\n",
    "from scipy import interp\n",
    "from sklearn.metrics import roc_auc_score\n",
    "\n",
    "preddf['round'] = preddf.round(preddf[0])\n",
    "\n",
    "yresultsround = preddf['round'].tolist()\n",
    "yresultsround[2]\n",
    "y_test.shape\n",
    "y_test[2]\n",
    "\n",
    "ybinary = label_binarize(y_test, classes=[0,1])\n",
    "y_score = label_binarize(yresultsround, classes=[0,1])"
   ]
  },
  {
   "cell_type": "markdown",
   "metadata": {},
   "source": [
    "### Computing Power Used to Train and Test Replicated Model\n",
    "\n",
    "We used an AWS Deep Learning AMI. The AMIs provide machine learning practitioners and researchers with the infrastructure and tools to accelerate deep learning in the cloud, at any scale. You can quickly launch Amazon EC2 instances(servers) pre-installed with popular deep learning frameworks and interfaces such as TensorFlow, PyTorch, Apache MXNet, Chainer, Gluon, Horovod, and Keras to train sophisticated, custom AI models, experiment with new algorithms, or to learn new skills and techniques.  (https://aws.amazon.com/machine-learning/amis/)\n",
    "\n",
    "The server we utlized was an Amazon EC2 G3. The G3 instances are the latest generation of Amazon EC2 GPU graphics instances that deliver a powerful combination of CPU, host memory, and GPU capacity. G3 instances are ideal for graphics-intensive applications such as 3D visualizations, mid to high-end virtual workstations, virtual application software, 3D rendering, application streaming, video encoding, gaming, and other server-side graphics workloads.  \n",
    "\n",
    "Our specific instance  has 32 vCPUs based on custom 2.7 GHz Intel Xeon E5 2686 v4 processors and 244 GiB of DRAM host memory. Backed by2 NVIDIA Tesla M60 GPUs, with each GPU delivering up to 2,048 parallel processing cores and 8 GiB of GPU memory. (https://aws.amazon.com/ec2/instance-types/g3/)\n",
    "\n",
    "| Name | GPUs | vCPU | Memory (GiB) | GPU Memory (GiB) |\n",
    "|-|-|-|-|-|\n",
    "| g3.8xlarge | 2 | 32 | 244 | 16 |"
   ]
  },
  {
   "cell_type": "markdown",
   "metadata": {},
   "source": [
    "### Comparison Metrics"
   ]
  },
  {
   "cell_type": "markdown",
   "metadata": {},
   "source": [
    "**Training, Evaluation and Testing Data** - Our ratio of train vs validation/test size was 70% to 30%. Of the 30% held back for validation and test, 50% was allocated to each. This generally follows using 80% or less to train with in order to avoid overfitting. \n",
    "\n",
    "In the paper, Baldi and team produced Receiver Operating Characteristic (ROC) curves to illustrate performance of the models, using the area under the ROC curve (AUC) as the measurement metric. This metric is directly related to classiciation accuracy and correlated to other metrics. Thus is a solid choice for comparison in this scenario. \n",
    "\n",
    "With AUC, larger values indicate higher classification accuracy, so our goal is to obtain higher values. From the paper, it appears they achieved an **AUC score of 0.88** for both the low-level feature set and the complete feature set when utilizing the dropout training algorithm (stochastically dropping neurons in the top hidden layer with 50% probablity during training). (We are most interested in the complete feature set as we used all the features in our comparative analysis). For our results, we were able to obtain an **AUC score of 0.8556 on the validation data** and an **AUC score of 0.8556 on prediction data**. "
   ]
  },
  {
   "cell_type": "markdown",
   "metadata": {},
   "source": [
    "#### Validation ROC:"
   ]
  },
  {
   "cell_type": "code",
   "execution_count": 103,
   "metadata": {},
   "outputs": [
    {
     "name": "stdout",
     "output_type": "stream",
     "text": [
      "AUC of ROC Curve: 0.8555619018456299\n"
     ]
    },
    {
     "data": {
      "image/png": "[encoded data removed]",
      "text/plain": [
       "<Figure size 432x288 with 1 Axes>"
      ]
     },
     "metadata": {
      "needs_background": "light"
     },
     "output_type": "display_data"
    }
   ],
   "source": [
    "import sklearn as sk\n",
    "#Calculate the scores using the first model (replica)\n",
    " \n",
    "scores_1 = Att_model.predict(scaler.fit_transform(X_validate))\n",
    "\n",
    "fpr, tpr, thresholds = sk.metrics.roc_curve(y_validate, scores_1)\n",
    "\n",
    "#Display the ROC score and plot\n",
    "roc_auc = sk.metrics.roc_auc_score(y_validate, scores_1)\n",
    "\n",
    "print(\"AUC of ROC Curve:\", roc_auc)\n",
    "plt.plot(fpr, tpr)\n",
    "\n",
    "plt.title(\"ROC Curve\")\n",
    "\n",
    "plt.xlabel(\"False Positive Rate\")\n",
    "\n",
    "plt.ylabel(\"True Positive Rate\")\n",
    "\n",
    "plt.show()"
   ]
  },
  {
   "cell_type": "markdown",
   "metadata": {},
   "source": [
    "#### Prediction ROC:"
   ]
  },
  {
   "cell_type": "code",
   "execution_count": 101,
   "metadata": {},
   "outputs": [
    {
     "name": "stdout",
     "output_type": "stream",
     "text": [
      "AUC of ROC Curve: 0.8556648679350376\n"
     ]
    },
    {
     "data": {
      "image/png": "[encoded data removed]",
      "text/plain": [
       "<Figure size 432x288 with 1 Axes>"
      ]
     },
     "metadata": {
      "needs_background": "light"
     },
     "output_type": "display_data"
    }
   ],
   "source": [
    "import sklearn as sk\n",
    "#Calculate the scores using the first model (replica)\n",
    "scores_1 = Att_model.predict(scaler.fit_transform(X_test))\n",
    "\n",
    "fpr, tpr, thresholds = sk.metrics.roc_curve(y_test, scores_1)\n",
    "\n",
    "#Display the ROC score and plot\n",
    "roc_auc = sk.metrics.roc_auc_score(y_test, scores_1)\n",
    "\n",
    "print(\"AUC of ROC Curve:\", roc_auc)\n",
    "plt.plot(fpr, tpr)\n",
    "\n",
    "plt.title(\"ROC Curve\")\n",
    "\n",
    "plt.xlabel(\"False Positive Rate\")\n",
    "\n",
    "plt.ylabel(\"True Positive Rate\")\n",
    "\n",
    "plt.show()"
   ]
  },
  {
   "cell_type": "markdown",
   "metadata": {},
   "source": [
    "## Now vs Then: Best Practices and Recommendations"
   ]
  },
  {
   "cell_type": "markdown",
   "metadata": {},
   "source": [
    "### Idea 1: Explore New Python Packages and Other Software\n",
    "Today, there are newer packages that require a lot less effort and are more efficient than **TensorFlow** and **Keras**. TensorFlow is an end to end open-source library used for machine learning and neural networks that are simple to understand, but does not allow for much flexibility as some of the newer APIs. \n",
    "\n",
    "PyTorch is becoming one of the more popular packages out there. PyTorch is a Python-based scientific computing package that combines the flexibility of NumPy arrays with the power to use GPUs. (PyTorch tensors are similar to NumPy arrays.) It is designed to provide maximum flexibility and speed. PyTouch is model to be similar to Pandas, so the learning curve is much more gradual.\n",
    "\n",
    "\n",
    "\n",
    "### Activation Functions: We would explore using the newer activation functions of ReLU, Softwmax vs tanh or Sigmoid.\n",
    "\n",
    "\n",
    "**Softmax activation** – \"This function converts numbers to probabilities that sum up to one. It outputs a vector that denotes the probability distributions of a list of potenmtial outcomes\"\n",
    "![title](img/Softmax.png) \n",
    "\n",
    "Reference: https://medium.com/data-science-bootcamp/understand-the-softmax-function-in-minutes-f3a59641e86d#:~:text=Specifically%20trying%20out%20neural%20networks,a%20list%20of%20potential%20outcomes.\n",
    "\n",
    "**Sigmoid activation** - \"Sigmoid activation functions use a second non-linearity for large inputs. Being in the range from zero and one, sigmoid activations can be interpreted as probabilities. If a range from -1 to 1 is desired, the sigmoid can be scaled and shifted to yield the hyperbolic tangent activation function\"\n",
    "![title](img/Sigmoid.png) \n",
    "\n",
    "Reference: https://en.wikipedia.org/wiki/Activation_function#:~:text=Sigmoid%20activation%20functions%20use%20a,the%20hyperbolic%20tangent%20activation%20function%3A%20.\n",
    "\n",
    "**tanh** - \"tanh is similar to a logistic sigmoid but better. The range of the tanh function is from (-1 to 1). tanh is also sigmoidal (s - shaped). The advantage is that the negative inputs will be mapped strongly negative and the zero inputs will be mapped near zero in the tanh graph.\"\n",
    "![title](img/tanh.png) \n",
    "\n",
    "Reference: https://towardsdatascience.com/activation-functions-neural-networks-1cbd9f8d91d6#:~:text=tanh%20is%20also%20like%20logistic,sigmoidal%20(s%20%2D%20shaped).&text=The%20advantage%20is%20that%20the,zero%20in%20the%20tanh%20graph.\n",
    "\n",
    "\n",
    "**ReLU activation** – Rectified Linear Unit activation function, is a piecewise linear function that outputs the input directly if positive (otherwise, output 0). Default activation, easy train, better performance, activation is threshold at 0, can accelerate SGD, implemented by simply thresholding matrix of activations at 0, can be fragile where weights could update in a way for neuron to not activate again (Leaky ReLU attempts to fix dying problem)\n",
    "![title](img/ReLU_vs_Sigmoid.png) \n",
    "\n",
    "\n",
    "### Sampling\n",
    "- Training and Testing using different splits of the data. Baldi et al used 99% of the data for training and a 1% for testing.  We recommend using an 80% train and 20% test setbut other options such as 70/30 should also be explored.\n",
    "\n",
    "### ADAM Optimizer\n",
    "- \"Adam is an optimization algorithm that can be used instead of the classical stochastic gradient descent procedure to update network weights iteratively based on the training data.\"  We leveraged the Adam optimizer for our model but clearly given our accuracyt scores, more refinement is required to obtian the most optimal parameter settings.\n",
    "\n",
    "Reference: https://machinelearningmastery.com/adam-optimization-algorithm-for-deep-learning/#:~:text=Adam%20is%20an%20optimization%20algorithm,iterative%20based%20in%20training%20data.&text=The%20algorithm%20is%20called%20Adam."
   ]
  },
  {
   "cell_type": "markdown",
   "metadata": {
    "colab_type": "text",
    "id": "uXJxtwBWIhjG"
   },
   "source": [
    "## Conclusions\n",
    "\n",
    "While we were able to leverage the use of different hyper-parameters and functions within Tensorflow and Keras, we were not able to achieve the same ROC scores per Baldi et al in their original paper. It is also evident that neural networks provides extensive functionality and power to build models of such complexity with relative ease and reduced coding. The key learning for us was the importance of **tuning** the hyper-parameters and therefore understanding their impact on model performance and execution. Learning rate and the time spent training had the highest impact. Most of the other parameters adjust how learning rate behaved through out the training process. We found that a large learning rate was needed to get model to increase accuracy at an acceptable rate.  We would increase the number of epochs to give the model more time find the minimum if we had more time and resources available to match Baldi’s research."
   ]
  }
 ],
 "metadata": {
  "accelerator": "GPU",
  "colab": {
   "collapsed_sections": [],
   "machine_shape": "hm",
   "name": "overfit_and_underfit.ipynb",
   "private_outputs": true,
   "provenance": [],
   "toc_visible": true
  },
  "kernelspec": {
   "display_name": "Python 3",
   "language": "python",
   "name": "python3"
  },
  "language_info": {
   "codemirror_mode": {
    "name": "ipython",
    "version": 3
   },
   "file_extension": ".py",
   "mimetype": "text/x-python",
   "name": "python",
   "nbconvert_exporter": "python",
   "pygments_lexer": "ipython3",
   "version": "3.7.1"
  }
 },
 "nbformat": 4,
 "nbformat_minor": 1
}

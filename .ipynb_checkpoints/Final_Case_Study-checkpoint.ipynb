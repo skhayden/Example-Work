{
 "cells": [
  {
   "cell_type": "markdown",
   "metadata": {},
   "source": [
    "# Final Case Study: Quantifying the World\n",
    "\n",
    "\n",
    "#### Steven Hayden"
   ]
  },
  {
   "cell_type": "markdown",
   "metadata": {},
   "source": [
    "---\n",
    "# INTRODUCTION\n",
    "\n",
    "We have been given a dataset with 50 explanatory variables and one response variable, and our objective is to minimize the cost of the predicted response using specific cost penalties. The dataset contains 160,000 observations, where the response variable \"y\" is binary (1, 0). Without domain knowledge or intrinsic information about the data, our analysis will begin with a comprehensive exploratory data analysis (EDA) to understand the characteristics of the data as a whole and the individual variables. Then, we will build several predictive models to minimize the cost penalties noted above. \n",
    "\n",
    "---"
   ]
  },
  {
   "cell_type": "markdown",
   "metadata": {},
   "source": [
    "# BUSINESS OBJECTIVE\n",
    "\n",
    "The business objective for this analysis is to specifically reduce cost penalties, which are directly related to predicted False Positive (FP) and False Negative (FN) rates. False Negatives have a major adverse impact on the business objective, so we will focus here as a priority. While important, False Positives are 50 times less impactful than False Negatives.\n",
    "\n",
    "Specifically, we have been informed that each False Positive prediction costs the business \\\\$10, and each False Negative prediction has a cost of \\\\$500. Correct predictions -- True Positives (TP) and True Negatives (TN) -- have no impact on the business cost ($0). To find an optimal model, we will focus on the metrics of Recall and Precision. Recall is defined as True Positives divided by True Positives and False Negatives -- (TP) / (TP + FN) -- and will indicate how many results were incorrectly predicted. In complement, Precision -- (TP) /  (TP + FP) -- indicates which model is accurately picking correct classes or correctly classifying observations. While we are looking for larger Recall and Precision figures, above all else we want to minimize cost. \n",
    "\n",
    "The model we deliver must be able to be deployed in a production environment and be generalized for future application of new data. Below, we will detail the steps we have taken to arrive at an optimal model to recommend; the steps include a cursory data review to an in-dept data exploration and analysis, creating a baseline model, developing different predictive models, exploring dimensionality reduction, optimization and tuning the best models, and finally recommending a model to minimize business costs.\n",
    "\n",
    "---"
   ]
  },
  {
   "cell_type": "markdown",
   "metadata": {},
   "source": [
    "# EXECUTIVE SUMMARY\n",
    "\n",
    "Here we provide an executive summary of the analysis and methodology used to explore and model the data, along with information about our evaluation process to ultimately recommend an optimal model that meets the business objective outlined. \n",
    "\n",
    "## Exploratory Data Analysis (EDA)\n",
    "\n",
    "We began with basic analysis of the dataset, which has 160,000 observations (rows) and 51 attributes (columns). Most of the attributes were numeric; the remaining non-numeric data fields were explored further to determine if a conversion or encoding was needed. Additionally, we noted data was missing from 1608 observations (approximately 1.005%), which is addressed in our data processing.\n",
    "    ![title](img/datatypes2.png)\n",
    "    \n",
    "Next, we assessed several statistical assumptions, which are necessary for good model results. A profile of each attribute showed the continuous data meets the normality assumption, where data follows a normal (Gaussian) distribution. (See Pandas Profile for details.) Looking at our categorical attributes, we considered cardinality, or how many unique responses were present, to determine how to best manage this data. To validate the assumption of independence, we considered the correlation between our attributes as illustrated by the Correlation Matrix below.  \n",
    "    ![title](img/PearsonCorrelation3.png) \n",
    "\n",
    "The results circled, where the value is 1 (Pearson correlation coefficient), indicates a strong linear relationship between the two attributes where one could predict the other with a substantial degree of accuracy. Therefore, they are not independent. Attributes x6 and x41 were excluded from further analysis as they were highly correlated with x2 and x38. Lastly, we concluded there were no outlier data points that needed to be addressed. We conclude the assumptions for modeling have been met and will next prepare the data for modeling."
   ]
  },
  {
   "cell_type": "markdown",
   "metadata": {},
   "source": [
    "## Data Processing\n",
    "\n",
    "We began with some data clean-up to check for format and spelling consistency. We noted the following: Region (x24) has spelling and case issues; and Months (x29) and Days (x30) were inconsistent in format. We bring these to your attention merely for informational purposes. Additionally, we addressed special characters: $ was removed; and % was encoded for the cardinality as noted above.\n",
    "\n",
    "**Missing Data Imputation Strategy**<br>\n",
    "The business team shared with us that the missing data is Missing At Random (MAR), which means the probability of missing values, at random, in a variable depend only on the available information in other predictors. MAR can be handled by using information in other predictors to impute missing information, so we elected to impute missing NULL values in the continuous attributes with the \"median\" of the respective attribute. This methodology is appropriate given the strong normality of the data and is a common imputation method that will not be overly influenced by outlier data. For the missing values (NANs) in the categorical data, we elected to drop those 119 records rather than impute given it represented merely 0.07% of the 160,000 records.\n",
    "\n",
    "**One-hot Encoding of Categorical Data**<br>\n",
    "One Hot Encoding (ohe) is a popular approach to convert categorical data to a format that enhances the predictive capability of models. It works best when the cardinality of categorical data is low and is not advisable for attributes where there are more than 15 different classes. Given the distribution of our data as shown below, the variables x24, x29, x30, and x32 were encoded. This technique will also help us determine the significance of categorical data as part of the modeling process. For example, Asia represents approximately 86% of the observations; and the summer months of May, June, July, and August seem particularly busy, as does midweek. As we explore the attribute importance later, these may be interesting to note.\n",
    "\n",
    "   ![title](img/onehotcandidates2.png)\n",
    "\n",
    "**Data Standardization**<br>\n",
    "We elected to standardize our continuous attributes, which will compress data within specific criteria and may aid in accelerating the modeling process. Given the normality of our data as noted above, we opted for MinMax scaling to compress data into the range from 0 to 1. This can result in smaller standard deviations and suppress the impact of outliers; however, we do not anticipate an issue here given the nature of our data.     \n",
    "    \n",
    "**Data Balance**<br>\n",
    "Comparing the outcomes of our response variable -- 0 vs 1 -- we see almost 60% of the data has a response of \"0\" while the outcome \"1\" makes up the remaining approximate 40%. We do not believe that this data is \"unbalanced\" but we will be mindful of this in our models to ensure the majority label is not being overclassified.\n",
    "    \n",
    "**Training/Testing Sampling Strategy**<br>\n",
    "To create and evaluate our models, we split our data into a training set and test set. By voluntarily holding back a portion of data, we can test model performance on \"new\" data. Using the entire dataset to train a model will allow it to always predict a correct category for that dataset. This process also prevents a model from overfitting to the data and being too optimistic in predicting outcomes. In our analysis, we split the data into training and test data sets (75:25) randomly. Additionally, we employed Cross Validation to prevent overfitting the model to the data. (Details can be found in the Baseline Modeling section in the Complete Analysis.)"
   ]
  },
  {
   "cell_type": "markdown",
   "metadata": {},
   "source": [
    "## Modeling\n",
    "In the modeling portion of our analysis, we first establish a set of baseline models that we will use for comparison of more advanced modeling later in the analysis. After completing the baseline, we explored if reducing the number of features in models would improve performance (Dimensionality Reduction), and then developed several ensemble models.\n",
    "\n",
    "### Establish a Baseline  \n",
    "To create a baseline, we selected five common machine learning algorithms -- Decision Trees, Random Forest, Logistic Regression, Gaussian-Naive Bayes, and XG-Boost -- to model all the attributes in our dataset; we utilized the defaults for these algorithms. The diversity of these algorithms and parameters that drive predictions provide a strong starting point. For each model, we examined the resulting confusion matrix (notably the False Positives (FP) and False Negatives (FN)), compared standard evaluation metrics of Accuracy, Precision, Recall, and Area under the Curve (defined below), and calculated the cost impact of the model as defined in our business objective.\n",
    "\n",
    "As seen below, the XG-Boost Model performed best of the baseline models, with the lowest cost impact, as well as the highest accuracy and largest area under the curve. It is a model similar to Random Forest, but uses Gradient Boosting techniques to optimize the loss function by adding weak learning models together to minimize the loss function. It is thought to be faster and sometimes able to get better results, as was the case here. However, sometimes it does overfit, so we will need to be aware of that trend as we proceed.\n",
    "\n",
    "   ![title](img/baselinecb4.png) \n",
    " \n",
    "#### Evaluation Metrics\n",
    "In order to evaluate the models, we reviewed several standard metrics, which are defined below. While the objective is to minimize cost impact, these metrics will also inform us about the models' performance. We aim to maximize our precision, recall, and accuracy scores in our models.\n",
    "\n",
    "As noted, a confusion matrix shows how a particular model performs by summarizing True Positives, False Positives, True Negatives, and False Negatives. We are most concerned with False Negatives and False Positives, but the metrics will also be informative. \n",
    "- Accuracy: total number of correct predictions over total number of predictions made; (TP + TN)/(TP + FP + FN + TN)\n",
    "- Precision: proportion of true positives over total number of positive outcomes, whether accurately predicted (TP) or inaccurately predicted (FP); (TP) / (TP + FP)\n",
    "- Recall: proportion of positive outcomes that were correctly classified by model; (TP) / (TP + FN)\n",
    "\n",
    "We further plotted ROC curves, also known as a Receiver Operation Characteristic Curve, to compare models based on the True Positive Rates (TPR) and False Positive Rates (FPR) for each classifier. An AUC (Area Under the Curve) score of 1.0 denotes a perfect classifier and an area of 0.5 represents a model which is no better than a random guess. Higher the AUC the better the classifier.\n",
    "\n",
    "### Dimensionality Reduction (Feature Reduction)\n",
    "The dataset contained 50 attributes, in addition to the target variable. An essential part of predictive modeling is to determine the importance of each attribute and understand its contribution to resulting predictions and model performance. Dimensionality reduction is an extension of this understanding and seeks to achieve simplicity and optimization in the model. Specifically, reducing the number of dimensions (or features) used in a model can:\n",
    "- Increase the goodness of model fit (R-squared metric)\n",
    "- Achieve the principle of *Occam's razor* or *the law of parsimony*, where simpler models are better and more likely to be correct in predictions\n",
    "- Improve an estimators accuracy scores\n",
    "- Boost performance especially on high-dimensional datasets\n",
    "\n",
    "We used **Recursive Feature Elimination with Cross-Validation (RFECV)** to restrict the features used in the model. This technique selects features by recursively considering smaller and smaller sets of features by: training an estimator on the baseline or complete set of features; using the resulting attribute coefficients to determine importance of each feature; trimming the least important features from the original data set; and recursively repeating this processes until the optimal set of features is reached. For this analysis, optimal features numbered 12: x7, x12, x20, x23, x27, x28, x37, x38,x42, x46, x48, and x49. The algorithm decided this based on the most optimal Recall.   \n",
    "   ![title](img/featurereduction.png)\n",
    "\n",
    "With this trimmed dataset after feature elimination, we again ran our best three baseline models -- Decision Tree, Random Forest, and XG-Boost -- with default parameters. Again, the XG-Boost performed the best and show some reduction in cost impact.\n",
    " \n",
    " ![title](img/afterfeaturereduction3.png)\n",
    " \n",
    "####  Parameter Tuning and Optimization\n",
    "With this set of well-performing models, we wanted to explore if tuning the parameters of our model could improve our results and drive costs down further. We used a random grid search technique (RandomizedSearchCV) to look for parameters of the various models. Rather than trying all parameter values, this method samples a fixed number of hyperparameter settings from specified probability distributions. Once the parameters were tuned, we again looked at our three best models with the reduced feature dataset and optimal parameters. The XG-Boost model yields the best results and drove the cost impact down by more than $200K from the prior XG-Boost model.\n",
    "\n",
    "  ![title](img/afterparametertuning3.png)\n",
    " \n",
    "### Ensemble Models\n",
    "As a final step, the team wanted to explore Ensemble Models to build from the good results already found. We combined the leading three models from the reduced data set with ensemble learning techniques. These techniques include: bagging, boosting, and stacking. Bagging and Boosting both use one type of algorithm either in parallel or series to fit the data. Our team used the third ensemble technique called stacking. Stacking will use different types of algorithms in combination. Each model is trained and its output used in a final model to yield a resulting prediction. Five different Ensemble models were designed; detailed explanations of each ensemble technique is described in the *Ensemble Models* section of Complete Analysis and Methodology.\n"
   ]
  },
  {
   "cell_type": "markdown",
   "metadata": {},
   "source": [
    "## Results and Recommended Model\n",
    "\n",
    "We explored 16 different models using various combinations of data, techniques, and parameters. The model that yielded the most optimal results and drove the cost impact to the business down to the lowest dollar amount was Ensemble Model 2 (Ensemble_2), which used the reduced feature dataset and the parameters identified by the Grid Search process. We are not surprised that the Ensemble model performed well, given the nature of those models to combine the strengths of several base estimators. To achieve the business objective you presented us with, we feel confident that our Ensemble Model 2 will meet your objective to minimize the cost of incorrect predictions. Additionally, we are pleased to provide you with a suite of models to consider now or in the future, depending on business needs. \n",
    "\n",
    "![title](img/final_results.png)\n",
    "\n",
    "\n",
    "\n",
    "\n",
    "\n",
    "---"
   ]
  },
  {
   "cell_type": "markdown",
   "metadata": {},
   "source": [
    "# COMPLETE METHODOLOGY AND ANALYSIS"
   ]
  },
  {
   "cell_type": "code",
   "execution_count": 1,
   "metadata": {},
   "outputs": [
    {
     "name": "stderr",
     "output_type": "stream",
     "text": [
      "C:\\ProgramData\\Anaconda3\\envs\\ML7331\\lib\\site-packages\\dask\\dataframe\\utils.py:14: FutureWarning: pandas.util.testing is deprecated. Use the functions in the public API at pandas.testing instead.\n",
      "  import pandas.util.testing as tm\n"
     ]
    }
   ],
   "source": [
    "# Import the necessary packages\n",
    "\n",
    "import numpy as np\n",
    "import pandas as pd\n",
    "import matplotlib.pyplot as plt\n",
    "import seaborn as sns\n",
    "from time import time\n",
    "from collections import Counter\n",
    "from sklearn.metrics import accuracy_score, f1_score, recall_score, precision_score, classification_report\n",
    "from sklearn.model_selection import train_test_split, RandomizedSearchCV, KFold, cross_val_score\n",
    "from sklearn.preprocessing import LabelEncoder, MinMaxScaler\n",
    "from sklearn.linear_model import LogisticRegression, SGDClassifier\n",
    "from sklearn.ensemble import RandomForestClassifier\n",
    "from sklearn.svm import SVC\n",
    "from xgboost import XGBClassifier\n",
    "from sklearn.tree import DecisionTreeClassifier\n",
    "from sklearn.ensemble import VotingClassifier, RandomForestRegressor, AdaBoostClassifier, GradientBoostingClassifier, ExtraTreesClassifier, StackingClassifier\n",
    "import itertools\n",
    "from sklearn.naive_bayes import GaussianNB\n",
    "from sklearn.feature_selection import RFECV\n",
    "from vecstack import stacking\n",
    "from mlxtend.classifier import StackingCVClassifier\n",
    "from mlxtend.plotting import plot_learning_curves, plot_decision_regions\n",
    "from sklearn.pipeline import Pipeline\n",
    "from sklearn.neighbors import NearestNeighbors\n",
    "from sklearn.calibration import CalibratedClassifierCV\n",
    "from pandas_profiling import ProfileReport\n",
    "\n",
    "from sklearn.metrics import roc_curve\n",
    "from sklearn.metrics import roc_auc_score\n",
    "import warnings\n",
    "warnings.simplefilter('ignore')"
   ]
  },
  {
   "cell_type": "markdown",
   "metadata": {},
   "source": [
    "## Exploratory Data Analysis\n",
    "\n",
    "### Load the data to the workspace\n",
    "\n",
    "- Load the data as a data frame and conduct cursory analysis to review\n",
    "    - Shape (rows and columns)\n",
    "    - Variable Classes (datatypes)\n",
    "    - Missingness of data (NULL data)\n",
    "    - Unique values for Cardinality\n",
    "\n",
    "For clarity and consistency, we will refer to Explanatory variables as Features."
   ]
  },
  {
   "cell_type": "code",
   "execution_count": 2,
   "metadata": {},
   "outputs": [
    {
     "name": "stdout",
     "output_type": "stream",
     "text": [
      "Wall time: 4.5 s\n"
     ]
    }
   ],
   "source": [
    "# Load the data\n",
    "%time Business_Data = pd.read_csv(r'C:\\Users\\jjschued\\Documents\\SMU\\7333 QTW\\final_project.csv')"
   ]
  },
  {
   "cell_type": "code",
   "execution_count": 3,
   "metadata": {},
   "outputs": [
    {
     "data": {
      "text/plain": [
       "(160000, 51)"
      ]
     },
     "execution_count": 3,
     "metadata": {},
     "output_type": "execute_result"
    }
   ],
   "source": [
    "# Explore the data\n",
    "Business_Data.shape"
   ]
  },
  {
   "cell_type": "code",
   "execution_count": 9,
   "metadata": {
    "scrolled": true
   },
   "outputs": [
    {
     "name": "stdout",
     "output_type": "stream",
     "text": [
      "<class 'pandas.core.frame.DataFrame'>\n",
      "RangeIndex: 160000 entries, 0 to 159999\n",
      "Data columns (total 51 columns):\n",
      " #   Column  Non-Null Count   Dtype  \n",
      "---  ------  --------------   -----  \n",
      " 0   x0      159974 non-null  float64\n",
      " 1   x1      159975 non-null  float64\n",
      " 2   x2      159962 non-null  float64\n",
      " 3   x3      159963 non-null  float64\n",
      " 4   x4      159974 non-null  float64\n",
      " 5   x5      159963 non-null  float64\n",
      " 6   x6      159974 non-null  float64\n",
      " 7   x7      159973 non-null  float64\n",
      " 8   x8      159979 non-null  float64\n",
      " 9   x9      159970 non-null  float64\n",
      " 10  x10     159957 non-null  float64\n",
      " 11  x11     159970 non-null  float64\n",
      " 12  x12     159964 non-null  float64\n",
      " 13  x13     159969 non-null  float64\n",
      " 14  x14     159966 non-null  float64\n",
      " 15  x15     159965 non-null  float64\n",
      " 16  x16     159974 non-null  float64\n",
      " 17  x17     159973 non-null  float64\n",
      " 18  x18     159960 non-null  float64\n",
      " 19  x19     159965 non-null  float64\n",
      " 20  x20     159962 non-null  float64\n",
      " 21  x21     159971 non-null  float64\n",
      " 22  x22     159973 non-null  float64\n",
      " 23  x23     159953 non-null  float64\n",
      " 24  x24     159972 non-null  object \n",
      " 25  x25     159978 non-null  float64\n",
      " 26  x26     159964 non-null  float64\n",
      " 27  x27     159970 non-null  float64\n",
      " 28  x28     159965 non-null  float64\n",
      " 29  x29     159970 non-null  object \n",
      " 30  x30     159970 non-null  object \n",
      " 31  x31     159961 non-null  float64\n",
      " 32  x32     159969 non-null  object \n",
      " 33  x33     159959 non-null  float64\n",
      " 34  x34     159959 non-null  float64\n",
      " 35  x35     159970 non-null  float64\n",
      " 36  x36     159973 non-null  float64\n",
      " 37  x37     159977 non-null  object \n",
      " 38  x38     159969 non-null  float64\n",
      " 39  x39     159977 non-null  float64\n",
      " 40  x40     159964 non-null  float64\n",
      " 41  x41     159960 non-null  float64\n",
      " 42  x42     159974 non-null  float64\n",
      " 43  x43     159963 non-null  float64\n",
      " 44  x44     159960 non-null  float64\n",
      " 45  x45     159971 non-null  float64\n",
      " 46  x46     159969 non-null  float64\n",
      " 47  x47     159963 non-null  float64\n",
      " 48  x48     159968 non-null  float64\n",
      " 49  x49     159968 non-null  float64\n",
      " 50  y       160000 non-null  int64  \n",
      "dtypes: float64(45), int64(1), object(5)\n",
      "memory usage: 62.3+ MB\n"
     ]
    }
   ],
   "source": [
    "# Check data type and not null counts of all the columns\n",
    "Business_Data.info()"
   ]
  },
  {
   "cell_type": "markdown",
   "metadata": {},
   "source": [
    "There are 5 categorical features and 45 continuous features of float64 data type.  The response variable is binary and classed as an integer.\n",
    "\n",
    "Pandas Profiling: https://jjschueder.github.io/7333QTW/"
   ]
  },
  {
   "cell_type": "code",
   "execution_count": null,
   "metadata": {},
   "outputs": [],
   "source": [
    "# Using Pandas Profiling to do a quick EDA \n",
    "# (Executing Mini version due to performance and memory constraints)\n",
    "profileMin = ProfileReport(Business_Data, minimal=True)\n",
    "profileMin.to_notebook_iframe()\n",
    "# profileMin.to_file(output_file=\"output_min.html\") # save profiling report to file"
   ]
  },
  {
   "cell_type": "markdown",
   "metadata": {},
   "source": [
    "---\n",
    "### Normality Assumption\n",
    "In reviewing the results of the Pandas profiling report above, we can see that the continuous features meet the assumptions for normality with well-defined Gaussian distributions."
   ]
  },
  {
   "cell_type": "markdown",
   "metadata": {},
   "source": [
    "---\n",
    "### Missing data (NULLs) - Analysis by feature for determining imputation strategy\n",
    "---"
   ]
  },
  {
   "cell_type": "code",
   "execution_count": 5,
   "metadata": {
    "scrolled": true
   },
   "outputs": [
    {
     "data": {
      "text/plain": [
       "x0     26\n",
       "x1     25\n",
       "x2     38\n",
       "x3     37\n",
       "x4     26\n",
       "x5     37\n",
       "x6     26\n",
       "x7     27\n",
       "x8     21\n",
       "x9     30\n",
       "x10    43\n",
       "x11    30\n",
       "x12    36\n",
       "x13    31\n",
       "x14    34\n",
       "x15    35\n",
       "x16    26\n",
       "x17    27\n",
       "x18    40\n",
       "x19    35\n",
       "x20    38\n",
       "x21    29\n",
       "x22    27\n",
       "x23    47\n",
       "x24    28\n",
       "x25    22\n",
       "x26    36\n",
       "x27    30\n",
       "x28    35\n",
       "x29    30\n",
       "x30    30\n",
       "x31    39\n",
       "x32    31\n",
       "x33    41\n",
       "x34    41\n",
       "x35    30\n",
       "x36    27\n",
       "x37    23\n",
       "x38    31\n",
       "x39    23\n",
       "x40    36\n",
       "x41    40\n",
       "x42    26\n",
       "x43    37\n",
       "x44    40\n",
       "x45    29\n",
       "x46    31\n",
       "x47    37\n",
       "x48    32\n",
       "x49    32\n",
       "y       0\n",
       "dtype: int64"
      ]
     },
     "execution_count": 5,
     "metadata": {},
     "output_type": "execute_result"
    }
   ],
   "source": [
    "# Get NULL counts by column\n",
    "Business_Data.isnull().sum()"
   ]
  },
  {
   "cell_type": "markdown",
   "metadata": {},
   "source": [
    "---\n",
    "- TOTAL NULL counts of all features: **1608**\n",
    "- Percentage of NULL values against total data: 1608/160000 => **1.005%**\n",
    "\n",
    "#### The Imputation strategy and actions are listed further below"
   ]
  },
  {
   "cell_type": "markdown",
   "metadata": {},
   "source": [
    "---\n",
    "### Inspect all features for Cardinality (Unique classes per variable)\n",
    "This will enable the identification of cardinality in features and also identify candidates for conversion to a categorical data class."
   ]
  },
  {
   "cell_type": "code",
   "execution_count": 6,
   "metadata": {
    "scrolled": true
   },
   "outputs": [
    {
     "data": {
      "text/plain": [
       "x0     159975\n",
       "x1     159976\n",
       "x2     159963\n",
       "x3     159964\n",
       "x4     159975\n",
       "x5     159964\n",
       "x6     159975\n",
       "x7     159974\n",
       "x8     159980\n",
       "x9     159971\n",
       "x10    159958\n",
       "x11    159971\n",
       "x12    159965\n",
       "x13    159970\n",
       "x14    159967\n",
       "x15    159966\n",
       "x16    159975\n",
       "x17    159974\n",
       "x18    159961\n",
       "x19    159966\n",
       "x20    159963\n",
       "x21    159972\n",
       "x22    159974\n",
       "x23    159954\n",
       "x24         4\n",
       "x25    159979\n",
       "x26    159965\n",
       "x27    159971\n",
       "x28    159966\n",
       "x29        13\n",
       "x30         6\n",
       "x31    159962\n",
       "x32        13\n",
       "x33    159960\n",
       "x34    159960\n",
       "x35    159971\n",
       "x36    159974\n",
       "x37    129199\n",
       "x38    159970\n",
       "x39    159978\n",
       "x40    159965\n",
       "x41    159961\n",
       "x42    159975\n",
       "x43    159964\n",
       "x44    159961\n",
       "x45    159972\n",
       "x46    159970\n",
       "x47    159964\n",
       "x48    159969\n",
       "x49    159969\n",
       "y           2\n",
       "dtype: int64"
      ]
     },
     "execution_count": 6,
     "metadata": {},
     "output_type": "execute_result"
    }
   ],
   "source": [
    "# Examine Unique values by feature\n",
    "Business_Data.nunique(dropna=False)"
   ]
  },
  {
   "cell_type": "markdown",
   "metadata": {},
   "source": [
    "### Closer review of the categorical features identified above\n",
    "- A closer analysis reveals that features **x32** and **x37** have special characters. \n",
    "- Additionally, feature **x32** has **low cardinality** with only 13 unique classes in 160,000 observations. "
   ]
  },
  {
   "cell_type": "code",
   "execution_count": 7,
   "metadata": {},
   "outputs": [
    {
     "name": "stdout",
     "output_type": "stream",
     "text": [
      "Unique classes of feature x24:: \n",
      " asia       138965\n",
      "euorpe      16538\n",
      "america      4469\n",
      "NaN            28\n",
      "Name: x24, dtype: int64\n",
      "\n",
      "Unique values of feature x29:: \n",
      " July       45569\n",
      "Jun        41329\n",
      "Aug        29406\n",
      "May        21939\n",
      "sept.      10819\n",
      "Apr         6761\n",
      "Oct         2407\n",
      "Mar         1231\n",
      "Nov          337\n",
      "Feb          140\n",
      "NaN           30\n",
      "Dev           23\n",
      "January        9\n",
      "Name: x29, dtype: int64\n",
      "\n",
      "Unique values of feature x30:: \n",
      " wednesday    101535\n",
      "thurday       29429\n",
      "tuesday       27954\n",
      "friday          564\n",
      "monday          488\n",
      "NaN              30\n",
      "Name: x30, dtype: int64\n",
      "\n",
      "Unique values of feature x32:: \n",
      " 0.01%     40767\n",
      "-0.01%    34094\n",
      "0.0%      33923\n",
      "-0.0%     30492\n",
      "-0.02%     9924\n",
      "0.02%      7987\n",
      "-0.03%     1727\n",
      "0.03%       855\n",
      "-0.04%      138\n",
      "0.04%        55\n",
      "NaN          31\n",
      "-0.05%        6\n",
      "0.05%         1\n",
      "Name: x32, dtype: int64\n",
      "\n",
      "Unique values of response y:: \n",
      " 0    95803\n",
      "1    64197\n",
      "Name: y, dtype: int64\n"
     ]
    },
    {
     "data": {
      "text/plain": [
       "0     $1313.96\n",
       "1     $1962.78\n",
       "2      $430.47\n",
       "3    $-2366.29\n",
       "4     $-620.66\n",
       "Name: x37, dtype: object"
      ]
     },
     "execution_count": 7,
     "metadata": {},
     "output_type": "execute_result"
    }
   ],
   "source": [
    "# Review and analyze the Categorical features and response as indicated above\n",
    "print('Unique classes of feature x24:: \\n',Business_Data.x24.value_counts(dropna = False))\n",
    "print('\\nUnique values of feature x29:: \\n',Business_Data.x29.value_counts(dropna = False))\n",
    "print('\\nUnique values of feature x30:: \\n',Business_Data.x30.value_counts(dropna = False))\n",
    "print('\\nUnique values of feature x32:: \\n',Business_Data.x32.value_counts(dropna = False))\n",
    "print('\\nUnique values of response y:: \\n',Business_Data.y.value_counts(dropna = False))\n",
    "\n",
    "Business_Data.x37.head()"
   ]
  },
  {
   "cell_type": "markdown",
   "metadata": {},
   "source": [
    "### Correlation\n",
    "\n",
    "We used Pearson's correlation to ensure the assumptions of independence of features are met. The correlation plot identifies attributes in the original dataset that are highly collinear. In other words, one predictor feature in the regression model can be linearly predicted from the others with a substantial degree of accuracy.\n",
    "\n",
    "\n",
    "#### Pearson's Correlation\n",
    "\n",
    "The Pearson correlation coefficient is used to measure the strength of a linear association between two variables, where the value r = 1 means a perfect positive correlation and the value r = -1 means a perfect negative correlation. It informs whether a statistically significant linear relationship exists between two continuous variables. The strength of a linear relationship (i.e., how close the relationship is to being a perfectly straight line) \n",
    "\n",
    "(Reference: https://www.dummies.com/education/math/statistics/how-to-interpret-a-correlation-coefficient-r/)\n",
    "\n",
    "Interpretation of Pearson's coefficient.\n",
    "* Exactly –1. A perfect downhill (negative) linear relationship\n",
    "\n",
    "* –0.70. A strong downhill (negative) linear relationship\n",
    "\n",
    "* –0.50. A moderate downhill (negative) relationship\n",
    "\n",
    "* –0.30. A weak downhill (negative) linear relationship\n",
    "\n",
    "* 0. No linear relationship\n",
    "\n",
    "* +0.30. A weak uphill (positive) linear relationship\n",
    "\n",
    "* +0.50. A moderate uphill (positive) relationship\n",
    "\n",
    "* +0.70. A strong uphill (positive) linear relationship\n",
    "\n",
    "* Exactly +1. A perfect uphill (positive) linear relationship\n",
    "\n",
    "![title](img/PearsonCorrelation2.png) \n",
    "\n",
    "Based on the analysis of the correlation matrix above, features $x6$ and $x41$ were excluded as they were highly correlated with $x2$ and $x38$ respectively with a correlation value = 1. Therefore, we will drop these variables from our analysis."
   ]
  },
  {
   "cell_type": "code",
   "execution_count": 6,
   "metadata": {},
   "outputs": [],
   "source": [
    "# Drop features 'x6', 'x41' due to high correlation as identified above\n",
    "Business_Data = Business_Data.drop(['x6', 'x41'], axis = 1)"
   ]
  },
  {
   "cell_type": "markdown",
   "metadata": {},
   "source": [
    "## Data Processing\n",
    "\n",
    "### Clean-up of categorical features - x32 and x37\n",
    "As identified above, we need to clean feature x37 by stripping it off special characters and converting it to a class \"float\".\n",
    "\n",
    "#### Actions:\n",
    "- Strip feature **x37** off all special characters \n",
    "- Convert feature **x37** to a float data class\n",
    "- Retain feature **x32** as a categorical feature"
   ]
  },
  {
   "cell_type": "code",
   "execution_count": 7,
   "metadata": {},
   "outputs": [],
   "source": [
    "# Strip special characters in feature x37\n",
    "# Convert feature x37 to float data class\n",
    "Business_Data['x37'] = Business_Data['x37'].str.replace('$','').astype(float)"
   ]
  },
  {
   "cell_type": "code",
   "execution_count": 10,
   "metadata": {},
   "outputs": [
    {
     "data": {
      "text/plain": [
       "0      0.0%\n",
       "1    -0.02%\n",
       "2    -0.01%\n",
       "3     0.01%\n",
       "4     0.01%\n",
       "Name: x32, dtype: object"
      ]
     },
     "execution_count": 10,
     "metadata": {},
     "output_type": "execute_result"
    }
   ],
   "source": [
    "Business_Data.x32.head()"
   ]
  },
  {
   "cell_type": "code",
   "execution_count": 11,
   "metadata": {},
   "outputs": [
    {
     "data": {
      "text/plain": [
       "0.01%     40767\n",
       "-0.01%    34094\n",
       "0.0%      33923\n",
       "-0.0%     30492\n",
       "-0.02%     9924\n",
       "0.02%      7987\n",
       "-0.03%     1727\n",
       "0.03%       855\n",
       "-0.04%      138\n",
       "0.04%        55\n",
       "-0.05%        6\n",
       "0.05%         1\n",
       "Name: x32, dtype: int64"
      ]
     },
     "execution_count": 11,
     "metadata": {},
     "output_type": "execute_result"
    }
   ],
   "source": [
    "# Feature x32 class distribution\n",
    "# Business_Data['x32'] = Business_Data['x32'].astype(str)\n",
    "Business_Data.x32.value_counts()"
   ]
  },
  {
   "cell_type": "code",
   "execution_count": 12,
   "metadata": {},
   "outputs": [
    {
     "data": {
      "text/plain": [
       "0    1313.96\n",
       "1    1962.78\n",
       "2     430.47\n",
       "3   -2366.29\n",
       "4    -620.66\n",
       "Name: x37, dtype: float64"
      ]
     },
     "execution_count": 12,
     "metadata": {},
     "output_type": "execute_result"
    }
   ],
   "source": [
    "Business_Data.x37.head()"
   ]
  },
  {
   "cell_type": "markdown",
   "metadata": {},
   "source": [
    "### Imputation strategy\n",
    "\n",
    "Impute the nulls with appropriate values after determining if they are \n",
    "- Missing Completely At Random (MCAR)\n",
    "- Missing At Random (MAR)\n",
    "- Missing Not At Random (MNAR)\n",
    "\n",
    "After discussions with the business, it has been determined that the missing data is to be treated as Missing At Random (MAR).  Furthermore, since almost all the continuous features have a gaussian distribution and meet the assumptions for normality (refer to Pandas Profiling report for additional details), it was agreed to replace NULL values in continuous features with the \"median\" of the respective feature.  For missing values or NANs in *categorical values*, we will proceed with dropping the records as they represent just **0.07% of the 160,000** records. \n",
    "\n",
    "#### Analysis:\n",
    "- TOTAL NULL counts of all features: **1608**\n",
    "- Percentage of total data: 1608/160,000 => **1.005%**\n",
    "\n",
    "#### Actions:\n",
    "- Impute missing values of continuous features with the **median**\n",
    "- Drop missing values for categorical features given the large dataset of 160,000 records\n"
   ]
  },
  {
   "cell_type": "code",
   "execution_count": 39,
   "metadata": {},
   "outputs": [],
   "source": [
    "# Create a new data frame and replace null values as \n",
    "# per the imputation strategy agreed with the business.\n",
    "# Replace missing values in continuous features using the median\n",
    "Business_Data_imputed = Business_Data.apply(lambda x: x if x.dtype == 'object' else x.fillna(x.median()))"
   ]
  },
  {
   "cell_type": "code",
   "execution_count": 15,
   "metadata": {
    "scrolled": true
   },
   "outputs": [
    {
     "data": {
      "text/plain": [
       "x0      0\n",
       "x1      0\n",
       "x2      0\n",
       "x3      0\n",
       "x4      0\n",
       "x5      0\n",
       "x6      0\n",
       "x7      0\n",
       "x8      0\n",
       "x9      0\n",
       "x10     0\n",
       "x11     0\n",
       "x12     0\n",
       "x13     0\n",
       "x14     0\n",
       "x15     0\n",
       "x16     0\n",
       "x17     0\n",
       "x18     0\n",
       "x19     0\n",
       "x20     0\n",
       "x21     0\n",
       "x22     0\n",
       "x23     0\n",
       "x24    28\n",
       "x25     0\n",
       "x26     0\n",
       "x27     0\n",
       "x28     0\n",
       "x29    30\n",
       "x30    30\n",
       "x31     0\n",
       "x32    31\n",
       "x33     0\n",
       "x34     0\n",
       "x35     0\n",
       "x36     0\n",
       "x37     0\n",
       "x38     0\n",
       "x39     0\n",
       "x40     0\n",
       "x41     0\n",
       "x42     0\n",
       "x43     0\n",
       "x44     0\n",
       "x45     0\n",
       "x46     0\n",
       "x47     0\n",
       "x48     0\n",
       "x49     0\n",
       "y       0\n",
       "dtype: int64"
      ]
     },
     "execution_count": 15,
     "metadata": {},
     "output_type": "execute_result"
    }
   ],
   "source": [
    "Business_Data_imputed.isnull().sum()"
   ]
  },
  {
   "cell_type": "markdown",
   "metadata": {},
   "source": [
    "#### Drop NULL observations in categorical features\n",
    "\n",
    "Given the extremely low count of NULLs in the categorical features, dropping these observations still retain 159912 of the 160000 rows. This is approximately **0.07%** of the original data set.  It should likely have little to no impact on the overall analysis.\n",
    "\n",
    "- x24 - $28$\n",
    "- x29 - $30$\n",
    "- x30 - $30$\n",
    "- x32 - $31$"
   ]
  },
  {
   "cell_type": "code",
   "execution_count": 10,
   "metadata": {},
   "outputs": [
    {
     "data": {
      "text/plain": [
       "x0     0\n",
       "x1     0\n",
       "x2     0\n",
       "x3     0\n",
       "x4     0\n",
       "x5     0\n",
       "x7     0\n",
       "x8     0\n",
       "x9     0\n",
       "x10    0\n",
       "x11    0\n",
       "x12    0\n",
       "x13    0\n",
       "x14    0\n",
       "x15    0\n",
       "x16    0\n",
       "x17    0\n",
       "x18    0\n",
       "x19    0\n",
       "x20    0\n",
       "x21    0\n",
       "x22    0\n",
       "x23    0\n",
       "x24    0\n",
       "x25    0\n",
       "x26    0\n",
       "x27    0\n",
       "x28    0\n",
       "x29    0\n",
       "x30    0\n",
       "x31    0\n",
       "x32    0\n",
       "x33    0\n",
       "x34    0\n",
       "x35    0\n",
       "x36    0\n",
       "x37    0\n",
       "x38    0\n",
       "x39    0\n",
       "x40    0\n",
       "x42    0\n",
       "x43    0\n",
       "x44    0\n",
       "x45    0\n",
       "x46    0\n",
       "x47    0\n",
       "x48    0\n",
       "x49    0\n",
       "y      0\n",
       "dtype: int64"
      ]
     },
     "execution_count": 10,
     "metadata": {},
     "output_type": "execute_result"
    }
   ],
   "source": [
    "# Drop NULLS in categorical features\n",
    "Business_Data_imputed.dropna(inplace=True)\n",
    "\n",
    "# Review the data post dropping the NaNs in categorical features\n",
    "Business_Data_imputed.isnull().sum()"
   ]
  },
  {
   "cell_type": "code",
   "execution_count": 11,
   "metadata": {},
   "outputs": [],
   "source": [
    "# Clean-up classes in some categorical features for consistency and spelling errors\n",
    "Business_Data_imputed['x24'] = Business_Data_imputed['x24'].replace(['asia', 'euorpe','america'], ['Asia', 'Europe','America'])\n",
    "Business_Data_imputed['x29'] = Business_Data_imputed['x29'].replace(['sept.', 'January','Dev','July'], ['Sep', 'Jan','Dec','Jul'])\n",
    "Business_Data_imputed['x30'] = Business_Data_imputed['x30'].replace(['monday', 'tuesday','wednesday','thurday','friday'], ['Mon', 'Tue','Wed','Thu','Fri'])"
   ]
  },
  {
   "cell_type": "code",
   "execution_count": 18,
   "metadata": {},
   "outputs": [
    {
     "name": "stdout",
     "output_type": "stream",
     "text": [
      "Unique values of Business_Data x24:: \n",
      " Asia       138880\n",
      "Europe      16534\n",
      "America      4467\n",
      "Name: x24, dtype: int64\n",
      "\n",
      "Unique values of Business_Data x29:: \n",
      " Jul    45546\n",
      "Jun    41299\n",
      "Aug    29385\n",
      "May    21932\n",
      "Sep    10815\n",
      "Apr     6758\n",
      "Oct     2407\n",
      "Mar     1231\n",
      "Nov      336\n",
      "Feb      140\n",
      "Dec       23\n",
      "Jan        9\n",
      "Name: x29, dtype: int64\n",
      "\n",
      "Unique values of Business_Data x30:: \n",
      " Wed    101473\n",
      "Thu     29413\n",
      "Tue     27943\n",
      "Fri       564\n",
      "Mon       488\n",
      "Name: x30, dtype: int64\n",
      "\n",
      "Unique values of Business_Data x32:: \n",
      " 0.01%     40746\n",
      "-0.01%    34078\n",
      "0.0%      33902\n",
      "-0.0%     30479\n",
      "-0.02%     9916\n",
      "0.02%      7981\n",
      "-0.03%     1726\n",
      "0.03%       854\n",
      "-0.04%      137\n",
      "0.04%        55\n",
      "-0.05%        6\n",
      "0.05%         1\n",
      "Name: x32, dtype: int64\n"
     ]
    }
   ],
   "source": [
    "# Review unique classes and counts for categorical variables\n",
    "print('Unique values of Business_Data x24:: \\n',Business_Data_imputed.x24.value_counts(dropna = False))\n",
    "print('\\nUnique values of Business_Data x29:: \\n',Business_Data_imputed.x29.value_counts(dropna = False))\n",
    "print('\\nUnique values of Business_Data x30:: \\n',Business_Data_imputed.x30.value_counts(dropna = False))\n",
    "print('\\nUnique values of Business_Data x32:: \\n',Business_Data_imputed.x32.value_counts(dropna = False))"
   ]
  },
  {
   "cell_type": "markdown",
   "metadata": {},
   "source": [
    "### One Hot encoding for Categorical Features\n",
    "\n",
    "One Hot Encoding (ohe) is a popular approach in which a categorical feature is converted to a format that enhances the predictive capability of ML algorithms. It works best when the cardinality of the categorical feature is low but is not advisable for features where there are more than 15 different classes. \n",
    "\n",
    "\n",
    "![title](img/OneHotEncoding3.png)\n",
    "\n",
    "Reference: https://www.kaggle.com/dansbecker/using-categorical-data-with-one-hot-encoding\n",
    "\n",
    "#### Parameter options used for pd.get_dummies\n",
    "- data - Data of which to get dummy indicators \n",
    "    - Parameter setting: **Project_Data_imputed**\n",
    "- prefix_sep - If appending prefix, separator/delimiter to use. Or pass a list or dictionary as with prefix.\n",
    "    - Parameter setting: **\"_\"**\n",
    "- drop_first - Whether to get k-1 dummies out of k categorical levels by removing the first level\n",
    "    - Parameter setting: **True**\n",
    "- columns - Names as list of Categorical features for one hot encoding.\n",
    "    - Parameter setting: **cat_columns** "
   ]
  },
  {
   "cell_type": "code",
   "execution_count": 12,
   "metadata": {},
   "outputs": [],
   "source": [
    "# Create a variable \"cat_columns\" to include all features to be encoded\n",
    "cat_columns = ['x24', 'x29', 'x30','x32']\n",
    "\n",
    "# Use the pandas get_dummies function to encode the selected categorical features\n",
    "Business_Data_ohe = pd.get_dummies(Business_Data_imputed, prefix_sep=\"_\", drop_first=True, columns=cat_columns)"
   ]
  },
  {
   "cell_type": "code",
   "execution_count": 20,
   "metadata": {},
   "outputs": [
    {
     "name": "stdout",
     "output_type": "stream",
     "text": [
      "<class 'pandas.core.frame.DataFrame'>\n",
      "Int64Index: 159881 entries, 0 to 159999\n",
      "Data columns (total 75 columns):\n",
      " #   Column      Non-Null Count   Dtype  \n",
      "---  ------      --------------   -----  \n",
      " 0   x0          159881 non-null  float64\n",
      " 1   x1          159881 non-null  float64\n",
      " 2   x2          159881 non-null  float64\n",
      " 3   x3          159881 non-null  float64\n",
      " 4   x4          159881 non-null  float64\n",
      " 5   x5          159881 non-null  float64\n",
      " 6   x6          159881 non-null  float64\n",
      " 7   x7          159881 non-null  float64\n",
      " 8   x8          159881 non-null  float64\n",
      " 9   x9          159881 non-null  float64\n",
      " 10  x10         159881 non-null  float64\n",
      " 11  x11         159881 non-null  float64\n",
      " 12  x12         159881 non-null  float64\n",
      " 13  x13         159881 non-null  float64\n",
      " 14  x14         159881 non-null  float64\n",
      " 15  x15         159881 non-null  float64\n",
      " 16  x16         159881 non-null  float64\n",
      " 17  x17         159881 non-null  float64\n",
      " 18  x18         159881 non-null  float64\n",
      " 19  x19         159881 non-null  float64\n",
      " 20  x20         159881 non-null  float64\n",
      " 21  x21         159881 non-null  float64\n",
      " 22  x22         159881 non-null  float64\n",
      " 23  x23         159881 non-null  float64\n",
      " 24  x25         159881 non-null  float64\n",
      " 25  x26         159881 non-null  float64\n",
      " 26  x27         159881 non-null  float64\n",
      " 27  x28         159881 non-null  float64\n",
      " 28  x31         159881 non-null  float64\n",
      " 29  x33         159881 non-null  float64\n",
      " 30  x34         159881 non-null  float64\n",
      " 31  x35         159881 non-null  float64\n",
      " 32  x36         159881 non-null  float64\n",
      " 33  x37         159881 non-null  float64\n",
      " 34  x38         159881 non-null  float64\n",
      " 35  x39         159881 non-null  float64\n",
      " 36  x40         159881 non-null  float64\n",
      " 37  x41         159881 non-null  float64\n",
      " 38  x42         159881 non-null  float64\n",
      " 39  x43         159881 non-null  float64\n",
      " 40  x44         159881 non-null  float64\n",
      " 41  x45         159881 non-null  float64\n",
      " 42  x46         159881 non-null  float64\n",
      " 43  x47         159881 non-null  float64\n",
      " 44  x48         159881 non-null  float64\n",
      " 45  x49         159881 non-null  float64\n",
      " 46  y           159881 non-null  int64  \n",
      " 47  x24_Asia    159881 non-null  uint8  \n",
      " 48  x24_Europe  159881 non-null  uint8  \n",
      " 49  x29_Aug     159881 non-null  uint8  \n",
      " 50  x29_Dec     159881 non-null  uint8  \n",
      " 51  x29_Feb     159881 non-null  uint8  \n",
      " 52  x29_Jan     159881 non-null  uint8  \n",
      " 53  x29_Jul     159881 non-null  uint8  \n",
      " 54  x29_Jun     159881 non-null  uint8  \n",
      " 55  x29_Mar     159881 non-null  uint8  \n",
      " 56  x29_May     159881 non-null  uint8  \n",
      " 57  x29_Nov     159881 non-null  uint8  \n",
      " 58  x29_Oct     159881 non-null  uint8  \n",
      " 59  x29_Sep     159881 non-null  uint8  \n",
      " 60  x30_Mon     159881 non-null  uint8  \n",
      " 61  x30_Thu     159881 non-null  uint8  \n",
      " 62  x30_Tue     159881 non-null  uint8  \n",
      " 63  x30_Wed     159881 non-null  uint8  \n",
      " 64  x32_-0.01%  159881 non-null  uint8  \n",
      " 65  x32_-0.02%  159881 non-null  uint8  \n",
      " 66  x32_-0.03%  159881 non-null  uint8  \n",
      " 67  x32_-0.04%  159881 non-null  uint8  \n",
      " 68  x32_-0.05%  159881 non-null  uint8  \n",
      " 69  x32_0.0%    159881 non-null  uint8  \n",
      " 70  x32_0.01%   159881 non-null  uint8  \n",
      " 71  x32_0.02%   159881 non-null  uint8  \n",
      " 72  x32_0.03%   159881 non-null  uint8  \n",
      " 73  x32_0.04%   159881 non-null  uint8  \n",
      " 74  x32_0.05%   159881 non-null  uint8  \n",
      "dtypes: float64(46), int64(1), uint8(28)\n",
      "memory usage: 62.8 MB\n"
     ]
    }
   ],
   "source": [
    "# Review the results of the encoding operation\n",
    "Business_Data_ohe.isnull().sum()\n",
    "Business_Data_ohe.info()"
   ]
  },
  {
   "cell_type": "markdown",
   "metadata": {},
   "source": [
    "---\n",
    "### Outliers"
   ]
  },
  {
   "cell_type": "code",
   "execution_count": 14,
   "metadata": {},
   "outputs": [
    {
     "data": {
      "text/plain": [
       "Index(['x0', 'x1', 'x2', 'x3', 'x4', 'x5', 'x7', 'x8', 'x9', 'x10', 'x11',\n",
       "       'x12', 'x13', 'x14', 'x15', 'x16', 'x17', 'x18', 'x19', 'x20', 'x21',\n",
       "       'x22', 'x23', 'x25', 'x26', 'x27', 'x28', 'x31', 'x33', 'x34', 'x35',\n",
       "       'x36', 'x37', 'x38', 'x39', 'x40', 'x42', 'x43', 'x44', 'x45', 'x46',\n",
       "       'x47', 'x48', 'x49', 'y', 'x24_Asia', 'x24_Europe', 'x29_Aug',\n",
       "       'x29_Dec', 'x29_Feb', 'x29_Jan', 'x29_Jul', 'x29_Jun', 'x29_Mar',\n",
       "       'x29_May', 'x29_Nov', 'x29_Oct', 'x29_Sep', 'x30_Mon', 'x30_Thu',\n",
       "       'x30_Tue', 'x30_Wed', 'x32_-0.01%', 'x32_-0.02%', 'x32_-0.03%',\n",
       "       'x32_-0.04%', 'x32_-0.05%', 'x32_0.0%', 'x32_0.01%', 'x32_0.02%',\n",
       "       'x32_0.03%', 'x32_0.04%', 'x32_0.05%'],\n",
       "      dtype='object')"
      ]
     },
     "execution_count": 14,
     "metadata": {},
     "output_type": "execute_result"
    }
   ],
   "source": [
    "# View the columns in the dataset\n",
    "Business_Data_ohe.columns"
   ]
  },
  {
   "cell_type": "code",
   "execution_count": 20,
   "metadata": {},
   "outputs": [
    {
     "data": {
      "image/png": "[encoded data removed]",
      "text/plain": [
       "<Figure size 1080x1080 with 1 Axes>"
      ]
     },
     "metadata": {
      "needs_background": "light"
     },
     "output_type": "display_data"
    }
   ],
   "source": [
    "#boxplot of variables\n",
    "plt.figure(figsize=(15, 15))\n",
    "ax = Business_Data_ohe[['x0', 'x1', 'x2', 'x3', 'x4', 'x5', 'x7', 'x8', 'x9', 'x10',\n",
    "       'x11', 'x12', 'x13', 'x14', 'x15']].boxplot()\n",
    "ax.set_title('Outlier Boxplot 1')\n",
    "chrt = ax.set_xticklabels(ax.get_xticklabels(), rotation=65, horizontalalignment='right')"
   ]
  },
  {
   "cell_type": "code",
   "execution_count": 21,
   "metadata": {},
   "outputs": [
    {
     "data": {
      "image/png": "[encoded data removed]",
      "text/plain": [
       "<Figure size 1080x1080 with 1 Axes>"
      ]
     },
     "metadata": {
      "needs_background": "light"
     },
     "output_type": "display_data"
    }
   ],
   "source": [
    "plt.figure(figsize=(15, 15))\n",
    "ax = Business_Data_ohe[['x16', 'x17', 'x18', 'x19', 'x20',\n",
    "       'x21', 'x22', 'x23', 'x25', 'x26', 'x27', 'x28', 'x31', 'x33', 'x34']].boxplot()\n",
    "ax.set_title('Outlier Boxplot 2')\n",
    "chrt = ax.set_xticklabels(ax.get_xticklabels(), rotation=65, horizontalalignment='right')"
   ]
  },
  {
   "cell_type": "code",
   "execution_count": 22,
   "metadata": {},
   "outputs": [
    {
     "data": {
      "image/png": "[encoded data removed]",
      "text/plain": [
       "<Figure size 1080x1080 with 1 Axes>"
      ]
     },
     "metadata": {
      "needs_background": "light"
     },
     "output_type": "display_data"
    }
   ],
   "source": [
    "plt.figure(figsize=(15, 15))\n",
    "ax = Business_Data_ohe[['x37']].boxplot()\n",
    "ax.set_title('Outlier Boxplot 3')\n",
    "chrt = ax.set_xticklabels(ax.get_xticklabels(), rotation=65, horizontalalignment='right')"
   ]
  },
  {
   "cell_type": "code",
   "execution_count": 23,
   "metadata": {},
   "outputs": [
    {
     "data": {
      "image/png": "[encoded data removed]",
      "text/plain": [
       "<Figure size 1080x1080 with 1 Axes>"
      ]
     },
     "metadata": {
      "needs_background": "light"
     },
     "output_type": "display_data"
    }
   ],
   "source": [
    "plt.figure(figsize=(15, 15))\n",
    "ax = Business_Data_ohe[['x35', 'x36', 'x38', 'x39', 'x40', 'x42', 'x43', 'x44',\n",
    "       'x45', 'x46', 'x47', 'x48', 'x49']].boxplot()\n",
    "ax.set_title('Outlier Boxplot 4')\n",
    "chrt = ax.set_xticklabels(ax.get_xticklabels(), rotation=65, horizontalalignment='right')"
   ]
  },
  {
   "cell_type": "markdown",
   "metadata": {},
   "source": [
    "Reviewing the box plots above we see very little skewness in the data and they appear to be normally distributed.  \n",
    "\n",
    "\n",
    "However, there are outliers that need to be addressed.The next section will deal with outliers and scale of the variables. The min max scaler function will normalize the data."
   ]
  },
  {
   "cell_type": "markdown",
   "metadata": {},
   "source": [
    "---\n",
    "### Standardization - Scaling of the data\n",
    "\n",
    "A pre-processing step applied to independent features in a dataset. Primarily it normalizes the data within a particular range; in this case, 0 to 1. It may also aid in accelerating the computations of an algorithm.\n",
    "\n",
    "- *fit_transform* within MinMaxScaler() function fits the data and then transforms it.\n",
    "---"
   ]
  },
  {
   "cell_type": "code",
   "execution_count": 25,
   "metadata": {},
   "outputs": [
    {
     "data": {
      "text/html": [
       "<div>\n",
       "<style scoped>\n",
       "    .dataframe tbody tr th:only-of-type {\n",
       "        vertical-align: middle;\n",
       "    }\n",
       "\n",
       "    .dataframe tbody tr th {\n",
       "        vertical-align: top;\n",
       "    }\n",
       "\n",
       "    .dataframe thead th {\n",
       "        text-align: right;\n",
       "    }\n",
       "</style>\n",
       "<table border=\"1\" class=\"dataframe\">\n",
       "  <thead>\n",
       "    <tr style=\"text-align: right;\">\n",
       "      <th></th>\n",
       "      <th>x0</th>\n",
       "      <th>x1</th>\n",
       "      <th>x2</th>\n",
       "      <th>x3</th>\n",
       "      <th>x4</th>\n",
       "      <th>x5</th>\n",
       "      <th>x7</th>\n",
       "      <th>x8</th>\n",
       "      <th>x9</th>\n",
       "      <th>x10</th>\n",
       "      <th>...</th>\n",
       "      <th>x32_-0.02%</th>\n",
       "      <th>x32_-0.03%</th>\n",
       "      <th>x32_-0.04%</th>\n",
       "      <th>x32_-0.05%</th>\n",
       "      <th>x32_0.0%</th>\n",
       "      <th>x32_0.01%</th>\n",
       "      <th>x32_0.02%</th>\n",
       "      <th>x32_0.03%</th>\n",
       "      <th>x32_0.04%</th>\n",
       "      <th>x32_0.05%</th>\n",
       "    </tr>\n",
       "  </thead>\n",
       "  <tbody>\n",
       "    <tr>\n",
       "      <th>count</th>\n",
       "      <td>159881.000000</td>\n",
       "      <td>159881.000000</td>\n",
       "      <td>159881.000000</td>\n",
       "      <td>159881.000000</td>\n",
       "      <td>159881.000000</td>\n",
       "      <td>159881.000000</td>\n",
       "      <td>159881.000000</td>\n",
       "      <td>159881.000000</td>\n",
       "      <td>159881.000000</td>\n",
       "      <td>159881.000000</td>\n",
       "      <td>...</td>\n",
       "      <td>159881.000000</td>\n",
       "      <td>159881.000000</td>\n",
       "      <td>159881.000000</td>\n",
       "      <td>159881.000000</td>\n",
       "      <td>159881.000000</td>\n",
       "      <td>159881.000000</td>\n",
       "      <td>159881.000000</td>\n",
       "      <td>159881.000000</td>\n",
       "      <td>159881.000000</td>\n",
       "      <td>159881.000000</td>\n",
       "    </tr>\n",
       "    <tr>\n",
       "      <th>mean</th>\n",
       "      <td>0.498395</td>\n",
       "      <td>0.484268</td>\n",
       "      <td>0.473770</td>\n",
       "      <td>0.476629</td>\n",
       "      <td>0.520278</td>\n",
       "      <td>0.487751</td>\n",
       "      <td>0.525666</td>\n",
       "      <td>0.490752</td>\n",
       "      <td>0.505541</td>\n",
       "      <td>0.488991</td>\n",
       "      <td>...</td>\n",
       "      <td>0.062021</td>\n",
       "      <td>0.010796</td>\n",
       "      <td>0.000857</td>\n",
       "      <td>0.000038</td>\n",
       "      <td>0.212045</td>\n",
       "      <td>0.254852</td>\n",
       "      <td>0.049918</td>\n",
       "      <td>0.005341</td>\n",
       "      <td>0.000344</td>\n",
       "      <td>0.000006</td>\n",
       "    </tr>\n",
       "    <tr>\n",
       "      <th>std</th>\n",
       "      <td>0.116206</td>\n",
       "      <td>0.116829</td>\n",
       "      <td>0.107960</td>\n",
       "      <td>0.108415</td>\n",
       "      <td>0.116644</td>\n",
       "      <td>0.110552</td>\n",
       "      <td>0.092364</td>\n",
       "      <td>0.115988</td>\n",
       "      <td>0.114781</td>\n",
       "      <td>0.106001</td>\n",
       "      <td>...</td>\n",
       "      <td>0.241195</td>\n",
       "      <td>0.103340</td>\n",
       "      <td>0.029260</td>\n",
       "      <td>0.006126</td>\n",
       "      <td>0.408758</td>\n",
       "      <td>0.435779</td>\n",
       "      <td>0.217777</td>\n",
       "      <td>0.072890</td>\n",
       "      <td>0.018544</td>\n",
       "      <td>0.002501</td>\n",
       "    </tr>\n",
       "    <tr>\n",
       "      <th>min</th>\n",
       "      <td>0.000000</td>\n",
       "      <td>0.000000</td>\n",
       "      <td>0.000000</td>\n",
       "      <td>0.000000</td>\n",
       "      <td>0.000000</td>\n",
       "      <td>0.000000</td>\n",
       "      <td>0.000000</td>\n",
       "      <td>0.000000</td>\n",
       "      <td>0.000000</td>\n",
       "      <td>0.000000</td>\n",
       "      <td>...</td>\n",
       "      <td>0.000000</td>\n",
       "      <td>0.000000</td>\n",
       "      <td>0.000000</td>\n",
       "      <td>0.000000</td>\n",
       "      <td>0.000000</td>\n",
       "      <td>0.000000</td>\n",
       "      <td>0.000000</td>\n",
       "      <td>0.000000</td>\n",
       "      <td>0.000000</td>\n",
       "      <td>0.000000</td>\n",
       "    </tr>\n",
       "    <tr>\n",
       "      <th>25%</th>\n",
       "      <td>0.419959</td>\n",
       "      <td>0.405735</td>\n",
       "      <td>0.400452</td>\n",
       "      <td>0.403659</td>\n",
       "      <td>0.441475</td>\n",
       "      <td>0.413356</td>\n",
       "      <td>0.466303</td>\n",
       "      <td>0.412554</td>\n",
       "      <td>0.428507</td>\n",
       "      <td>0.417767</td>\n",
       "      <td>...</td>\n",
       "      <td>0.000000</td>\n",
       "      <td>0.000000</td>\n",
       "      <td>0.000000</td>\n",
       "      <td>0.000000</td>\n",
       "      <td>0.000000</td>\n",
       "      <td>0.000000</td>\n",
       "      <td>0.000000</td>\n",
       "      <td>0.000000</td>\n",
       "      <td>0.000000</td>\n",
       "      <td>0.000000</td>\n",
       "    </tr>\n",
       "    <tr>\n",
       "      <th>50%</th>\n",
       "      <td>0.498073</td>\n",
       "      <td>0.484334</td>\n",
       "      <td>0.472208</td>\n",
       "      <td>0.476525</td>\n",
       "      <td>0.520300</td>\n",
       "      <td>0.487755</td>\n",
       "      <td>0.527888</td>\n",
       "      <td>0.490927</td>\n",
       "      <td>0.505554</td>\n",
       "      <td>0.488718</td>\n",
       "      <td>...</td>\n",
       "      <td>0.000000</td>\n",
       "      <td>0.000000</td>\n",
       "      <td>0.000000</td>\n",
       "      <td>0.000000</td>\n",
       "      <td>0.000000</td>\n",
       "      <td>0.000000</td>\n",
       "      <td>0.000000</td>\n",
       "      <td>0.000000</td>\n",
       "      <td>0.000000</td>\n",
       "      <td>0.000000</td>\n",
       "    </tr>\n",
       "    <tr>\n",
       "      <th>75%</th>\n",
       "      <td>0.576522</td>\n",
       "      <td>0.563162</td>\n",
       "      <td>0.547144</td>\n",
       "      <td>0.550157</td>\n",
       "      <td>0.598995</td>\n",
       "      <td>0.562359</td>\n",
       "      <td>0.585873</td>\n",
       "      <td>0.568981</td>\n",
       "      <td>0.583199</td>\n",
       "      <td>0.560734</td>\n",
       "      <td>...</td>\n",
       "      <td>0.000000</td>\n",
       "      <td>0.000000</td>\n",
       "      <td>0.000000</td>\n",
       "      <td>0.000000</td>\n",
       "      <td>0.000000</td>\n",
       "      <td>1.000000</td>\n",
       "      <td>0.000000</td>\n",
       "      <td>0.000000</td>\n",
       "      <td>0.000000</td>\n",
       "      <td>0.000000</td>\n",
       "    </tr>\n",
       "    <tr>\n",
       "      <th>max</th>\n",
       "      <td>1.000000</td>\n",
       "      <td>1.000000</td>\n",
       "      <td>1.000000</td>\n",
       "      <td>1.000000</td>\n",
       "      <td>1.000000</td>\n",
       "      <td>1.000000</td>\n",
       "      <td>1.000000</td>\n",
       "      <td>1.000000</td>\n",
       "      <td>1.000000</td>\n",
       "      <td>1.000000</td>\n",
       "      <td>...</td>\n",
       "      <td>1.000000</td>\n",
       "      <td>1.000000</td>\n",
       "      <td>1.000000</td>\n",
       "      <td>1.000000</td>\n",
       "      <td>1.000000</td>\n",
       "      <td>1.000000</td>\n",
       "      <td>1.000000</td>\n",
       "      <td>1.000000</td>\n",
       "      <td>1.000000</td>\n",
       "      <td>1.000000</td>\n",
       "    </tr>\n",
       "  </tbody>\n",
       "</table>\n",
       "<p>8 rows × 73 columns</p>\n",
       "</div>"
      ],
      "text/plain": [
       "                  x0             x1             x2             x3  \\\n",
       "count  159881.000000  159881.000000  159881.000000  159881.000000   \n",
       "mean        0.498395       0.484268       0.473770       0.476629   \n",
       "std         0.116206       0.116829       0.107960       0.108415   \n",
       "min         0.000000       0.000000       0.000000       0.000000   \n",
       "25%         0.419959       0.405735       0.400452       0.403659   \n",
       "50%         0.498073       0.484334       0.472208       0.476525   \n",
       "75%         0.576522       0.563162       0.547144       0.550157   \n",
       "max         1.000000       1.000000       1.000000       1.000000   \n",
       "\n",
       "                  x4             x5             x7             x8  \\\n",
       "count  159881.000000  159881.000000  159881.000000  159881.000000   \n",
       "mean        0.520278       0.487751       0.525666       0.490752   \n",
       "std         0.116644       0.110552       0.092364       0.115988   \n",
       "min         0.000000       0.000000       0.000000       0.000000   \n",
       "25%         0.441475       0.413356       0.466303       0.412554   \n",
       "50%         0.520300       0.487755       0.527888       0.490927   \n",
       "75%         0.598995       0.562359       0.585873       0.568981   \n",
       "max         1.000000       1.000000       1.000000       1.000000   \n",
       "\n",
       "                  x9            x10  ...     x32_-0.02%     x32_-0.03%  \\\n",
       "count  159881.000000  159881.000000  ...  159881.000000  159881.000000   \n",
       "mean        0.505541       0.488991  ...       0.062021       0.010796   \n",
       "std         0.114781       0.106001  ...       0.241195       0.103340   \n",
       "min         0.000000       0.000000  ...       0.000000       0.000000   \n",
       "25%         0.428507       0.417767  ...       0.000000       0.000000   \n",
       "50%         0.505554       0.488718  ...       0.000000       0.000000   \n",
       "75%         0.583199       0.560734  ...       0.000000       0.000000   \n",
       "max         1.000000       1.000000  ...       1.000000       1.000000   \n",
       "\n",
       "          x32_-0.04%     x32_-0.05%       x32_0.0%      x32_0.01%  \\\n",
       "count  159881.000000  159881.000000  159881.000000  159881.000000   \n",
       "mean        0.000857       0.000038       0.212045       0.254852   \n",
       "std         0.029260       0.006126       0.408758       0.435779   \n",
       "min         0.000000       0.000000       0.000000       0.000000   \n",
       "25%         0.000000       0.000000       0.000000       0.000000   \n",
       "50%         0.000000       0.000000       0.000000       0.000000   \n",
       "75%         0.000000       0.000000       0.000000       1.000000   \n",
       "max         1.000000       1.000000       1.000000       1.000000   \n",
       "\n",
       "           x32_0.02%      x32_0.03%      x32_0.04%      x32_0.05%  \n",
       "count  159881.000000  159881.000000  159881.000000  159881.000000  \n",
       "mean        0.049918       0.005341       0.000344       0.000006  \n",
       "std         0.217777       0.072890       0.018544       0.002501  \n",
       "min         0.000000       0.000000       0.000000       0.000000  \n",
       "25%         0.000000       0.000000       0.000000       0.000000  \n",
       "50%         0.000000       0.000000       0.000000       0.000000  \n",
       "75%         0.000000       0.000000       0.000000       0.000000  \n",
       "max         1.000000       1.000000       1.000000       1.000000  \n",
       "\n",
       "[8 rows x 73 columns]"
      ]
     },
     "execution_count": 25,
     "metadata": {},
     "output_type": "execute_result"
    }
   ],
   "source": [
    "# Assign the MinMaxScaler to the variable scaler\n",
    "scaler = MinMaxScaler()\n",
    "\n",
    "# Perform the scaling using the scaler\n",
    "Business_Data_ohe_scaled = pd.DataFrame(scaler.fit_transform(Business_Data_ohe), columns=Business_Data_ohe.columns)\n",
    "\n",
    "# Review the data post scaling\n",
    "Business_Data_ohe_scaled.describe()"
   ]
  },
  {
   "cell_type": "markdown",
   "metadata": {},
   "source": [
    "The charts below show that the data is now scaled. "
   ]
  },
  {
   "cell_type": "code",
   "execution_count": 35,
   "metadata": {},
   "outputs": [
    {
     "data": {
      "image/png": "[encoded data removed]",
      "text/plain": [
       "<Figure size 1080x1080 with 1 Axes>"
      ]
     },
     "metadata": {
      "needs_background": "light"
     },
     "output_type": "display_data"
    }
   ],
   "source": [
    "#Business_Data_ohe_scaled\n",
    "\n",
    "plt.figure(figsize=(15, 15))\n",
    "ax = Business_Data_ohe_scaled[['x0', 'x1', 'x2', 'x3', 'x4', 'x5', 'x7', 'x8', 'x9', 'x10',\n",
    "       'x11', 'x12', 'x13', 'x14', 'x15']].boxplot()\n",
    "ax.set_title('Scaled Boxplot 1')\n",
    "graph = ax.set_xticklabels(ax.get_xticklabels(), rotation=65, horizontalalignment='right')"
   ]
  },
  {
   "cell_type": "code",
   "execution_count": 36,
   "metadata": {},
   "outputs": [
    {
     "data": {
      "image/png": "[encoded data removed]",
      "text/plain": [
       "<Figure size 1080x1080 with 1 Axes>"
      ]
     },
     "metadata": {
      "needs_background": "light"
     },
     "output_type": "display_data"
    }
   ],
   "source": [
    "#Business_Data_ohe_scaled\n",
    "\n",
    "plt.figure(figsize=(15, 15))\n",
    "ax = Business_Data_ohe_scaled[['x16', 'x17', 'x18', 'x19', 'x20',\n",
    "       'x21', 'x22', 'x23', 'x25', 'x26', 'x27', 'x28', 'x31', 'x33', 'x34']].boxplot()\n",
    "ax.set_title('Scaled Boxplot 2')\n",
    "grah = ax.set_xticklabels(ax.get_xticklabels(), rotation=65, horizontalalignment='right')"
   ]
  },
  {
   "cell_type": "code",
   "execution_count": 38,
   "metadata": {},
   "outputs": [
    {
     "data": {
      "image/png": "[encoded data removed]",
      "text/plain": [
       "<Figure size 1080x1080 with 1 Axes>"
      ]
     },
     "metadata": {
      "needs_background": "light"
     },
     "output_type": "display_data"
    }
   ],
   "source": [
    "\n",
    "#Business_Data_ohe_scaled\n",
    "\n",
    "plt.figure(figsize=(15, 15))\n",
    "ax = Business_Data_ohe_scaled[['x35', 'x36', 'x37', 'x38', 'x39', 'x40', 'x42', 'x43', 'x44',\n",
    "       'x45', 'x46', 'x47', 'x48', 'x49']].boxplot()\n",
    "ax.set_title('Scaled Boxplot 3')\n",
    "graph = ax.set_xticklabels(ax.get_xticklabels(), rotation=65, horizontalalignment='right')"
   ]
  },
  {
   "cell_type": "markdown",
   "metadata": {},
   "source": [
    "---\n",
    "### Balancing\n",
    "\n",
    "Looking at the distribution of the outcomes (response variable) in our dataset, we can see that almost 60% of the data in our set has a response of \"0\" while the outcome 1 makes up 40%. When we run our classifier, we will need to be careful to account for the slightly unbalanced nature of our classifiers to help ensure we aren't overclassifying the majority labels.\n",
    "\n",
    "![title](img/ResponseVariable.png)\n",
    "\n",
    "We will address the balancing of the test and train datasets in our sampling below. We will split the test and train datasets by using the \"stratify\" option and will validate that they are balanced as part of the pre-processing of the data.\n"
   ]
  },
  {
   "cell_type": "markdown",
   "metadata": {},
   "source": [
    "---\n",
    "### Sampling\n",
    "---"
   ]
  },
  {
   "cell_type": "markdown",
   "metadata": {},
   "source": [
    "#### Train - Test Split\n",
    "\n",
    "This technique provides us a way of voluntarily holding back part of the data to test whether the model works. If we use our entire dataset to train the model, then the model will always predict the correct category for any entry in the data set. This process of setting aside a part of the dataset voluntarily to evaluate the model stops the model from being too optimistic when predicting the outcome. Training the model on the entire data set could also lead to data snooping bias. This kind of bias results from refining too many parameters to improve the model's performance on a specific data set. In our analysis, we will split the data into training and test data sets (75:25) randomly. We will use the \"stratify\" option while splitting the data to ensure a well-balanced test and train set as regards the response variable or outcome.\n",
    "\n",
    "Reference: https://towardsdatascience.com/3-things-you-need-to-know-before-you-train-test-split-869dfabb7e50"
   ]
  },
  {
   "cell_type": "code",
   "execution_count": 26,
   "metadata": {},
   "outputs": [],
   "source": [
    "# Assign the Explanatory features and Response variable to variables X and y respectively  \n",
    "X = Business_Data_ohe_scaled.drop(columns=['y'], axis=1)\n",
    "y = Business_Data_ohe_scaled.y"
   ]
  },
  {
   "cell_type": "code",
   "execution_count": 27,
   "metadata": {},
   "outputs": [],
   "source": [
    "# We split the data but use the stratify option to ensure a \n",
    "# balanced split of the outcome \"y\" across the test and train data sets\n",
    "X_train, X_test, y_train, y_test = train_test_split(X, y, test_size=0.25, random_state=10, stratify=y)"
   ]
  },
  {
   "cell_type": "markdown",
   "metadata": {},
   "source": [
    "#### Check the ratio of the response variable in the Train-Test split to ensure it is balanced\n",
    "\n",
    "Let's check the ratio of the response variable and compare it with that of the Train and Test dataset. The below results confirm that the ratio is retained and hence we can proceed with K-Fold Cross-Validation (CV) instead of Stratified K-Fold CV."
   ]
  },
  {
   "cell_type": "code",
   "execution_count": 29,
   "metadata": {},
   "outputs": [
    {
     "data": {
      "text/plain": [
       "1.4925324270391618"
      ]
     },
     "execution_count": 29,
     "metadata": {},
     "output_type": "execute_result"
    }
   ],
   "source": [
    "sum(Business_Data_ohe_scaled['y']==0)/sum(Business_Data_ohe_scaled['y']==1)"
   ]
  },
  {
   "cell_type": "code",
   "execution_count": 30,
   "metadata": {},
   "outputs": [
    {
     "data": {
      "text/plain": [
       "1.4925791968071838"
      ]
     },
     "execution_count": 30,
     "metadata": {},
     "output_type": "execute_result"
    }
   ],
   "source": [
    "sum(y_test==0)/sum(y_test==1)"
   ]
  },
  {
   "cell_type": "code",
   "execution_count": 31,
   "metadata": {},
   "outputs": [
    {
     "data": {
      "text/plain": [
       "1.4925168371164879"
      ]
     },
     "execution_count": 31,
     "metadata": {},
     "output_type": "execute_result"
    }
   ],
   "source": [
    "sum(y_train==0)/sum(y_train==1)"
   ]
  },
  {
   "cell_type": "markdown",
   "metadata": {},
   "source": [
    "---\n",
    "# Baseline Models\n",
    "---"
   ]
  },
  {
   "cell_type": "markdown",
   "metadata": {},
   "source": [
    "### Establish the baseline model and Cost-Benefit matrix before tuning and optimizations\n",
    "\n",
    "- Use the complete data set and select diverse models with default parameters.\n",
    "- Establish a confusion matrix with classification results and model accuracy scores. \n",
    "- Create a custom function **confusion_mat** to capture, display and compare the confusion and classification results. \n",
    "- Use the true False Positives(FP) and False Negatives (FN) for the case counts to calculate the resulting business cost."
   ]
  },
  {
   "cell_type": "markdown",
   "metadata": {},
   "source": [
    "###  MODEL EVALUATION METRICS \n",
    "In order to evaluate the models, we reviewed several standard metrics, which are defined below. While the objective is to minimize cost impact, these metrics will also inform us about the models' performance. We aim to maximize our precision, recall, and accuracy scores in our models.\n",
    "\n",
    "As noted, a confusion matrix shows how a particular model performs by summarizing True Positives, False Positives, True Negatives, and False Negatives. We are most concerned with False Negatives and False Positives, but the metrics will also be informative. \n",
    "- Accuracy: total number of correct predictions over total number of predictions made; (TP + TN)/(TP + FP + FN + TN)\n",
    "- Precision: proportion of true positives over total number of positive outcomes, whether accurately predicted (TP) or inaccurately predicted (FP); (TP) / (TP + FP)\n",
    "- Recall: proportion of positive outcomes that were correctly classified by model; (TP) / (TP + FN)\n",
    "\n",
    "We further plotted ROC curves, also known as a Receiver Operation Characteristic Curve, to compare models based on the True Positive Rates (TPR) and False Positive Rates (FPR) for each classifier. An AUC (Area Under the Curve) score of 1.0 denotes a perfect classifier and an area of 0.5 represents a model which is no better than a random guess. Higher the AUC the better the classifier.\n",
    "\n",
    "---"
   ]
  },
  {
   "cell_type": "code",
   "execution_count": 28,
   "metadata": {},
   "outputs": [],
   "source": [
    "# Establish the default parameters for the models to be used below\n",
    "rand_state = 101 # set a seed for reproducibility\n",
    "n_iterations = 5"
   ]
  },
  {
   "cell_type": "markdown",
   "metadata": {},
   "source": [
    "---\n",
    "### K-fold Cross-Validation\n",
    "\n",
    "- This statistical method is used to evaluate model generalization performance for future applicability.\n",
    "- Provides greater stability and is more robust than using a simple split of a dataset into train and test sets.\n",
    "- The algorithm splits the dataset multiple times training the model repeatedly on each of the splits.\n",
    "- K-Fold divides the dataset into groups of equal sized samples (if possible), called folds.\n",
    "- The prediction function uses these folds for learning, with the fold left out used for testing.\n",
    "\n",
    "![title](img/KFoldCV.png) \n",
    "\n",
    "Reference: https://medium.com/the-owl/k-fold-cross-validation-in-keras-3ec4a3a00538\n",
    "\n",
    "We adopted the K-Fold Cross-Validation approach for our analysis with the following parameters.\n",
    "\n",
    "Parameters for k-fold CV:\n",
    "- **n_splitsint** - Number of folds\n",
    "    - Parameter selected: **5**\n",
    "- **random_state** - random_state is the seed used by the random number generator\n",
    "    - Parameter selected: **10**"
   ]
  },
  {
   "cell_type": "code",
   "execution_count": 29,
   "metadata": {},
   "outputs": [],
   "source": [
    "# Establish the cross validation parameters to be used in the models\n",
    "cv = KFold(n_splits=n_iterations, random_state=rand_state)"
   ]
  },
  {
   "cell_type": "code",
   "execution_count": 34,
   "metadata": {},
   "outputs": [],
   "source": [
    "# Create a dataframe to capture the results of the baseline models below\n",
    "results_df = pd.DataFrame(columns=['Classifier', 'Features', 'Accuracy', 'Parameters', 'Recall', \n",
    "                                   'Precision', 'FPR', 'TPR', 'AUC', 'True_Positives', \n",
    "                                   'True_Negatives', 'False_Positives', 'False_Negatives', 'Cost(1000s)'])\n",
    "\n",
    "# Review the dataframe\n",
    "results_df\n",
    "\n",
    "# Create a reduced report of selected columns\n",
    "results_df_reduced = results_df[['Classifier', 'Features', 'Parameters', 'Accuracy', 'Recall',\n",
    "            'Precision', 'AUC', 'True_Positives', 'True_Negatives', \n",
    "            'False_Positives', 'False_Negatives', 'Cost(1000s)']].sort_values(by = 'Cost(1000s)')"
   ]
  },
  {
   "cell_type": "code",
   "execution_count": 30,
   "metadata": {},
   "outputs": [],
   "source": [
    "# Create a custom function to create a confusion matrix and print the results of the base models\n",
    "def confusion_mat(y_test, y_pred):\n",
    "    print('----------------------------------------------------------')\n",
    "    print('Confusion Matrix::\\n')\n",
    "    print(pd.crosstab(y_test, y_pred))\n",
    "    print()\n",
    "    print('Classification Report::')\n",
    "    print(classification_report(y_test, y_pred))\n",
    "    TN = pd.crosstab(y_test, y_pred).iloc[0, 0]\n",
    "    FP = pd.crosstab(y_test, y_pred).iloc[0, 1]\n",
    "    FN = pd.crosstab(y_test, y_pred).iloc[1, 0]\n",
    "    TP = pd.crosstab(y_test, y_pred).iloc[1, 1]\n",
    "    Cost = ((FP*10)+(FN*500))/1000\n",
    "    Recall = recall_score(y_test, y_pred, average='weighted')\n",
    "    Precision = precision_score(y_test, y_pred)\n",
    "    Accuracy = accuracy_score(y_test, y_pred)\n",
    "    return(FP, FN, TP, TN, Cost, Accuracy, Recall, Precision)"
   ]
  },
  {
   "cell_type": "code",
   "execution_count": 36,
   "metadata": {},
   "outputs": [],
   "source": [
    "# Create a classifier dictionary\n",
    "clfsDict = {'Logistic Regression': LogisticRegression(solver = 'lbfgs', random_state=rand_state),\n",
    "            'Gaussian Naive-Bayes': GaussianNB(),\n",
    "            'Decision Tree': DecisionTreeClassifier(random_state=rand_state),\n",
    "            'Random Forest': RandomForestClassifier(n_estimators=100, random_state=rand_state),\n",
    "            'XGB': XGBClassifier(random_state=rand_state)}"
   ]
  },
  {
   "cell_type": "code",
   "execution_count": 37,
   "metadata": {},
   "outputs": [
    {
     "name": "stdout",
     "output_type": "stream",
     "text": [
      "----------------------------------------------------------\n",
      "Confusion Matrix::\n",
      "\n",
      "col_0    0.0   1.0\n",
      "y                 \n",
      "0.0    20019  3916\n",
      "1.0     7786  8250\n",
      "\n",
      "Classification Report::\n",
      "              precision    recall  f1-score   support\n",
      "\n",
      "         0.0       0.72      0.84      0.77     23935\n",
      "         1.0       0.68      0.51      0.59     16036\n",
      "\n",
      "    accuracy                           0.71     39971\n",
      "   macro avg       0.70      0.68      0.68     39971\n",
      "weighted avg       0.70      0.71      0.70     39971\n",
      "\n",
      "\n",
      "Process Time:: 15.906587\n",
      "\n",
      "----------------------------------------------------------\n",
      "Confusion Matrix::\n",
      "\n",
      "col_0    0.0   1.0\n",
      "y                 \n",
      "0.0    19249  4686\n",
      "1.0     7729  8307\n",
      "\n",
      "Classification Report::\n",
      "              precision    recall  f1-score   support\n",
      "\n",
      "         0.0       0.71      0.80      0.76     23935\n",
      "         1.0       0.64      0.52      0.57     16036\n",
      "\n",
      "    accuracy                           0.69     39971\n",
      "   macro avg       0.68      0.66      0.66     39971\n",
      "weighted avg       0.68      0.69      0.68     39971\n",
      "\n",
      "\n",
      "Process Time:: 2.590116\n",
      "\n",
      "----------------------------------------------------------\n",
      "Confusion Matrix::\n",
      "\n",
      "col_0    0.0    1.0\n",
      "y                  \n",
      "0.0    20690   3245\n",
      "1.0     3175  12861\n",
      "\n",
      "Classification Report::\n",
      "              precision    recall  f1-score   support\n",
      "\n",
      "         0.0       0.87      0.86      0.87     23935\n",
      "         1.0       0.80      0.80      0.80     16036\n",
      "\n",
      "    accuracy                           0.84     39971\n",
      "   macro avg       0.83      0.83      0.83     39971\n",
      "weighted avg       0.84      0.84      0.84     39971\n",
      "\n",
      "\n",
      "Process Time:: 76.697042\n",
      "\n",
      "----------------------------------------------------------\n",
      "Confusion Matrix::\n",
      "\n",
      "col_0    0.0    1.0\n",
      "y                  \n",
      "0.0    22843   1092\n",
      "1.0     2203  13833\n",
      "\n",
      "Classification Report::\n",
      "              precision    recall  f1-score   support\n",
      "\n",
      "         0.0       0.91      0.95      0.93     23935\n",
      "         1.0       0.93      0.86      0.89     16036\n",
      "\n",
      "    accuracy                           0.92     39971\n",
      "   macro avg       0.92      0.91      0.91     39971\n",
      "weighted avg       0.92      0.92      0.92     39971\n",
      "\n",
      "\n",
      "Process Time:: 520.106135\n",
      "\n",
      "----------------------------------------------------------\n",
      "Confusion Matrix::\n",
      "\n",
      "col_0    0.0    1.0\n",
      "y                  \n",
      "0.0    22551   1384\n",
      "1.0     1748  14288\n",
      "\n",
      "Classification Report::\n",
      "              precision    recall  f1-score   support\n",
      "\n",
      "         0.0       0.93      0.94      0.94     23935\n",
      "         1.0       0.91      0.89      0.90     16036\n",
      "\n",
      "    accuracy                           0.92     39971\n",
      "   macro avg       0.92      0.92      0.92     39971\n",
      "weighted avg       0.92      0.92      0.92     39971\n",
      "\n",
      "\n",
      "Process Time:: 237.527525\n",
      "\n",
      "Wall Time:: 852.858365\n"
     ]
    }
   ],
   "source": [
    "# Fit the baseline models and capture the performance metrics\n",
    "start = time()\n",
    "\n",
    "# Initialize a dataframe to capture the model stats\n",
    "model_run_stats = []\n",
    "\n",
    "# Loop through the models in the classifier dictionary\n",
    "for mdl, clf in clfsDict.items():\n",
    "    start_1 = time()\n",
    "    acc = cross_val_score(clf,X,y=y,cv=cv)\n",
    "    clf.fit(X_train, y_train)\n",
    "    y_pred_full_data = clf.predict(X_test)\n",
    "    y_pred_proba_full_data = clf.predict_proba(X_test)[:, 1]\n",
    "    fpr, tpr, _ = roc_curve(y_test,  y_pred_proba_full_data)\n",
    "    auc = roc_auc_score(y_test, y_pred_proba_full_data)\n",
    "    (FP, FN, TP, TN, Cost, Accuracy, Recall, Precision) = confusion_mat(y_test, y_pred_full_data)\n",
    "    results_df = results_df.append({'Classifier':mdl\n",
    "                                    , 'Features':'Full'\n",
    "                                    , 'Parameters': 'Default'\n",
    "                                    , 'Accuracy': Accuracy\n",
    "                                    , 'Recall': Recall\n",
    "                                    , 'Precision': Precision\n",
    "                                    , 'FPR': fpr\n",
    "                                    , 'TPR': tpr\n",
    "                                    , 'AUC': auc\n",
    "                                    , 'True_Positives': TP\n",
    "                                    , 'True_Negatives': TN\n",
    "                                    , 'False_Positives': FP\n",
    "                                    , 'False_Negatives': FN\n",
    "                                    , 'Cost(1000s)': Cost\n",
    "                                   }\n",
    "                                   , ignore_index=True\n",
    "                                  )\n",
    "    print()\n",
    "    print('Process Time:: %0f' %(time()-start_1))\n",
    "    print()\n",
    "    \n",
    "# get the feature importance from Random Forest and store in variable fi\n",
    "    if mdl=='Random Forest':\n",
    "        fi = pd.DataFrame(clf.feature_importances_,columns = ['featimp'])\n",
    "\n",
    "# display the model stats\n",
    "model_run_stats\n",
    "\n",
    "print('Wall Time:: %0f' %(time()-start))"
   ]
  },
  {
   "cell_type": "markdown",
   "metadata": {},
   "source": [
    "---\n",
    "## Dimensionality Reduction (Feature Reduction)\n",
    "---\n",
    "\n",
    "In the provided dataset we have 50 explanatory features.  It is essential to understand and determine the importance of each feature in model contribution to enhance estimator results and improve performance. This is an important concept in machine learning and centered around simplicity and optimization.  Using the sklearn.feature_selection module that examines the classes, we can determine the features having the greatest impact and contribution to the selected models. \n",
    "\n",
    "Reference: https://towardsdatascience.com/feature-selection-in-python-recursive-feature-elimination-19f1c39b8d15\n",
    "\n",
    "\n",
    "### Benefits of Dimensionality reduction\n",
    "- Contributes to increasing the goodness of fit metric - **R2**\n",
    "- Aligns with the principle of **Occam's razor or the law of parsimony** - simpler is better and more likely to be correct\n",
    "- Improve an estimators accuracy scores\n",
    "- Boost performance especially on high-dimensional datasets\n",
    "\n",
    "We used **Recursive Feature Elimination with Cross-Validation (RFECV)** to restrict the features used in the model.\n",
    "Recursive feature elimination (RFE) selects features by recursively considering smaller and smaller sets of features by an external estimator based on the assignment of weights against the features (e.g. the coefficients of a linear model).\n",
    "- Train the estimator on the baseline or complete set of features.\n",
    "- Importance of each feature is determined by the coef_ attribute or a feature_importances_ attribute. \n",
    "- Least important features are trimmed from the original feature set.\n",
    "- The process is recursively repeated on the trimmed dataset until the optimal features desired are reached.\n",
    "\n",
    "\n",
    "### Parameters for RFECV: \n",
    "RFECV performs RFE in a cross-validation loop to identify the optimal features.\n",
    "- **estimator**: A supervised learning estimator with a fit method that provides information about feature importance.\n",
    "    - Parameter selected: **RandomForestClassifier**\n",
    "    \n",
    "    \n",
    "- **step** - If greater than or equal to 1, then step corresponds to the number of features to remove at each iteration.\n",
    "    - Parameter selected: **4**\n",
    "    \n",
    "    \n",
    "- **cv**: Determines the cross-validation splitting strategy. Integer value specifies the number of folds.\n",
    "    - Parameter selected: **3**\n",
    "    \n",
    "    \n",
    "- **scoring**: A scoring method to determine which score to maximize.\n",
    "    - Parameter selected: **recall**"
   ]
  },
  {
   "cell_type": "markdown",
   "metadata": {},
   "source": [
    "---\n",
    "### Feature Importance Plots"
   ]
  },
  {
   "cell_type": "code",
   "execution_count": 31,
   "metadata": {},
   "outputs": [],
   "source": [
    "\n",
    "clf = RandomForestClassifier(n_estimators=100, random_state=rand_state)\n",
    "clf.fit(X_train, y_train)\n",
    "fi = pd.DataFrame(clf.feature_importances_,columns = ['featimp'])"
   ]
  },
  {
   "cell_type": "code",
   "execution_count": 32,
   "metadata": {},
   "outputs": [
    {
     "data": {
      "image/png": "[encoded data removed]",
      "text/plain": [
       "<Figure size 1800x1080 with 1 Axes>"
      ]
     },
     "metadata": {
      "needs_background": "light"
     },
     "output_type": "display_data"
    }
   ],
   "source": [
    "# Merge field names and feature importance to display them together\n",
    "#use fi from above\n",
    "featuresnames = pd.DataFrame(Business_Data_ohe_scaled.columns.values.tolist(), columns =['fields'])\n",
    "featimpdf = pd.merge(featuresnames, fi, left_index=True, right_index=True)\n",
    "featimpdf = featimpdf.sort_values(by='featimp', ascending=False)\n",
    "featimpdf2 =featimpdf.copy()\n",
    "featimpdf = featimpdf.nlargest(46, 'featimp')\n",
    "\n",
    "\n",
    "plt.figure(figsize=(25,15))\n",
    "ax = sns.barplot(x=featimpdf.fields, y=featimpdf.featimp)\n",
    "ax.set_title('FEATURE IMPORTANCE')\n",
    "plt.xlabel(\"Feature\")\n",
    "plt.ylabel(\"Importance\")\n",
    "varfi = ax.set_xticklabels(ax.get_xticklabels(), rotation=65, horizontalalignment='right', fontsize=16)"
   ]
  },
  {
   "cell_type": "code",
   "execution_count": null,
   "metadata": {},
   "outputs": [],
   "source": [
    "# Establish the parameters for RFECV using the Random Forest estimator\n",
    "start = time()\n",
    "clf = RandomForestClassifier(n_estimators=100, random_state=rand_state)\n",
    "selector = RFECV(estimator=clf, step = 4, cv=3, scoring='recall')\n",
    "\n",
    "feature_fit = selector.fit(X_train, y_train)\n",
    "\n",
    "print()\n",
    "print('Process Time:: %0f' %(time()-start_1))\n",
    "print()\n",
    "\n",
    "print('Optimal number of features : ', feature_fit.n_features_)\n",
    "print('Best features : ', X_train.columns[selector.support_])\n",
    "\n",
    "print('Wall Time:: %0f' %(time()-start))"
   ]
  },
  {
   "cell_type": "markdown",
   "metadata": {},
   "source": [
    "#Process Time:: 110978.531029\n",
    "\n",
    "Optimal number of features :  12\n",
    "Best features :  Index(['x7', 'x12', 'x20', 'x23', 'x27', 'x28', 'x37', 'x38', 'x42', 'x46',\n",
    "       'x48', 'x49'],\n",
    "      dtype='object')\n",
    "Wall Time:: 221.348790"
   ]
  },
  {
   "cell_type": "code",
   "execution_count": 41,
   "metadata": {},
   "outputs": [
    {
     "data": {
      "image/png": "[encoded data removed]",
      "text/plain": [
       "<Figure size 576x396 with 1 Axes>"
      ]
     },
     "metadata": {},
     "output_type": "display_data"
    }
   ],
   "source": [
    "# Plot features selected against the model score\n",
    "plt.figure()\n",
    "plt.title('Recursive Feature CV score versus Feature count')\n",
    "plt.xlabel(\"Number of features selected\")\n",
    "plt.ylabel(\"Recall\")\n",
    "plt.plot(range(1, len(selector.grid_scores_) + 1), selector.grid_scores_)\n",
    "plt.show()"
   ]
  },
  {
   "cell_type": "markdown",
   "metadata": {},
   "source": [
    "The RFECV process identified the following features as being the most important and best in contributing to the predictive modeling.  \n",
    "\n",
    "The most important features are:\n",
    "\n",
    "###  'x7',  'x12',\t 'x20',\t 'x23',  'x27',\t 'x28',\t 'x37',  'x38',\t 'x42',\t 'x46',\t 'x48',  'x49'\n",
    "\n",
    "#### The business should pay greater attention to these features given their importance and adopt appropriate strategies.\n"
   ]
  },
  {
   "cell_type": "code",
   "execution_count": 42,
   "metadata": {},
   "outputs": [],
   "source": [
    "# Set the training and test sets using just the reduced features \n",
    "# identified from the RFECV operation conducted above\n",
    "X_train_reduced_features = X_train[X_train.columns[selector.support_]]\n",
    "X_test_reduced_features = X_test[X_test.columns[selector.support_]]"
   ]
  },
  {
   "cell_type": "code",
   "execution_count": 43,
   "metadata": {},
   "outputs": [
    {
     "data": {
      "text/html": [
       "<div>\n",
       "<style scoped>\n",
       "    .dataframe tbody tr th:only-of-type {\n",
       "        vertical-align: middle;\n",
       "    }\n",
       "\n",
       "    .dataframe tbody tr th {\n",
       "        vertical-align: top;\n",
       "    }\n",
       "\n",
       "    .dataframe thead th {\n",
       "        text-align: right;\n",
       "    }\n",
       "</style>\n",
       "<table border=\"1\" class=\"dataframe\">\n",
       "  <thead>\n",
       "    <tr style=\"text-align: right;\">\n",
       "      <th></th>\n",
       "      <th>x7</th>\n",
       "      <th>x12</th>\n",
       "      <th>x20</th>\n",
       "      <th>x23</th>\n",
       "      <th>x27</th>\n",
       "      <th>x28</th>\n",
       "      <th>x37</th>\n",
       "      <th>x38</th>\n",
       "      <th>x40</th>\n",
       "      <th>x41</th>\n",
       "      <th>x42</th>\n",
       "      <th>x46</th>\n",
       "      <th>x48</th>\n",
       "      <th>x49</th>\n",
       "    </tr>\n",
       "  </thead>\n",
       "  <tbody>\n",
       "    <tr>\n",
       "      <th>111388</th>\n",
       "      <td>0.657971</td>\n",
       "      <td>0.281545</td>\n",
       "      <td>0.472484</td>\n",
       "      <td>0.491509</td>\n",
       "      <td>0.435731</td>\n",
       "      <td>0.562543</td>\n",
       "      <td>0.408573</td>\n",
       "      <td>0.339018</td>\n",
       "      <td>0.505676</td>\n",
       "      <td>0.339018</td>\n",
       "      <td>0.496146</td>\n",
       "      <td>0.515682</td>\n",
       "      <td>0.376154</td>\n",
       "      <td>0.598723</td>\n",
       "    </tr>\n",
       "    <tr>\n",
       "      <th>12173</th>\n",
       "      <td>0.411950</td>\n",
       "      <td>0.497442</td>\n",
       "      <td>0.531038</td>\n",
       "      <td>0.568124</td>\n",
       "      <td>0.435274</td>\n",
       "      <td>0.261336</td>\n",
       "      <td>0.653271</td>\n",
       "      <td>0.459207</td>\n",
       "      <td>0.291930</td>\n",
       "      <td>0.459207</td>\n",
       "      <td>0.466451</td>\n",
       "      <td>0.729740</td>\n",
       "      <td>0.317857</td>\n",
       "      <td>0.518080</td>\n",
       "    </tr>\n",
       "  </tbody>\n",
       "</table>\n",
       "</div>"
      ],
      "text/plain": [
       "              x7       x12       x20       x23       x27       x28       x37  \\\n",
       "111388  0.657971  0.281545  0.472484  0.491509  0.435731  0.562543  0.408573   \n",
       "12173   0.411950  0.497442  0.531038  0.568124  0.435274  0.261336  0.653271   \n",
       "\n",
       "             x38       x40       x41       x42       x46       x48       x49  \n",
       "111388  0.339018  0.505676  0.339018  0.496146  0.515682  0.376154  0.598723  \n",
       "12173   0.459207  0.291930  0.459207  0.466451  0.729740  0.317857  0.518080  "
      ]
     },
     "execution_count": 43,
     "metadata": {},
     "output_type": "execute_result"
    }
   ],
   "source": [
    "# Review the reduced features for the training data\n",
    "X_train_reduced_features.head(2)"
   ]
  },
  {
   "cell_type": "code",
   "execution_count": 44,
   "metadata": {},
   "outputs": [
    {
     "data": {
      "text/html": [
       "<div>\n",
       "<style scoped>\n",
       "    .dataframe tbody tr th:only-of-type {\n",
       "        vertical-align: middle;\n",
       "    }\n",
       "\n",
       "    .dataframe tbody tr th {\n",
       "        vertical-align: top;\n",
       "    }\n",
       "\n",
       "    .dataframe thead th {\n",
       "        text-align: right;\n",
       "    }\n",
       "</style>\n",
       "<table border=\"1\" class=\"dataframe\">\n",
       "  <thead>\n",
       "    <tr style=\"text-align: right;\">\n",
       "      <th></th>\n",
       "      <th>x7</th>\n",
       "      <th>x12</th>\n",
       "      <th>x20</th>\n",
       "      <th>x23</th>\n",
       "      <th>x27</th>\n",
       "      <th>x28</th>\n",
       "      <th>x37</th>\n",
       "      <th>x38</th>\n",
       "      <th>x40</th>\n",
       "      <th>x41</th>\n",
       "      <th>x42</th>\n",
       "      <th>x46</th>\n",
       "      <th>x48</th>\n",
       "      <th>x49</th>\n",
       "    </tr>\n",
       "  </thead>\n",
       "  <tbody>\n",
       "    <tr>\n",
       "      <th>21641</th>\n",
       "      <td>0.460818</td>\n",
       "      <td>0.584121</td>\n",
       "      <td>0.598260</td>\n",
       "      <td>0.484890</td>\n",
       "      <td>0.474755</td>\n",
       "      <td>0.379415</td>\n",
       "      <td>0.422200</td>\n",
       "      <td>0.389242</td>\n",
       "      <td>0.339239</td>\n",
       "      <td>0.389242</td>\n",
       "      <td>0.421575</td>\n",
       "      <td>0.593851</td>\n",
       "      <td>0.451735</td>\n",
       "      <td>0.484480</td>\n",
       "    </tr>\n",
       "    <tr>\n",
       "      <th>62199</th>\n",
       "      <td>0.402165</td>\n",
       "      <td>0.380945</td>\n",
       "      <td>0.566999</td>\n",
       "      <td>0.499279</td>\n",
       "      <td>0.809338</td>\n",
       "      <td>0.320265</td>\n",
       "      <td>0.369598</td>\n",
       "      <td>0.394540</td>\n",
       "      <td>0.497222</td>\n",
       "      <td>0.394540</td>\n",
       "      <td>0.453576</td>\n",
       "      <td>0.569587</td>\n",
       "      <td>0.352952</td>\n",
       "      <td>0.380788</td>\n",
       "    </tr>\n",
       "  </tbody>\n",
       "</table>\n",
       "</div>"
      ],
      "text/plain": [
       "             x7       x12       x20       x23       x27       x28       x37  \\\n",
       "21641  0.460818  0.584121  0.598260  0.484890  0.474755  0.379415  0.422200   \n",
       "62199  0.402165  0.380945  0.566999  0.499279  0.809338  0.320265  0.369598   \n",
       "\n",
       "            x38       x40       x41       x42       x46       x48       x49  \n",
       "21641  0.389242  0.339239  0.389242  0.421575  0.593851  0.451735  0.484480  \n",
       "62199  0.394540  0.497222  0.394540  0.453576  0.569587  0.352952  0.380788  "
      ]
     },
     "execution_count": 44,
     "metadata": {},
     "output_type": "execute_result"
    }
   ],
   "source": [
    "# Review the reduced features for the testing data\n",
    "X_test_reduced_features.head(2)"
   ]
  },
  {
   "cell_type": "markdown",
   "metadata": {},
   "source": [
    "---\n",
    "## Train the models using the reduced features\n",
    "---\n",
    "\n",
    "Using default parameters to establish a baseline with reduced features before proceeding to the **parameter tuning phase** using a **Randomized Grid Search** approach."
   ]
  },
  {
   "cell_type": "markdown",
   "metadata": {},
   "source": [
    "### Decision Tree Classifier\n",
    "\n",
    "Decision trees are primarily leveraged to address both regression and classification cases. \n",
    "- **Classification tree models are used to predict a qualitative response**\n",
    "- **Regression tree models are used to predict a quantitative response**\n",
    "\n",
    "The algorithm constructs a tree using a training dataset where each node is an attribute and the branches are the corresponding values.\n",
    "\n",
    "---"
   ]
  },
  {
   "cell_type": "code",
   "execution_count": 45,
   "metadata": {},
   "outputs": [
    {
     "name": "stdout",
     "output_type": "stream",
     "text": [
      "----------------------------------------------------------\n",
      "Confusion Matrix::\n",
      "\n",
      "col_0    0.0    1.0\n",
      "y                  \n",
      "0.0    21091   2844\n",
      "1.0     2882  13154\n",
      "\n",
      "Classification Report::\n",
      "              precision    recall  f1-score   support\n",
      "\n",
      "         0.0       0.88      0.88      0.88     23935\n",
      "         1.0       0.82      0.82      0.82     16036\n",
      "\n",
      "    accuracy                           0.86     39971\n",
      "   macro avg       0.85      0.85      0.85     39971\n",
      "weighted avg       0.86      0.86      0.86     39971\n",
      "\n"
     ]
    }
   ],
   "source": [
    "# Initialize the DECISION TREE classifier \n",
    "clf_DT_default = DecisionTreeClassifier(random_state=rand_state)\n",
    "\n",
    "# Fit the model\n",
    "clf_DT_default.fit(X_train_reduced_features, y_train)\n",
    "\n",
    "# Do the prediction and capture the error/performance metrics\n",
    "y_pred = clf_DT_default.predict(X_test_reduced_features)\n",
    "y_pred_proba = clf_DT_default.predict_proba(X_test_reduced_features)[:, 1]\n",
    "fpr, tpr, _ = roc_curve(y_test,  y_pred_proba)\n",
    "auc = roc_auc_score(y_test, y_pred_proba)\n",
    "(FP, FN, TP, TN, Cost, Accuracy, Recall, Precision) = confusion_mat(y_test, y_pred)\n",
    "\n",
    "# Append the results to the \"results_df\" dataframe for compare and contrast\n",
    "results_df = results_df.append({'Classifier':'Decision Tree'\n",
    "                                , 'Features':'Reduced'\n",
    "                                , 'Parameters': 'Default'\n",
    "                                , 'Accuracy': Accuracy\n",
    "                                , 'Recall': Recall\n",
    "                                , 'Precision': Precision\n",
    "                                , 'FPR': fpr\n",
    "                                , 'TPR': tpr\n",
    "                                , 'AUC': auc\n",
    "                                , 'True_Positives': TP\n",
    "                                , 'True_Negatives': TN\n",
    "                                , 'False_Positives': FP\n",
    "                                , 'False_Negatives': FN\n",
    "                                , 'Cost(1000s)': Cost\n",
    "                                }\n",
    "                                , ignore_index=True\n",
    "                               )"
   ]
  },
  {
   "cell_type": "markdown",
   "metadata": {},
   "source": [
    "---\n",
    "### Random Forest Classifier\n",
    "\n",
    "Random Forests are primarily based on Decision trees. \n",
    "- Are an ensemble of decision trees trained using the bagging methodology. \n",
    "- Leverages randomness when growing trees rather than just searching for the best feature when splitting a node.\n",
    "- Seeks the best feature among a random subset of features. \n",
    "- Delivers an enhanced model by trading higher bias for lower variance. \n",
    "\n",
    "Random Forests are useful in gaining a good understanding of feature importance especially when performing feature selection.\n",
    "\n",
    "---"
   ]
  },
  {
   "cell_type": "code",
   "execution_count": 46,
   "metadata": {},
   "outputs": [
    {
     "name": "stdout",
     "output_type": "stream",
     "text": [
      "----------------------------------------------------------\n",
      "Confusion Matrix::\n",
      "\n",
      "col_0    0.0    1.0\n",
      "y                  \n",
      "0.0    22883   1052\n",
      "1.0     1725  14311\n",
      "\n",
      "Classification Report::\n",
      "              precision    recall  f1-score   support\n",
      "\n",
      "         0.0       0.93      0.96      0.94     23935\n",
      "         1.0       0.93      0.89      0.91     16036\n",
      "\n",
      "    accuracy                           0.93     39971\n",
      "   macro avg       0.93      0.92      0.93     39971\n",
      "weighted avg       0.93      0.93      0.93     39971\n",
      "\n"
     ]
    }
   ],
   "source": [
    "# Initialize the RANDOM FOREST classifier \n",
    "clf_RF_default = RandomForestClassifier(random_state=rand_state)\n",
    "\n",
    "# Fit the model\n",
    "clf_RF_default.fit(X_train_reduced_features, y_train)\n",
    "\n",
    "# Do the prediction and capture the error/performance metrics\n",
    "y_pred = clf_RF_default.predict(X_test_reduced_features)\n",
    "y_pred_proba = clf_RF_default.predict_proba(X_test_reduced_features)[:, 1]\n",
    "fpr, tpr, _ = roc_curve(y_test,  y_pred_proba)\n",
    "auc = roc_auc_score(y_test, y_pred_proba)\n",
    "(FP, FN, TP, TN, Cost, Accuracy, Recall, Precision) = confusion_mat(y_test, y_pred)\n",
    "\n",
    "# Append the results to the \"results_df\" dataframe for compare and contrast\n",
    "results_df = results_df.append({'Classifier':'Random Forest'\n",
    "                                , 'Features':'Reduced'\n",
    "                                , 'Parameters': 'Default'\n",
    "                                , 'Accuracy': Accuracy\n",
    "                                , 'Recall': Recall\n",
    "                                , 'Precision': Precision\n",
    "                                , 'FPR': fpr\n",
    "                                , 'TPR': tpr\n",
    "                                , 'AUC': auc\n",
    "                                , 'True_Positives': TP\n",
    "                                , 'True_Negatives': TN\n",
    "                                , 'False_Positives': FP\n",
    "                                , 'False_Negatives': FN\n",
    "                                , 'Cost(1000s)': Cost\n",
    "                               }\n",
    "                               , ignore_index=True\n",
    "                              )"
   ]
  },
  {
   "cell_type": "markdown",
   "metadata": {},
   "source": [
    "---\n",
    "### XGBoost Classifier\n",
    "\n",
    "XGBoost is an optimized distributed gradient boosting library designed for high efficiency, flexibility and portability. \n",
    "- Machine learning algorithms are deployed leveraging the Gradient Boosting framework. \n",
    "- It provides a parallel tree boosting approach (GBDT, GBM) which is fast and accurate for solving data science problems. "
   ]
  },
  {
   "cell_type": "code",
   "execution_count": 47,
   "metadata": {},
   "outputs": [
    {
     "name": "stdout",
     "output_type": "stream",
     "text": [
      "----------------------------------------------------------\n",
      "Confusion Matrix::\n",
      "\n",
      "col_0    0.0    1.0\n",
      "y                  \n",
      "0.0    22580   1355\n",
      "1.0     1636  14400\n",
      "\n",
      "Classification Report::\n",
      "              precision    recall  f1-score   support\n",
      "\n",
      "         0.0       0.93      0.94      0.94     23935\n",
      "         1.0       0.91      0.90      0.91     16036\n",
      "\n",
      "    accuracy                           0.93     39971\n",
      "   macro avg       0.92      0.92      0.92     39971\n",
      "weighted avg       0.93      0.93      0.93     39971\n",
      "\n"
     ]
    }
   ],
   "source": [
    "# Initialize the XGBOOST Classifier\n",
    "clf_XGB_default = XGBClassifier(random_state=rand_state)\n",
    "\n",
    "# Fit the model\n",
    "clf_XGB_default.fit(X_train_reduced_features, y_train)\n",
    "\n",
    "# Do the prediction and capture the error/performance metrics\n",
    "y_pred = clf_XGB_default.predict(X_test_reduced_features)\n",
    "y_pred_proba = clf_XGB_default.predict_proba(X_test_reduced_features)[:, 1]\n",
    "fpr, tpr, _ = roc_curve(y_test,  y_pred_proba)\n",
    "auc = roc_auc_score(y_test, y_pred_proba)\n",
    "(FP, FN, TP, TN, Cost, Accuracy, Recall, Precision) = confusion_mat(y_test, y_pred)\n",
    "\n",
    "# Append the results to the \"results_df\" dataframe for compare and contrast\n",
    "results_df = results_df.append({'Classifier':'XGB'\n",
    "                                , 'Features':'Reduced'\n",
    "                                , 'Parameters': 'Default'\n",
    "                                , 'Accuracy': Accuracy\n",
    "                                , 'Recall': Recall\n",
    "                                , 'Precision': Precision\n",
    "                                , 'FPR': fpr\n",
    "                                , 'TPR': tpr\n",
    "                                , 'AUC': auc\n",
    "                                , 'True_Positives': TP\n",
    "                                , 'True_Negatives': TN\n",
    "                                , 'False_Positives': FP\n",
    "                                , 'False_Negatives': FN\n",
    "                                , 'Cost(1000s)': Cost\n",
    "                               }\n",
    "                               , ignore_index=True\n",
    "                              )"
   ]
  },
  {
   "cell_type": "code",
   "execution_count": 48,
   "metadata": {},
   "outputs": [
    {
     "data": {
      "text/html": [
       "<div>\n",
       "<style scoped>\n",
       "    .dataframe tbody tr th:only-of-type {\n",
       "        vertical-align: middle;\n",
       "    }\n",
       "\n",
       "    .dataframe tbody tr th {\n",
       "        vertical-align: top;\n",
       "    }\n",
       "\n",
       "    .dataframe thead th {\n",
       "        text-align: right;\n",
       "    }\n",
       "</style>\n",
       "<table border=\"1\" class=\"dataframe\">\n",
       "  <thead>\n",
       "    <tr style=\"text-align: right;\">\n",
       "      <th></th>\n",
       "      <th>Classifier</th>\n",
       "      <th>Features</th>\n",
       "      <th>Parameters</th>\n",
       "      <th>Accuracy</th>\n",
       "      <th>Recall</th>\n",
       "      <th>Precision</th>\n",
       "      <th>AUC</th>\n",
       "      <th>True_Positives</th>\n",
       "      <th>True_Negatives</th>\n",
       "      <th>False_Positives</th>\n",
       "      <th>False_Negatives</th>\n",
       "      <th>Cost(1000s)</th>\n",
       "    </tr>\n",
       "  </thead>\n",
       "  <tbody>\n",
       "  </tbody>\n",
       "</table>\n",
       "</div>"
      ],
      "text/plain": [
       "Empty DataFrame\n",
       "Columns: [Classifier, Features, Parameters, Accuracy, Recall, Precision, AUC, True_Positives, True_Negatives, False_Positives, False_Negatives, Cost(1000s)]\n",
       "Index: []"
      ]
     },
     "execution_count": 48,
     "metadata": {},
     "output_type": "execute_result"
    }
   ],
   "source": [
    "# Review the combined results matrix\n",
    "results_df_reduced"
   ]
  },
  {
   "cell_type": "markdown",
   "metadata": {},
   "source": [
    "---\n",
    "## RandomizedSearchCV to choose best parameters\n",
    "---\n",
    "\n",
    "In RandomizedSearchCV all hyperparameter values are not tested. Instead, a fixed number of hyperparameter settings are sampled from specified probability distributions.\n",
    "\n",
    "### Options for RandomizedSearchCV\n",
    "- estimator - A object of that type is instantiated for each grid point\n",
    "    - Assigned as per algorithm being tuned\n",
    "    \n",
    "    \n",
    "- param_distributions - Dictionary with parameters names (string) as keys and distributions or lists of parameters to try\n",
    "    - Assigned as per algorithm being tuned\n",
    "    \n",
    "    \n",
    "- scoring - A single string to evaluate the predictions on the test set\n",
    "    - Parameter setting: **['precision' , 'recall' , 'accuracy']**\n",
    "    \n",
    "    \n",
    "- cv - Determines the cross-validation splitting strategy\n",
    "    - Parameter setting: **5**\n",
    "    \n",
    "    \n",
    "- refit - Refit an estimator using the best found parameters on the whole dataset\n",
    "    - Parameter setting: **recall**\n",
    "    \n",
    "    \n",
    "- n_iterint - Number of parameter settings that are sampled. n_iter trades off runtime vs quality of the solution\n",
    "    - Parameter setting: **10**"
   ]
  },
  {
   "cell_type": "code",
   "execution_count": 49,
   "metadata": {},
   "outputs": [
    {
     "name": "stdout",
     "output_type": "stream",
     "text": [
      "['precision', 'recall', 'accuracy']\n"
     ]
    }
   ],
   "source": [
    "# Initialize the \"scores\" variable with metrics\n",
    "scores = ['precision'\n",
    "          , 'recall'\n",
    "          , 'accuracy'\n",
    "         ]\n",
    "\n",
    "# Review the variable\n",
    "print(scores)"
   ]
  },
  {
   "cell_type": "code",
   "execution_count": 50,
   "metadata": {},
   "outputs": [],
   "source": [
    "# Define a custom function to capture the performance metrics\n",
    "def report_perf(clf, n_top = 3, clf_name = \"\", verbose=True):\n",
    "    if(verbose):\n",
    "        for n in range(1, n_top+1):\n",
    "            candidates = np.flatnonzero(clf.cv_results_['rank_test_recall'] == n)\n",
    "            for candidate in candidates:\n",
    "                print('Model with rank: {0}'.format(n))\n",
    "                print('Mean validation score (Recall on Test): {0:.3f} (std: {1:.3f})'.format(\n",
    "                    clf.cv_results_['mean_test_recall'][candidate], clf.cv_results_['std_test_recall'][candidate]))\n",
    "                print('ParametersL {0}',format(clf.cv_results_['params'][candidate]))\n",
    "    return{'Classifier': clf_name\n",
    "           , 'Best_Parameters': str(clf.best_params_)\n",
    "           , 'Best_Estimator': str(clf.best_estimator_)\n",
    "           , 'Precision_Mean':clf.cv_results_['mean_test_precision'][clf.best_index_]\n",
    "           , 'Precision_std':clf.cv_results_['std_test_precision'][clf.best_index_]\n",
    "           , 'Recall_Mean':clf.cv_results_['mean_test_recall'][clf.best_index_]\n",
    "           , 'Recall_std':clf.cv_results_['std_test_recall'][clf.best_index_]\n",
    "          }"
   ]
  },
  {
   "cell_type": "markdown",
   "metadata": {},
   "source": [
    "---\n",
    "### Decision Tree\n",
    "\n",
    "Tuning the *Decision Tree Classifier*:\n",
    "- max_depth: The maximum depth of the tree.\n",
    "    - Parameter setting: **[10, 20, 30, None]**\n",
    "    \n",
    "    \n",
    "- max_features: The number of features to consider when looking for the best split\n",
    "    - Parameter setting: **['auto', 'sqrt']**\n",
    "    \n",
    "    \n",
    "- criterion: The function to measure the quality of a split. Supported criteria are \"gini\" for the Gini impurity and \"entropy\" for the information gain.\n",
    "    - Parameter setting: **['gini','entropy']**\n",
    "    \n",
    "    \n",
    "- min_samples_leaf: The minimum number of samples required to be at a leaf node.  \n",
    "    - Parameter setting: **[1, 2, 4]**\n",
    "    \n",
    "    \n",
    "- min_samples_split: The minimum number of samples required to split an internal node\n",
    "    - Parameter setting: **[2, 5, 10]**\n",
    "    \n",
    "    \n",
    "- random_state - If int, random_state is the seed used by the random number generator\n",
    "    - Parameter setting: **10**"
   ]
  },
  {
   "cell_type": "code",
   "execution_count": 51,
   "metadata": {},
   "outputs": [
    {
     "data": {
      "text/plain": [
       "RandomizedSearchCV(cv=5, error_score=nan,\n",
       "                   estimator=DecisionTreeClassifier(ccp_alpha=0.0,\n",
       "                                                    class_weight=None,\n",
       "                                                    criterion='gini',\n",
       "                                                    max_depth=None,\n",
       "                                                    max_features=None,\n",
       "                                                    max_leaf_nodes=None,\n",
       "                                                    min_impurity_decrease=0.0,\n",
       "                                                    min_impurity_split=None,\n",
       "                                                    min_samples_leaf=1,\n",
       "                                                    min_samples_split=2,\n",
       "                                                    min_weight_fraction_leaf=0.0,\n",
       "                                                    presort='deprecated',\n",
       "                                                    random_state=101,\n",
       "                                                    splitter='best'),\n",
       "                   iid='deprecated', n_iter=10, n_jobs=None,\n",
       "                   param_distributions={'criterion': ['gini', 'entropy'],\n",
       "                                        'max_depth': [10, 20, 30, None],\n",
       "                                        'max_features': ['auto', 'sqrt'],\n",
       "                                        'min_samples_leaf': [1, 2, 4],\n",
       "                                        'min_samples_split': [2, 5, 10]},\n",
       "                   pre_dispatch='2*n_jobs', random_state=None, refit='recall',\n",
       "                   return_train_score=False,\n",
       "                   scoring=['precision', 'recall', 'accuracy'], verbose=0)"
      ]
     },
     "execution_count": 51,
     "metadata": {},
     "output_type": "execute_result"
    }
   ],
   "source": [
    "# Initialize the Decision Tree Classifier\n",
    "clf_DT = DecisionTreeClassifier(random_state=rand_state)\n",
    "\n",
    "# Set the tuning parameters\n",
    "tuned_parameters_DT={'max_depth': [10, 20, 30, None]\n",
    "                     , 'max_features': ['auto', 'sqrt']\n",
    "                     , 'criterion':['gini','entropy']\n",
    "                     , 'min_samples_leaf': [1, 2, 4]\n",
    "                     , 'min_samples_split': [2, 5, 10]\n",
    "                    }\n",
    "\n",
    "random_search_DT = RandomizedSearchCV(estimator=clf_DT\n",
    "                                      , param_distributions=tuned_parameters_DT\n",
    "                                      , cv = 5\n",
    "                                      , scoring = scores\n",
    "                                      , refit ='recall'\n",
    "                                      , n_iter=10\n",
    "                                     )\n",
    "\n",
    "# Run the RandomizedSearchCV for the Classifier\n",
    "random_search_DT.fit(X_train_reduced_features, y_train)"
   ]
  },
  {
   "cell_type": "code",
   "execution_count": 52,
   "metadata": {
    "scrolled": false
   },
   "outputs": [
    {
     "name": "stdout",
     "output_type": "stream",
     "text": [
      "Model with rank: 1\n",
      "Mean validation score (Recall on Test): 0.794 (std: 0.008)\n",
      "ParametersL {0} {'min_samples_split': 10, 'min_samples_leaf': 1, 'max_features': 'sqrt', 'max_depth': 20, 'criterion': 'entropy'}\n",
      "Model with rank: 2\n",
      "Mean validation score (Recall on Test): 0.788 (std: 0.004)\n",
      "ParametersL {0} {'min_samples_split': 5, 'min_samples_leaf': 1, 'max_features': 'auto', 'max_depth': None, 'criterion': 'gini'}\n",
      "Model with rank: 3\n",
      "Mean validation score (Recall on Test): 0.788 (std: 0.008)\n",
      "ParametersL {0} {'min_samples_split': 2, 'min_samples_leaf': 4, 'max_features': 'sqrt', 'max_depth': 30, 'criterion': 'entropy'}\n"
     ]
    },
    {
     "data": {
      "text/plain": [
       "{'Classifier': 'Decision_Tree',\n",
       " 'Best_Parameters': \"{'min_samples_split': 10, 'min_samples_leaf': 1, 'max_features': 'sqrt', 'max_depth': 20, 'criterion': 'entropy'}\",\n",
       " 'Best_Estimator': \"DecisionTreeClassifier(ccp_alpha=0.0, class_weight=None, criterion='entropy',\\n                       max_depth=20, max_features='sqrt', max_leaf_nodes=None,\\n                       min_impurity_decrease=0.0, min_impurity_split=None,\\n                       min_samples_leaf=1, min_samples_split=10,\\n                       min_weight_fraction_leaf=0.0, presort='deprecated',\\n                       random_state=101, splitter='best')\",\n",
       " 'Precision_Mean': 0.8215580804786354,\n",
       " 'Precision_std': 0.0030117029435736044,\n",
       " 'Recall_Mean': 0.7939013794285439,\n",
       " 'Recall_std': 0.0075226614140572}"
      ]
     },
     "execution_count": 52,
     "metadata": {},
     "output_type": "execute_result"
    }
   ],
   "source": [
    "# Capture the performance metrics for the Decision Tree tuning\n",
    "DT_report = report_perf(random_search_DT, n_top = 3, clf_name='Decision_Tree')\n",
    "\n",
    "# Display the report\n",
    "DT_report"
   ]
  },
  {
   "cell_type": "markdown",
   "metadata": {},
   "source": [
    "---\n",
    "### Random Forest\n",
    "\n",
    "Tuning the parameters for the *Random Forest Classifier:\n",
    "- n_estimators: The number of trees in the forest.\n",
    "    - Parameter setting: **[100, 200]**\n",
    "    \n",
    "    \n",
    "- max_depth: The maximum depth of the tree.\n",
    "    - Parameter setting: **[25, 50, None]**\n",
    "    \n",
    "    \n",
    "- criterion: function to measure the quality of a split. Supported criteria are \"gini\" for Gini impurity and \"entropy\" for information gain.\n",
    "    - Parameter setting: **['gini','entropy']**\n",
    "    \n",
    "    \n",
    "- min_samples_leaf: The minimum number of samples required to be at a leaf node.\n",
    "    - Parameter setting: **[1, 25, 50]**\n",
    "    \n",
    "    \n",
    "- max_features: The number of features to consider when looking for the best split.\n",
    "    - Parameter setting: **[.2, .3, 'auto']**\n",
    "    \n",
    "    \n",
    "- min_samples_split: The minimum number of samples required to split an internal node.\n",
    "    - Parameter setting: **[2, 4, 8, 10, 12]**"
   ]
  },
  {
   "cell_type": "code",
   "execution_count": 53,
   "metadata": {},
   "outputs": [
    {
     "data": {
      "text/plain": [
       "RandomizedSearchCV(cv=5, error_score=nan,\n",
       "                   estimator=RandomForestClassifier(bootstrap=True,\n",
       "                                                    ccp_alpha=0.0,\n",
       "                                                    class_weight=None,\n",
       "                                                    criterion='gini',\n",
       "                                                    max_depth=None,\n",
       "                                                    max_features='auto',\n",
       "                                                    max_leaf_nodes=None,\n",
       "                                                    max_samples=None,\n",
       "                                                    min_impurity_decrease=0.0,\n",
       "                                                    min_impurity_split=None,\n",
       "                                                    min_samples_leaf=1,\n",
       "                                                    min_samples_split=2,\n",
       "                                                    min_weight_fraction_leaf=0.0,\n",
       "                                                    n_estimators=100,\n",
       "                                                    n_jobs...\n",
       "                   iid='deprecated', n_iter=10, n_jobs=None,\n",
       "                   param_distributions={'criterion': ['gini', 'entropy'],\n",
       "                                        'max_depth': [25, 50, None],\n",
       "                                        'max_features': [0.2, 0.3, 'auto'],\n",
       "                                        'min_samples_leaf': [1, 25, 50],\n",
       "                                        'min_samples_split': [2, 4, 8, 10, 12],\n",
       "                                        'n_estimators': [100, 200]},\n",
       "                   pre_dispatch='2*n_jobs', random_state=None, refit='recall',\n",
       "                   return_train_score=False,\n",
       "                   scoring=['precision', 'recall', 'accuracy'], verbose=0)"
      ]
     },
     "execution_count": 53,
     "metadata": {},
     "output_type": "execute_result"
    }
   ],
   "source": [
    "# Initialize the Random Forest Classifier\n",
    "clf_RF = RandomForestClassifier(random_state=rand_state)\n",
    "\n",
    "# Set the tuning parameters\n",
    "tuned_parameters_RF={'n_estimators':[100, 200]\n",
    "                     , 'max_depth':[25, 50, None]\n",
    "                     , 'criterion':['gini','entropy']\n",
    "                     , 'min_samples_leaf': [1, 25, 50]\n",
    "                     , 'max_features':[.2, .3, 'auto']\n",
    "                     , 'min_samples_split':[2, 4, 8, 10, 12]\n",
    "                    }\n",
    "\n",
    "random_search_RF = RandomizedSearchCV(estimator=clf_RF\n",
    "                                      , param_distributions=tuned_parameters_RF\n",
    "                                      , cv = 5\n",
    "                                      , scoring = scores\n",
    "                                      , refit = 'recall'\n",
    "                                      , n_iter=10\n",
    "                                     )\n",
    "\n",
    "# Run the RandomizedSearchCV for the Classifier\n",
    "random_search_RF.fit(X_train_reduced_features, y_train)"
   ]
  },
  {
   "cell_type": "code",
   "execution_count": 54,
   "metadata": {
    "scrolled": true
   },
   "outputs": [
    {
     "name": "stdout",
     "output_type": "stream",
     "text": [
      "Model with rank: 1\n",
      "Mean validation score (Recall on Test): 0.898 (std: 0.002)\n",
      "ParametersL {0} {'n_estimators': 200, 'min_samples_split': 2, 'min_samples_leaf': 1, 'max_features': 0.3, 'max_depth': None, 'criterion': 'entropy'}\n",
      "Model with rank: 2\n",
      "Mean validation score (Recall on Test): 0.892 (std: 0.003)\n",
      "ParametersL {0} {'n_estimators': 200, 'min_samples_split': 4, 'min_samples_leaf': 1, 'max_features': 0.2, 'max_depth': 50, 'criterion': 'entropy'}\n",
      "Model with rank: 3\n",
      "Mean validation score (Recall on Test): 0.886 (std: 0.003)\n",
      "ParametersL {0} {'n_estimators': 200, 'min_samples_split': 12, 'min_samples_leaf': 1, 'max_features': 0.2, 'max_depth': None, 'criterion': 'entropy'}\n"
     ]
    },
    {
     "data": {
      "text/plain": [
       "{'Classifier': 'Random_Forest',\n",
       " 'Best_Parameters': \"{'n_estimators': 200, 'min_samples_split': 2, 'min_samples_leaf': 1, 'max_features': 0.3, 'max_depth': None, 'criterion': 'entropy'}\",\n",
       " 'Best_Estimator': \"RandomForestClassifier(bootstrap=True, ccp_alpha=0.0, class_weight=None,\\n                       criterion='entropy', max_depth=None, max_features=0.3,\\n                       max_leaf_nodes=None, max_samples=None,\\n                       min_impurity_decrease=0.0, min_impurity_split=None,\\n                       min_samples_leaf=1, min_samples_split=2,\\n                       min_weight_fraction_leaf=0.0, n_estimators=200,\\n                       n_jobs=None, oob_score=False, random_state=101,\\n                       verbose=0, warm_start=False)\",\n",
       " 'Precision_Mean': 0.9329361920880934,\n",
       " 'Precision_std': 0.0024077105849572736,\n",
       " 'Recall_Mean': 0.898125087133691,\n",
       " 'Recall_std': 0.0022644489577372394}"
      ]
     },
     "execution_count": 54,
     "metadata": {},
     "output_type": "execute_result"
    }
   ],
   "source": [
    "# Capture the performance metrics for the Random Forest tuning\n",
    "RF_report = report_perf(random_search_RF, n_top = 3, clf_name='Random_Forest')\n",
    "\n",
    "# Display the report\n",
    "RF_report"
   ]
  },
  {
   "cell_type": "markdown",
   "metadata": {},
   "source": [
    "---\n",
    "### XGBoost Classifier\n",
    "\n",
    "Tuning the parameters for XGBoost:\n",
    "- n_estimators: Number of gradient boosted trees. Equivalent to number of boosting rounds.\n",
    "    - Parameter setting: **[100, 150, 1000]**\n",
    "    \n",
    "    \n",
    "- learning_rate: Boosting learning rate (xgb’s “eta”)\n",
    "    - Parameter setting: **[0.01, 0.6, None]**\n",
    "    \n",
    "    \n",
    "- subsample: Subsample ratio of the training instances.\n",
    "    - Parameter setting: **[0.3, 0.9, None]**\n",
    "    \n",
    "    \n",
    "- max_depth: Maximum depth of a tree.\n",
    "    - Parameter setting: **[3, 4, 5, 6, 7, 8, 9, None]**\n",
    "    \n",
    "    \n",
    "- colsample_bytree: The subsample ratio of columns when constructing each tree. Subsampling occurs once for every tree constructed.\n",
    "    - Parameter setting: **[0.5, 0.9, None]**\n",
    "    \n",
    "    \n",
    "- min_child_weight: Minimum sum of instance weight (hessian) needed in a child.\n",
    "    - Parameter setting: **[1, 2, 3, 4, None]**"
   ]
  },
  {
   "cell_type": "code",
   "execution_count": 55,
   "metadata": {},
   "outputs": [
    {
     "data": {
      "text/plain": [
       "RandomizedSearchCV(cv=5, error_score=nan,\n",
       "                   estimator=XGBClassifier(base_score=None, booster=None,\n",
       "                                           colsample_bylevel=None,\n",
       "                                           colsample_bynode=None,\n",
       "                                           colsample_bytree=None, gamma=None,\n",
       "                                           gpu_id=None, importance_type='gain',\n",
       "                                           interaction_constraints=None,\n",
       "                                           learning_rate=None,\n",
       "                                           max_delta_step=None, max_depth=None,\n",
       "                                           min_child_weight=None, missing=nan,\n",
       "                                           monotone_constraints=None,\n",
       "                                           n...\n",
       "                   iid='deprecated', n_iter=10, n_jobs=None,\n",
       "                   param_distributions={'colsample_bytree': [0.5, 0.9, None],\n",
       "                                        'learning_rate': [0.01, 0.6, None],\n",
       "                                        'max_depth': [3, 4, 5, 6, 7, 8, 9,\n",
       "                                                      None],\n",
       "                                        'min_child_weight': [1, 2, 3, 4, None],\n",
       "                                        'n_estimators': [100, 150, 1000],\n",
       "                                        'subsample': [0.3, 0.9, None]},\n",
       "                   pre_dispatch='2*n_jobs', random_state=None, refit='recall',\n",
       "                   return_train_score=False,\n",
       "                   scoring=['precision', 'recall', 'accuracy'], verbose=0)"
      ]
     },
     "execution_count": 55,
     "metadata": {},
     "output_type": "execute_result"
    }
   ],
   "source": [
    "# Initialize the XGBoost Classifier\n",
    "clf_XGB = XGBClassifier(random_state=rand_state)\n",
    "\n",
    "# Set the tuning parameters\n",
    "tuned_parameters_XGB={'n_estimators': [100, 150, 1000]\n",
    "                      , 'learning_rate': [0.01, 0.6, None]\n",
    "                      , 'subsample': [0.3, 0.9, None]\n",
    "                      , 'max_depth': [3, 4, 5, 6, 7, 8, 9, None]\n",
    "                      , 'colsample_bytree': [0.5, 0.9, None]\n",
    "                      , 'min_child_weight': [1, 2, 3, 4, None]\n",
    "                     }\n",
    "\n",
    "random_search_XGB = RandomizedSearchCV(estimator=clf_XGB\n",
    "                                      , param_distributions=tuned_parameters_XGB\n",
    "                                      , cv = 5\n",
    "                                      , scoring = scores\n",
    "                                      , refit ='recall'\n",
    "                                      , n_iter=10\n",
    "                                     )\n",
    "# Run the RandomizedSearchCV for the XGBoost Classifier\n",
    "random_search_XGB.fit(X_train_reduced_features, y_train)"
   ]
  },
  {
   "cell_type": "code",
   "execution_count": 56,
   "metadata": {
    "scrolled": true
   },
   "outputs": [
    {
     "name": "stdout",
     "output_type": "stream",
     "text": [
      "Model with rank: 1\n",
      "Mean validation score (Recall on Test): 0.916 (std: 0.004)\n",
      "ParametersL {0} {'subsample': None, 'n_estimators': 150, 'min_child_weight': 2, 'max_depth': 8, 'learning_rate': None, 'colsample_bytree': 0.9}\n",
      "Model with rank: 2\n",
      "Mean validation score (Recall on Test): 0.904 (std: 0.003)\n",
      "ParametersL {0} {'subsample': None, 'n_estimators': 100, 'min_child_weight': 3, 'max_depth': 8, 'learning_rate': 0.6, 'colsample_bytree': 0.5}\n",
      "Model with rank: 3\n",
      "Mean validation score (Recall on Test): 0.894 (std: 0.002)\n",
      "ParametersL {0} {'subsample': None, 'n_estimators': 100, 'min_child_weight': 4, 'max_depth': 5, 'learning_rate': 0.6, 'colsample_bytree': 0.9}\n"
     ]
    },
    {
     "data": {
      "text/plain": [
       "{'Classifier': 'XGBoost',\n",
       " 'Best_Parameters': \"{'subsample': None, 'n_estimators': 150, 'min_child_weight': 2, 'max_depth': 8, 'learning_rate': None, 'colsample_bytree': 0.9}\",\n",
       " 'Best_Estimator': \"XGBClassifier(base_score=0.5, booster='gbtree', colsample_bylevel=1,\\n              colsample_bynode=1, colsample_bytree=0.9, gamma=0, gpu_id=-1,\\n              importance_type='gain', interaction_constraints='',\\n              learning_rate=0.300000012, max_delta_step=0, max_depth=8,\\n              min_child_weight=2, missing=nan, monotone_constraints='()',\\n              n_estimators=150, n_jobs=0, num_parallel_tree=1,\\n              objective='binary:logistic', random_state=101, reg_alpha=0,\\n              reg_lambda=1, scale_pos_weight=1, subsample=1,\\n              tree_method='exact', validate_parameters=1, verbosity=None)\",\n",
       " 'Precision_Mean': 0.9304915296094689,\n",
       " 'Precision_std': 0.0020934980870729184,\n",
       " 'Recall_Mean': 0.9162924646643649,\n",
       " 'Recall_std': 0.0035141997163698558}"
      ]
     },
     "execution_count": 56,
     "metadata": {},
     "output_type": "execute_result"
    }
   ],
   "source": [
    "# Capture the performance metrics for the XGBoost tuning\n",
    "XGB_report = report_perf(random_search_XGB, n_top = 3, clf_name='XGBoost')\n",
    "\n",
    "# Display the report\n",
    "XGB_report"
   ]
  },
  {
   "cell_type": "markdown",
   "metadata": {},
   "source": [
    "### Append random_state to the best parameters\n",
    "\n",
    "Assign the best parameters from each Random Search model to a variable and add the random state parameter to it. These variables are then used to train the models with **reduced features and best parameters**."
   ]
  },
  {
   "cell_type": "code",
   "execution_count": 57,
   "metadata": {},
   "outputs": [],
   "source": [
    "DT_best_params = random_search_DT.best_params_\n",
    "DT_best_params['random_state'] = rand_state\n",
    "\n",
    "RF_best_params = random_search_RF.best_params_\n",
    "RF_best_params['random_state'] = rand_state\n",
    "\n",
    "XGB_best_params = random_search_XGB.best_params_\n",
    "XGB_best_params['random_state'] = rand_state"
   ]
  },
  {
   "cell_type": "markdown",
   "metadata": {},
   "source": [
    "---\n",
    "## Train Models using Reduced Features and Best Parameters\n",
    "---"
   ]
  },
  {
   "cell_type": "markdown",
   "metadata": {},
   "source": [
    "### Decision Tree (reduced features and best parameters)\n",
    "- The best parameter (with random_state) from the previous step is chosen as classifier\n",
    "- Confusion Matrix and Classification Reports are displayed "
   ]
  },
  {
   "cell_type": "code",
   "execution_count": 58,
   "metadata": {},
   "outputs": [
    {
     "name": "stdout",
     "output_type": "stream",
     "text": [
      "----------------------------------------------------------\n",
      "Confusion Matrix::\n",
      "\n",
      "col_0    0.0    1.0\n",
      "y                  \n",
      "0.0    21107   2828\n",
      "1.0     3209  12827\n",
      "\n",
      "Classification Report::\n",
      "              precision    recall  f1-score   support\n",
      "\n",
      "         0.0       0.87      0.88      0.87     23935\n",
      "         1.0       0.82      0.80      0.81     16036\n",
      "\n",
      "    accuracy                           0.85     39971\n",
      "   macro avg       0.84      0.84      0.84     39971\n",
      "weighted avg       0.85      0.85      0.85     39971\n",
      "\n"
     ]
    }
   ],
   "source": [
    "# Initialize the Classifier using the best parameters from the Grid Search\n",
    "clf_DT_best = DecisionTreeClassifier(**DT_best_params)\n",
    "\n",
    "# Fit the model\n",
    "clf_DT_best.fit(X_train_reduced_features, y_train)\n",
    "\n",
    "# Predict and capture the predictions\n",
    "y_pred_DT = clf_DT_best.predict(X_test_reduced_features)\n",
    "\n",
    "# Capture the prediction probability of the outcome\n",
    "y_pred_proba = clf_DT_best.predict_proba(X_test_reduced_features)[:, 1]\n",
    "\n",
    "# Capture all model evaluation metrics\n",
    "fpr, tpr, _ = roc_curve(y_test,  y_pred_proba)\n",
    "auc = roc_auc_score(y_test, y_pred_proba)\n",
    "(FP, FN, TP, TN, Cost, Accuracy, Recall, Precision) = confusion_mat(y_test, y_pred_DT)\n",
    "\n",
    "# Save the results to the results dataframe\n",
    "results_df = results_df.append({'Classifier':'Decision Tree'\n",
    "                                , 'Features':'Reduced'\n",
    "                                , 'Parameters': 'Best'\n",
    "                                , 'Accuracy': Accuracy\n",
    "                                , 'Recall': Recall\n",
    "                                , 'Precision': Precision\n",
    "                                , 'FPR': fpr\n",
    "                                , 'TPR': tpr\n",
    "                                , 'AUC': auc\n",
    "                                , 'True_Positives': TP\n",
    "                                , 'True_Negatives': TN\n",
    "                                , 'False_Positives': FP\n",
    "                                , 'False_Negatives': FN\n",
    "                                , 'Cost(1000s)': Cost\n",
    "                               }\n",
    "                               , ignore_index=True\n",
    "                              )"
   ]
  },
  {
   "cell_type": "markdown",
   "metadata": {},
   "source": [
    "### Random Forest (reduced features and best parameters)\n",
    "- The best estimator from the previous step is chosen as classifier\n",
    "- Confusion Matrix and Classification Reports are displayed "
   ]
  },
  {
   "cell_type": "code",
   "execution_count": 59,
   "metadata": {},
   "outputs": [
    {
     "name": "stdout",
     "output_type": "stream",
     "text": [
      "----------------------------------------------------------\n",
      "Confusion Matrix::\n",
      "\n",
      "col_0    0.0    1.0\n",
      "y                  \n",
      "0.0    22880   1055\n",
      "1.0     1587  14449\n",
      "\n",
      "Classification Report::\n",
      "              precision    recall  f1-score   support\n",
      "\n",
      "         0.0       0.94      0.96      0.95     23935\n",
      "         1.0       0.93      0.90      0.92     16036\n",
      "\n",
      "    accuracy                           0.93     39971\n",
      "   macro avg       0.93      0.93      0.93     39971\n",
      "weighted avg       0.93      0.93      0.93     39971\n",
      "\n"
     ]
    }
   ],
   "source": [
    "# Initialize the Classifier using the best parameters from the Grid Search\n",
    "clf_RF_best = RandomForestClassifier(**RF_best_params)\n",
    "\n",
    "# Fit the model\n",
    "clf_RF_best.fit(X_train_reduced_features, y_train)\n",
    "\n",
    "# Predict and capture the predictions\n",
    "y_pred_RF = clf_RF_best.predict(X_test_reduced_features)\n",
    "\n",
    "# Capture the prediction probability of the outcome\n",
    "y_pred_proba = clf_RF_best.predict_proba(X_test_reduced_features)[:, 1]\n",
    "\n",
    "# Capture all model evaluation metrics\n",
    "fpr, tpr, _ = roc_curve(y_test,  y_pred_proba)\n",
    "auc = roc_auc_score(y_test, y_pred_proba)\n",
    "(FP, FN, TP, TN, Cost, Accuracy, Recall, Precision) = confusion_mat(y_test, y_pred_RF)\n",
    "\n",
    "# Save the results to the results dataframe\n",
    "results_df = results_df.append({'Classifier':'Random Forest'\n",
    "                                , 'Features':'Reduced'\n",
    "                                , 'Parameters': 'Best'\n",
    "                                , 'Accuracy': Accuracy\n",
    "                                , 'Recall': Recall\n",
    "                                , 'Precision': Precision\n",
    "                                , 'FPR': fpr\n",
    "                                , 'TPR': tpr\n",
    "                                , 'AUC': auc\n",
    "                                , 'True_Positives': TP\n",
    "                                , 'True_Negatives': TN\n",
    "                                , 'False_Positives': FP\n",
    "                                , 'False_Negatives': FN\n",
    "                                , 'Cost(1000s)': Cost\n",
    "                               }\n",
    "                               , ignore_index=True\n",
    "                              )"
   ]
  },
  {
   "cell_type": "markdown",
   "metadata": {},
   "source": [
    "### XGBoost (reduced features and best parameters)\n",
    "- The best estimator from the previous step is chosen as classifier\n",
    "- Confusion Matrix and Classification Reports are displayed "
   ]
  },
  {
   "cell_type": "code",
   "execution_count": 60,
   "metadata": {},
   "outputs": [
    {
     "name": "stdout",
     "output_type": "stream",
     "text": [
      "----------------------------------------------------------\n",
      "Confusion Matrix::\n",
      "\n",
      "col_0    0.0    1.0\n",
      "y                  \n",
      "0.0    22814   1121\n",
      "1.0     1332  14704\n",
      "\n",
      "Classification Report::\n",
      "              precision    recall  f1-score   support\n",
      "\n",
      "         0.0       0.94      0.95      0.95     23935\n",
      "         1.0       0.93      0.92      0.92     16036\n",
      "\n",
      "    accuracy                           0.94     39971\n",
      "   macro avg       0.94      0.94      0.94     39971\n",
      "weighted avg       0.94      0.94      0.94     39971\n",
      "\n"
     ]
    }
   ],
   "source": [
    "# Initialize the Classifier using the best parameters from the Grid Search\n",
    "clf_XGB_Best = XGBClassifier(**XGB_best_params)\n",
    "\n",
    "# Fit the model\n",
    "clf_XGB_Best.fit(X_train_reduced_features, y_train)\n",
    "\n",
    "# Predict and capture the predictions\n",
    "y_pred_XGB = clf_XGB_Best.predict(X_test_reduced_features)\n",
    "\n",
    "# Capture the prediction probability of the outcome\n",
    "y_pred_proba = clf_XGB_Best.predict_proba(X_test_reduced_features)[:, 1]\n",
    "\n",
    "# Capture all model evaluation metrics\n",
    "fpr, tpr, _ = roc_curve(y_test,  y_pred_proba)\n",
    "auc = roc_auc_score(y_test, y_pred_proba)\n",
    "(FP, FN, TP, TN, Cost, Accuracy, Recall, Precision) = confusion_mat(y_test, y_pred_XGB)\n",
    "\n",
    "# Save the results to the results dataframe\n",
    "results_df = results_df.append({'Classifier':'XGB'\n",
    "                                , 'Features':'Reduced'\n",
    "                                , 'Parameters': 'Best'\n",
    "                                , 'Accuracy': Accuracy\n",
    "                                , 'Recall': Recall\n",
    "                                , 'Precision': Precision\n",
    "                                , 'FPR': fpr\n",
    "                                , 'TPR': tpr\n",
    "                                , 'AUC': auc\n",
    "                                , 'True_Positives': TP\n",
    "                                , 'True_Negatives': TN\n",
    "                                , 'False_Positives': FP\n",
    "                                , 'False_Negatives': FN\n",
    "                                , 'Cost(1000s)': Cost\n",
    "                               }\n",
    "                               , ignore_index=True\n",
    "                              )"
   ]
  },
  {
   "cell_type": "markdown",
   "metadata": {},
   "source": [
    "---\n",
    "## ENSEMBLE MODELS\n",
    "\n",
    "The goal of ensemble methods is to combine the predictions of several base estimators in order to improve generalizability and robustness versus a single estimator.\n",
    "\n",
    "Stacking, also called Super Learning or Stacked Regression, is a class of algorithms that involves training a second-level \"metalearner\" to find the optimal combination of the base learners. Unlike bagging and boosting, the goal in stacking is to ensemble strong and diverse sets of learners together.\n",
    "\n",
    "![title](img/EnsembleModels3.png) \n",
    "\n",
    "References: https://www.kdnuggets.com/2019/01/ensemble-learning-5-main-approaches.html\n"
   ]
  },
  {
   "cell_type": "markdown",
   "metadata": {},
   "source": [
    "### Ensemble Model 1 - Stacking\n",
    "\n",
    "In this ensemble technique we leverage the vecstack package for stacking. It is compatible with the scikit-learn API to automate OOF computation, prediction and bagging using multiple models and stages.\n",
    "\n",
    "![title](img/EnsembleModels.png) \n",
    "\n",
    "Reference: https://blogs.sas.com/content/subconsciousmusings/2017/05/18/stacked-ensemble-models-win-data-science-competitions/\n",
    "\n",
    "We use the \"BEST\" Decision Tree and Random Forest classifiers from above in Stage 1. Stage 1 output is then passed on to Stage 2 which uses the XGBoost classifier with the best parameters. Finally, Logistic Regression is used as the Meta Classifier to predict the outcome and compare against the test dataset. "
   ]
  },
  {
   "cell_type": "code",
   "execution_count": 62,
   "metadata": {},
   "outputs": [
    {
     "name": "stdout",
     "output_type": "stream",
     "text": [
      "task:         [regression]\n",
      "metric:       [recall_score]\n",
      "mode:         [oof_pred_bag]\n",
      "n_models:     [2]\n",
      "\n",
      "model  0:     [DecisionTreeClassifier]\n",
      "    fold  0:  [0.79231350]\n",
      "    fold  1:  [0.78845040]\n",
      "    fold  2:  [0.79195585]\n",
      "    fold  3:  [0.79958831]\n",
      "    ----\n",
      "    MEAN:     [0.79307702] + [0.00405100]\n",
      "    FULL:     [0.79309055]\n",
      "\n",
      "model  1:     [RandomForestClassifier]\n",
      "    fold  0:  [0.89670219]\n",
      "    fold  1:  [0.89542484]\n",
      "    fold  2:  [0.89514173]\n",
      "    fold  3:  [0.89814739]\n",
      "    ----\n",
      "    MEAN:     [0.89635404] + [0.00119063]\n",
      "    FULL:     [0.89635819]\n",
      "\n",
      "task:         [regression]\n",
      "metric:       [recall_score]\n",
      "mode:         [oof_pred_bag]\n",
      "n_models:     [1]\n",
      "\n",
      "model  0:     [XGBClassifier]\n",
      "    fold  0:  [0.89670219]\n",
      "    fold  1:  [0.89542484]\n",
      "    fold  2:  [0.89514173]\n",
      "    fold  3:  [0.89814739]\n",
      "    ----\n",
      "    MEAN:     [0.89635404] + [0.00119063]\n",
      "    FULL:     [0.89635819]\n",
      "\n"
     ]
    },
    {
     "data": {
      "text/plain": [
       "array([[0.93228059, 0.06771941],\n",
       "       [0.93228059, 0.06771941],\n",
       "       [0.06683825, 0.93316175],\n",
       "       ...,\n",
       "       [0.06683825, 0.93316175],\n",
       "       [0.06683825, 0.93316175],\n",
       "       [0.93228059, 0.06771941]])"
      ]
     },
     "execution_count": 62,
     "metadata": {},
     "output_type": "execute_result"
    }
   ],
   "source": [
    "#-------------------------------------------------------\n",
    "# Initialize Level-1 models\n",
    "#-------------------------------------------------------\n",
    "models_1 = [clf_DT_best\n",
    "            , clf_RF_best]\n",
    "\n",
    "# Get out-of-fold predictions from Level-1 models\n",
    "S_1_train, S_1_test = stacking(models_1\n",
    "                               , X_train_reduced_features\n",
    "                               , y_train\n",
    "                               , X_test_reduced_features\n",
    "                               , regression = True\n",
    "                               , metric=recall_score\n",
    "                               , verbose = 2)\n",
    "\n",
    "#-------------------------------------------------------\n",
    "# Initialize Level-2 models\n",
    "#-------------------------------------------------------\n",
    "models_2 = [clf_XGB_Best]\n",
    "\n",
    "# Get out-of-fold predictions from Level-2 models\n",
    "S_2_train, S_2_test = stacking(models_2\n",
    "                               , S_1_train\n",
    "                               , y_train\n",
    "                               , S_1_test\n",
    "                               , regression = True\n",
    "                               , metric=recall_score\n",
    "                               , verbose = 2)\n",
    "\n",
    "#-------------------------------------------------------\n",
    "# Initialize the Level-3 model\n",
    "#-------------------------------------------------------\n",
    "model = LogisticRegression(random_state=rand_state)\n",
    "\n",
    "# Fit\n",
    "model.fit(S_2_train, y_train)\n",
    "\n",
    "# Get final prediction\n",
    "y_pred_ensemble = model.predict(S_2_test)\n",
    "\n",
    "#-------------------------------------------------------\n",
    "model.predict_proba(S_2_test)"
   ]
  },
  {
   "cell_type": "code",
   "execution_count": 63,
   "metadata": {},
   "outputs": [
    {
     "name": "stdout",
     "output_type": "stream",
     "text": [
      "----------------------------------------------------------\n",
      "Confusion Matrix::\n",
      "\n",
      "col_0    0.0    1.0\n",
      "y                  \n",
      "0.0    22794   1141\n",
      "1.0     1560  14476\n",
      "\n",
      "Classification Report::\n",
      "              precision    recall  f1-score   support\n",
      "\n",
      "         0.0       0.94      0.95      0.94     23935\n",
      "         1.0       0.93      0.90      0.91     16036\n",
      "\n",
      "    accuracy                           0.93     39971\n",
      "   macro avg       0.93      0.93      0.93     39971\n",
      "weighted avg       0.93      0.93      0.93     39971\n",
      "\n"
     ]
    }
   ],
   "source": [
    "# Save the results to the results dataframe\n",
    "y_pred_proba = model.predict_proba(S_2_test)[:, 1]\n",
    "\n",
    "# Capture all model evaluation metrics\n",
    "fpr, tpr, _ = roc_curve(y_test,  y_pred_proba)\n",
    "auc = roc_auc_score(y_test, y_pred_proba)\n",
    "(FP, FN, TP, TN, Cost, Accuracy, Recall, Precision) = confusion_mat(y_test, y_pred_ensemble)\n",
    "\n",
    "# Save the results to the results dataframe\n",
    "results_df = results_df.append({'Classifier':'Ensemble_1'\n",
    "                                , 'Features':'Reduced'\n",
    "                                , 'Parameters': 'Best'\n",
    "                                , 'Accuracy': Accuracy\n",
    "                                , 'Recall': Recall\n",
    "                                , 'Precision': Precision\n",
    "                                , 'FPR': fpr\n",
    "                                , 'TPR': tpr\n",
    "                                , 'AUC': auc\n",
    "                                , 'True_Positives': TP\n",
    "                                , 'True_Negatives': TN\n",
    "                                , 'False_Positives': FP\n",
    "                                , 'False_Negatives': FN\n",
    "                                , 'Cost(1000s)': Cost\n",
    "                               }\n",
    "                               , ignore_index=True\n",
    "                              )"
   ]
  },
  {
   "cell_type": "code",
   "execution_count": 64,
   "metadata": {},
   "outputs": [
    {
     "data": {
      "text/plain": [
       "0.9027188825143427"
      ]
     },
     "execution_count": 64,
     "metadata": {},
     "output_type": "execute_result"
    }
   ],
   "source": [
    "# Display the recall score of the Ensemble 1 Classifier\n",
    "recall_score(y_test, y_pred_ensemble)"
   ]
  },
  {
   "cell_type": "markdown",
   "metadata": {},
   "source": [
    "### Ensemble Model 2 - StackingCVClassifier\n",
    "\n",
    "The second ensemble technique uses the StackingCVClassifier from the mlxtend package. \n",
    "\n",
    "![title](img/Ensemble_StackingCVClassifier.png) \n",
    "\n",
    "Reference: http://rasbt.github.io/mlxtend/user_guide/classifier/StackingCVClassifier/\n",
    "\n",
    "In this model, we pass all our 3 best models (Decision Tree, Random Forest and XGBoost) together in Stage 1. Similar to the previous ensemble model, we use Logistic Regression as our Meta-Classifier."
   ]
  },
  {
   "cell_type": "code",
   "execution_count": 65,
   "metadata": {},
   "outputs": [
    {
     "data": {
      "text/plain": [
       "StackingCVClassifier(classifiers=[DecisionTreeClassifier(ccp_alpha=0.0,\n",
       "                                                         class_weight=None,\n",
       "                                                         criterion='entropy',\n",
       "                                                         max_depth=20,\n",
       "                                                         max_features='sqrt',\n",
       "                                                         max_leaf_nodes=None,\n",
       "                                                         min_impurity_decrease=0.0,\n",
       "                                                         min_impurity_split=None,\n",
       "                                                         min_samples_leaf=1,\n",
       "                                                         min_samples_split=10,\n",
       "                                                         min_weight_fraction_leaf=0.0,\n",
       "                                                         presort='deprecated',\n",
       "                                                         random_state=101,\n",
       "                                                         splitter='best'),\n",
       "                                  RandomForestCl...\n",
       "                                                        fit_intercept=True,\n",
       "                                                        intercept_scaling=1,\n",
       "                                                        l1_ratio=None,\n",
       "                                                        max_iter=100,\n",
       "                                                        multi_class='auto',\n",
       "                                                        n_jobs=None,\n",
       "                                                        penalty='l2',\n",
       "                                                        random_state=101,\n",
       "                                                        solver='lbfgs',\n",
       "                                                        tol=0.0001, verbose=0,\n",
       "                                                        warm_start=False),\n",
       "                     n_jobs=None, pre_dispatch='2*n_jobs', random_state=101,\n",
       "                     shuffle=True, store_train_meta_features=False,\n",
       "                     stratify=True, use_clones=True,\n",
       "                     use_features_in_secondary=False, use_probas=True,\n",
       "                     verbose=0)"
      ]
     },
     "execution_count": 65,
     "metadata": {},
     "output_type": "execute_result"
    }
   ],
   "source": [
    "# Initialize the Ensemble 2 Classifier using the diverse models\n",
    "sclf = StackingCVClassifier(classifiers=[clf_DT_best, clf_RF_best, clf_XGB_Best]\n",
    "                            , use_probas=True\n",
    "                            , random_state= rand_state\n",
    "                            , meta_classifier=LogisticRegression(random_state=rand_state))\n",
    "\n",
    "# Initialize variables to hold the labels and classifiers\n",
    "label = ['Decision Tree', 'Random Forest', 'XGBoost', 'Stacking Classifier']\n",
    "clf_list = [clf_DT_best, clf_RF_best, clf_XGB_Best, sclf]\n",
    "\n",
    "# Fit the model\n",
    "sclf.fit(X_train_reduced_features, y_train)"
   ]
  },
  {
   "cell_type": "code",
   "execution_count": 66,
   "metadata": {},
   "outputs": [
    {
     "name": "stdout",
     "output_type": "stream",
     "text": [
      "----------------------------------------------------------\n",
      "Confusion Matrix::\n",
      "\n",
      "col_0    0.0    1.0\n",
      "y                  \n",
      "0.0    22835   1100\n",
      "1.0     1276  14760\n",
      "\n",
      "Classification Report::\n",
      "              precision    recall  f1-score   support\n",
      "\n",
      "         0.0       0.95      0.95      0.95     23935\n",
      "         1.0       0.93      0.92      0.93     16036\n",
      "\n",
      "    accuracy                           0.94     39971\n",
      "   macro avg       0.94      0.94      0.94     39971\n",
      "weighted avg       0.94      0.94      0.94     39971\n",
      "\n"
     ]
    }
   ],
   "source": [
    "# Predict and capture the predictions\n",
    "y_pred_sclf = sclf.predict(X_test_reduced_features)\n",
    "\n",
    "# Capture the prediction probability of the outcome\n",
    "y_pred_proba = sclf.predict_proba(X_test_reduced_features)[:, 1]\n",
    "\n",
    "# Capture all model evaluation metrics\n",
    "fpr, tpr, _ = roc_curve(y_test,  y_pred_proba)\n",
    "auc = roc_auc_score(y_test, y_pred_proba)\n",
    "(FP, FN, TP, TN, Cost, Accuracy, Recall, Precision) = confusion_mat(y_test, y_pred_sclf)\n",
    "\n",
    "# Save the results to the results dataframe\n",
    "results_df = results_df.append({'Classifier':'Ensemble_2'\n",
    "                                , 'Features':'Reduced'\n",
    "                                , 'Parameters': 'Best'\n",
    "                                , 'Accuracy': Accuracy\n",
    "                                , 'Recall': Recall\n",
    "                                , 'Precision': Precision\n",
    "                                , 'FPR': fpr\n",
    "                                , 'TPR': tpr\n",
    "                                , 'AUC': auc\n",
    "                                , 'True_Positives': TP\n",
    "                                , 'True_Negatives': TN\n",
    "                                , 'False_Positives': FP\n",
    "                                , 'False_Negatives': FN\n",
    "                                , 'Cost(1000s)': Cost\n",
    "                               }\n",
    "                               , ignore_index=True\n",
    "                              )"
   ]
  },
  {
   "cell_type": "markdown",
   "metadata": {},
   "source": [
    "### Ensemble Model 3 \n",
    "\n",
    "Stack of estimators with a final classifier. Stacked generalization consists of stacking the output of individual estimators and using a classifier to compute the final prediction. Stacking leverages the strength of each individual estimator by using their outputs as input to the final estimator.\n",
    "\n",
    "![title](img/StackOfEstimatorsWithFinalClassifier.png)\n",
    "\n",
    "Reference: https://towardsdatascience.com/stacking-classifiers-for-higher-predictive-performance-566f963e4840\n",
    "\n",
    "\n",
    "In this step, we use multi-layer classifier technique. In this technique, we assign the final estimator to a stacking classifier."
   ]
  },
  {
   "cell_type": "code",
   "execution_count": 67,
   "metadata": {},
   "outputs": [
    {
     "data": {
      "text/plain": [
       "StackingClassifier(cv=None,\n",
       "                   estimators=[('dt',\n",
       "                                DecisionTreeClassifier(ccp_alpha=0.0,\n",
       "                                                       class_weight=None,\n",
       "                                                       criterion='entropy',\n",
       "                                                       max_depth=20,\n",
       "                                                       max_features='sqrt',\n",
       "                                                       max_leaf_nodes=None,\n",
       "                                                       min_impurity_decrease=0.0,\n",
       "                                                       min_impurity_split=None,\n",
       "                                                       min_samples_leaf=1,\n",
       "                                                       min_samples_split=10,\n",
       "                                                       min_weight_fraction_leaf=0.0,\n",
       "                                                       presort='deprecated',\n",
       "                                                       random_state=101,\n",
       "                                                       splitter='best'))],\n",
       "                   f...\n",
       "                                                      final_estimator=LogisticRegression(C=1.0,\n",
       "                                                                                         class_weight=None,\n",
       "                                                                                         dual=False,\n",
       "                                                                                         fit_intercept=True,\n",
       "                                                                                         intercept_scaling=1,\n",
       "                                                                                         l1_ratio=None,\n",
       "                                                                                         max_iter=100,\n",
       "                                                                                         multi_class='auto',\n",
       "                                                                                         n_jobs=None,\n",
       "                                                                                         penalty='l2',\n",
       "                                                                                         random_state=101,\n",
       "                                                                                         solver='lbfgs',\n",
       "                                                                                         tol=0.0001,\n",
       "                                                                                         verbose=0,\n",
       "                                                                                         warm_start=False),\n",
       "                                                      n_jobs=None,\n",
       "                                                      passthrough=False,\n",
       "                                                      stack_method='auto',\n",
       "                                                      verbose=0),\n",
       "                   n_jobs=None, passthrough=False, stack_method='auto',\n",
       "                   verbose=0)"
      ]
     },
     "execution_count": 67,
     "metadata": {},
     "output_type": "execute_result"
    }
   ],
   "source": [
    "#-------------------------------------------------------\n",
    "# Initialize the final layer\n",
    "#-------------------------------------------------------\n",
    "final_layer = StackingClassifier(estimators=[('rf', clf_RF_best)\n",
    "                                            , ('xgb', clf_XGB_Best)]\n",
    "                                , final_estimator=LogisticRegression(random_state=rand_state)\n",
    "                               )\n",
    "\n",
    "#-------------------------------------------------------\n",
    "# Initialize the multi-layer\n",
    "#-------------------------------------------------------\n",
    "multi_layer_regressor = StackingClassifier(estimators=[('dt', clf_DT_best)]\n",
    "                                          , final_estimator=final_layer\n",
    "                                         )\n",
    "\n",
    "# Fit the model\n",
    "multi_layer_regressor.fit(X_train_reduced_features, y_train)"
   ]
  },
  {
   "cell_type": "code",
   "execution_count": 68,
   "metadata": {},
   "outputs": [
    {
     "name": "stdout",
     "output_type": "stream",
     "text": [
      "----------------------------------------------------------\n",
      "Confusion Matrix::\n",
      "\n",
      "col_0    0.0    1.0\n",
      "y                  \n",
      "0.0    21266   2669\n",
      "1.0     3407  12629\n",
      "\n",
      "Classification Report::\n",
      "              precision    recall  f1-score   support\n",
      "\n",
      "         0.0       0.86      0.89      0.88     23935\n",
      "         1.0       0.83      0.79      0.81     16036\n",
      "\n",
      "    accuracy                           0.85     39971\n",
      "   macro avg       0.84      0.84      0.84     39971\n",
      "weighted avg       0.85      0.85      0.85     39971\n",
      "\n"
     ]
    }
   ],
   "source": [
    "# Predict and capture the predictions\n",
    "y_pred_multi = multi_layer_regressor.predict(X_test_reduced_features)\n",
    "\n",
    "# Capture the prediction probability of the outcome\n",
    "y_pred_proba = multi_layer_regressor.predict_proba(X_test_reduced_features)[:, 1]\n",
    "\n",
    "# Capture all model evaluation metrics\n",
    "fpr, tpr, _ = roc_curve(y_test,  y_pred_proba)\n",
    "auc = roc_auc_score(y_test, y_pred_proba)\n",
    "(FP, FN, TP, TN, Cost, Accuracy, Recall, Precision) = confusion_mat(y_test, y_pred_multi)\n",
    "\n",
    "# Save the results to the results dataframe\n",
    "results_df = results_df.append({'Classifier':'Ensemble_3'\n",
    "                                , 'Features':'Reduced'\n",
    "                                , 'Parameters': 'Best'\n",
    "                                , 'Accuracy': Accuracy\n",
    "                                , 'Recall': Recall\n",
    "                                , 'Precision': Precision\n",
    "                                , 'FPR': fpr\n",
    "                                , 'TPR': tpr\n",
    "                                , 'AUC': auc\n",
    "                                , 'True_Positives': TP\n",
    "                                , 'True_Negatives': TN\n",
    "                                , 'False_Positives': FP\n",
    "                                , 'False_Negatives': FN\n",
    "                                , 'Cost(1000s)': Cost\n",
    "                               }\n",
    "                               , ignore_index=True\n",
    "                              )"
   ]
  },
  {
   "cell_type": "markdown",
   "metadata": {},
   "source": [
    "### Ensemble Model 4\n",
    "\n",
    "This Ensemble Model is similar to Ensemble Model 3. However, in this step, we use a single stacking layer with Decision Tree, Random Forest and XGBoost and the best parameters passed as ensemble estimators. \n",
    "\n",
    "![title](img/EnsembleModels2.png)\n",
    "\n",
    "Reference: https://blogs.sas.com/content/subconsciousmusings/2017/05/18/stacked-ensemble-models-win-data-science-competitions/\n",
    "\n",
    "\n",
    "Stochastic Gradient Descent (SGD) is chosen as the final estimator or meta-classifier as discussed in Ensemble Model 1 & 2."
   ]
  },
  {
   "cell_type": "code",
   "execution_count": 69,
   "metadata": {},
   "outputs": [
    {
     "data": {
      "text/plain": [
       "StackingClassifier(cv=None,\n",
       "                   estimators=[('rf',\n",
       "                                RandomForestClassifier(bootstrap=True,\n",
       "                                                       ccp_alpha=0.0,\n",
       "                                                       class_weight=None,\n",
       "                                                       criterion='entropy',\n",
       "                                                       max_depth=None,\n",
       "                                                       max_features=0.3,\n",
       "                                                       max_leaf_nodes=None,\n",
       "                                                       max_samples=None,\n",
       "                                                       min_impurity_decrease=0.0,\n",
       "                                                       min_impurity_split=None,\n",
       "                                                       min_samples_leaf=1,\n",
       "                                                       min_samples_split=2,\n",
       "                                                       min_weight_fraction_leaf=0.0,\n",
       "                                                       n_estimators=200,\n",
       "                                                       n_jobs=None...\n",
       "                                                                                       early_stopping=False,\n",
       "                                                                                       epsilon=0.1,\n",
       "                                                                                       eta0=0.0,\n",
       "                                                                                       fit_intercept=True,\n",
       "                                                                                       l1_ratio=0.15,\n",
       "                                                                                       learning_rate='optimal',\n",
       "                                                                                       loss='hinge',\n",
       "                                                                                       max_iter=1000,\n",
       "                                                                                       n_iter_no_change=5,\n",
       "                                                                                       n_jobs=None,\n",
       "                                                                                       penalty='l2',\n",
       "                                                                                       power_t=0.5,\n",
       "                                                                                       random_state=101,\n",
       "                                                                                       shuffle=True,\n",
       "                                                                                       tol=0.001,\n",
       "                                                                                       validation_fraction=0.1,\n",
       "                                                                                       verbose=0,\n",
       "                                                                                       warm_start=False),\n",
       "                                                          cv=None,\n",
       "                                                          method='sigmoid'),\n",
       "                   n_jobs=None, passthrough=False, stack_method='auto',\n",
       "                   verbose=0)"
      ]
     },
     "execution_count": 69,
     "metadata": {},
     "output_type": "execute_result"
    }
   ],
   "source": [
    "#-------------------------------------------------------\n",
    "# Initialize using the diverse models\n",
    "#-------------------------------------------------------\n",
    "ensemble_estimators = [('rf', clf_RF_best)\n",
    "                       , ('xgb', clf_XGB_Best)\n",
    "                       , ('dt', clf_DT_best)\n",
    "                      ]\n",
    "\n",
    "#-------------------------------------------------------\n",
    "# Initialize the StackingClassifier ensemble\n",
    "#-------------------------------------------------------\n",
    "clf_ensemble = StackingClassifier(estimators=ensemble_estimators\n",
    "                                  , final_estimator=CalibratedClassifierCV(SGDClassifier(random_state=rand_state))\n",
    "                                 )\n",
    "\n",
    "# Fit the model\n",
    "clf_ensemble.fit(X_train_reduced_features, y_train)"
   ]
  },
  {
   "cell_type": "code",
   "execution_count": 70,
   "metadata": {},
   "outputs": [
    {
     "name": "stdout",
     "output_type": "stream",
     "text": [
      "----------------------------------------------------------\n",
      "Confusion Matrix::\n",
      "\n",
      "col_0    0.0    1.0\n",
      "y                  \n",
      "0.0    22831   1104\n",
      "1.0     1278  14758\n",
      "\n",
      "Classification Report::\n",
      "              precision    recall  f1-score   support\n",
      "\n",
      "         0.0       0.95      0.95      0.95     23935\n",
      "         1.0       0.93      0.92      0.93     16036\n",
      "\n",
      "    accuracy                           0.94     39971\n",
      "   macro avg       0.94      0.94      0.94     39971\n",
      "weighted avg       0.94      0.94      0.94     39971\n",
      "\n"
     ]
    }
   ],
   "source": [
    "# Predict and capture the predictions of the Ensemble Classifier\n",
    "y_pred_ens = clf_ensemble.predict(X_test_reduced_features)\n",
    "\n",
    "# Capture the prediction probability of the outcome\n",
    "y_pred_proba = clf_ensemble.predict_proba(X_test_reduced_features)[:, 1]\n",
    "\n",
    "# Capture all model evaluation metrics\n",
    "fpr, tpr, _ = roc_curve(y_test,  y_pred_proba)\n",
    "auc = roc_auc_score(y_test, y_pred_proba)\n",
    "(FP, FN, TP, TN, Cost, Accuracy, Recall, Precision) = confusion_mat(y_test, y_pred_ens)\n",
    "\n",
    "# Save the results to the results dataframe\n",
    "results_df = results_df.append({'Classifier':'Ensemble_4'\n",
    "                                , 'Features':'Reduced'\n",
    "                                , 'Parameters': 'Best'\n",
    "                                , 'Accuracy': Accuracy\n",
    "                                , 'Recall': Recall\n",
    "                                , 'Precision': Precision\n",
    "                                , 'FPR': fpr\n",
    "                                , 'TPR': tpr\n",
    "                                , 'AUC': auc\n",
    "                                , 'True_Positives': TP\n",
    "                                , 'True_Negatives': TN\n",
    "                                , 'False_Positives': FP\n",
    "                                , 'False_Negatives': FN\n",
    "                                , 'Cost(1000s)': Cost\n",
    "                               }\n",
    "                               , ignore_index=True\n",
    "                              )"
   ]
  },
  {
   "cell_type": "markdown",
   "metadata": {},
   "source": [
    "### Ensemble Model 5\n",
    "\n",
    "Ensemble model 5 is the same as Ensemble Model 4. The only difference is that we are using SMV (SVC) as the final estimator here instead of SGD."
   ]
  },
  {
   "cell_type": "code",
   "execution_count": 71,
   "metadata": {},
   "outputs": [
    {
     "data": {
      "text/plain": [
       "StackingClassifier(cv=None,\n",
       "                   estimators=[('rf',\n",
       "                                RandomForestClassifier(bootstrap=True,\n",
       "                                                       ccp_alpha=0.0,\n",
       "                                                       class_weight=None,\n",
       "                                                       criterion='entropy',\n",
       "                                                       max_depth=None,\n",
       "                                                       max_features=0.3,\n",
       "                                                       max_leaf_nodes=None,\n",
       "                                                       max_samples=None,\n",
       "                                                       min_impurity_decrease=0.0,\n",
       "                                                       min_impurity_split=None,\n",
       "                                                       min_samples_leaf=1,\n",
       "                                                       min_samples_split=2,\n",
       "                                                       min_weight_fraction_leaf=0.0,\n",
       "                                                       n_estimators=200,\n",
       "                                                       n_jobs=None...\n",
       "                   final_estimator=CalibratedClassifierCV(base_estimator=SVC(C=1.0,\n",
       "                                                                             break_ties=False,\n",
       "                                                                             cache_size=200,\n",
       "                                                                             class_weight=None,\n",
       "                                                                             coef0=0.0,\n",
       "                                                                             decision_function_shape='ovr',\n",
       "                                                                             degree=3,\n",
       "                                                                             gamma=0.5,\n",
       "                                                                             kernel='rbf',\n",
       "                                                                             max_iter=-1,\n",
       "                                                                             probability=False,\n",
       "                                                                             random_state=101,\n",
       "                                                                             shrinking=True,\n",
       "                                                                             tol=0.001,\n",
       "                                                                             verbose=False),\n",
       "                                                          cv=None,\n",
       "                                                          method='sigmoid'),\n",
       "                   n_jobs=None, passthrough=False, stack_method='auto',\n",
       "                   verbose=0)"
      ]
     },
     "execution_count": 71,
     "metadata": {},
     "output_type": "execute_result"
    }
   ],
   "source": [
    "#-------------------------------------------------------\n",
    "# Initialize ensemble using the diverse models and \n",
    "# best parameters\n",
    "#-------------------------------------------------------\n",
    "ensemble_estimators_5 = [('rf', clf_RF_best)\n",
    "                       , ('xgb', clf_XGB_Best)\n",
    "                       , ('dt', clf_DT_best)\n",
    "                      ]\n",
    "\n",
    "#-------------------------------------------------------\n",
    "# Initialize the StackingClassifier ensemble\n",
    "#-------------------------------------------------------\n",
    "clf_ensemble_5 = StackingClassifier(estimators=ensemble_estimators_5\n",
    "                                    , final_estimator=CalibratedClassifierCV(SVC(gamma = 0.5, random_state=rand_state))\n",
    "                                 )\n",
    "# Fit the model\n",
    "clf_ensemble_5.fit(X_train_reduced_features, y_train)"
   ]
  },
  {
   "cell_type": "code",
   "execution_count": 72,
   "metadata": {},
   "outputs": [
    {
     "name": "stdout",
     "output_type": "stream",
     "text": [
      "----------------------------------------------------------\n",
      "Confusion Matrix::\n",
      "\n",
      "col_0    0.0    1.0\n",
      "y                  \n",
      "0.0    22829   1106\n",
      "1.0     1273  14763\n",
      "\n",
      "Classification Report::\n",
      "              precision    recall  f1-score   support\n",
      "\n",
      "         0.0       0.95      0.95      0.95     23935\n",
      "         1.0       0.93      0.92      0.93     16036\n",
      "\n",
      "    accuracy                           0.94     39971\n",
      "   macro avg       0.94      0.94      0.94     39971\n",
      "weighted avg       0.94      0.94      0.94     39971\n",
      "\n"
     ]
    }
   ],
   "source": [
    "# Predict and capture the predictions\n",
    "y_pred_ens_5 = clf_ensemble_5.predict(X_test_reduced_features)\n",
    "\n",
    "# Capture the prediction probability of the outcome\n",
    "y_pred_proba = clf_ensemble_5.predict_proba(X_test_reduced_features)[:, 1]\n",
    "\n",
    "# Capture all model evaluation metrics\n",
    "fpr, tpr, _ = roc_curve(y_test,  y_pred_proba)\n",
    "auc = roc_auc_score(y_test, y_pred_proba)\n",
    "(FP, FN, TP, TN, Cost, Accuracy, Recall, Precision) = confusion_mat(y_test, y_pred_ens_5)\n",
    "\n",
    "# Save the results to the results dataframe\n",
    "results_df = results_df.append({'Classifier':'Ensemble_5'\n",
    "                                , 'Features':'Reduced'\n",
    "                                , 'Parameters': 'Best'\n",
    "                                , 'Accuracy': Accuracy\n",
    "                                , 'Recall': Recall\n",
    "                                , 'Precision': Precision\n",
    "                                , 'FPR': fpr\n",
    "                                , 'TPR': tpr\n",
    "                                , 'AUC': auc\n",
    "                                , 'True_Positives': TP\n",
    "                                , 'True_Negatives': TN\n",
    "                                , 'False_Positives': FP\n",
    "                                , 'False_Negatives': FN\n",
    "                                , 'Cost(1000s)': Cost\n",
    "                               }\n",
    "                               , ignore_index=True\n",
    "                              )"
   ]
  },
  {
   "cell_type": "code",
   "execution_count": null,
   "metadata": {},
   "outputs": [],
   "source": [
    "# Display the combined results of all models \n",
    "# Baseline with ALL features and default parameters\n",
    "# Models with Reduced Features and default parameters\n",
    "# Models with Reduced Feature and Best parameters\n",
    "# Ensemble Models using the diverse models \n",
    "results_df[['Classifier', 'Features', 'Parameters', 'Accuracy', 'Recall',\n",
    "            'Precision', 'AUC', 'True_Positives', 'True_Negatives', \n",
    "            'False_Positives', 'False_Negatives', 'Cost(1000s)']].sort_values(by = 'Cost(1000s)')"
   ]
  },
  {
   "cell_type": "markdown",
   "metadata": {},
   "source": [
    "![title](img/final_results.png)"
   ]
  },
  {
   "cell_type": "markdown",
   "metadata": {},
   "source": [
    "# ROC-AUC PLOTS - MODEL ACCURACY"
   ]
  },
  {
   "cell_type": "code",
   "execution_count": 74,
   "metadata": {},
   "outputs": [],
   "source": [
    "# Initalize the dataframe to do a combined \n",
    "# ROC-AUC plot for model evaluation and comparison\n",
    "roc_plot_df = results_df[['Classifier', 'Features', 'Parameters', \n",
    "                          'AUC', 'FPR', 'TPR', 'Cost(1000s)']].sort_values(by = 'Cost(1000s)').head(10)"
   ]
  },
  {
   "cell_type": "code",
   "execution_count": null,
   "metadata": {},
   "outputs": [],
   "source": [
    "# Add a combined column for Classifier, Features and Parameters\n",
    "roc_plot_df['Clf'] = roc_plot_df[['Classifier', 'Features', 'Parameters']].apply(lambda x: '_'.join(x), axis=1)\n",
    "\n",
    "# Display the dataframe for plotting the ROC-AUC \n",
    "roc_plot_df"
   ]
  },
  {
   "cell_type": "code",
   "execution_count": 76,
   "metadata": {},
   "outputs": [],
   "source": [
    "# Set the index\n",
    "roc_plot_df.set_index('Clf', inplace=True)"
   ]
  },
  {
   "cell_type": "code",
   "execution_count": null,
   "metadata": {},
   "outputs": [],
   "source": [
    "# Plot the data\n",
    "fig = plt.figure(figsize=(12,6))\n",
    "\n",
    "for i in roc_plot_df.index:\n",
    "    plt.plot(roc_plot_df.loc[i]['FPR'], \n",
    "             roc_plot_df.loc[i]['TPR'], \n",
    "             label=\"{}, AUC={:.3f}\".format(i, roc_plot_df.loc[i]['AUC']))\n",
    "    \n",
    "plt.plot([0,1], [0,1], color='orange', linestyle='--')\n",
    "\n",
    "plt.xticks(np.arange(0.0, 1.1, step=0.1))\n",
    "plt.xlabel(\"False Positive Rate\", fontsize=15)\n",
    "\n",
    "plt.yticks(np.arange(0.0, 1.1, step=0.1))\n",
    "plt.ylabel(\"True Positive Rate\", fontsize=15)\n",
    "\n",
    "plt.title('ROC Curve Analysis', fontweight='bold', fontsize=15)\n",
    "plt.legend(prop={'size':13}, loc='lower right')\n",
    "\n",
    "plt.show()"
   ]
  },
  {
   "cell_type": "markdown",
   "metadata": {},
   "source": [
    "The ROC curve analysis shows that Ensemble 2 generated the best results for the relationship of True Positives and False Positives.\n",
    "![title](img/roccurveens2.png)"
   ]
  },
  {
   "cell_type": "markdown",
   "metadata": {},
   "source": [
    "# RESULTS AND RECOMMENDED MODEL\n",
    "Out of the 16 different models we explored, the one that yielded the most optimal results and drove the cost impact to the business down to the lowest dollar amount was Ensemble Model 2 (Ensemble_2), using the reduced feature dataset and the parameters identified by the Grid Search process. It is not surprising the Ensemble model performed well, given the nature of those models to combine the strengths of several base estimators. Model 2 performed the best in this analysis because it combined the power of the three models we've been working with and harnessed the best of each. We do note that our Ensemble Models are quite close in the results per evaluation metrics but do show some differences in cost savings. \n",
    "\n",
    "In sum, we have provided the business with a comprehensive evaluation of their data and recommended a suite of predictive models from which to select as part of driving down the cost impact of incorrect predictions to their business.\n",
    "\n",
    "![title](img/final_results.png)\n",
    "\n",
    "---"
   ]
  },
  {
   "cell_type": "markdown",
   "metadata": {},
   "source": [
    "# ADDITIONAL WORK FOR FUTURE PRODUCTION\n",
    "\n",
    "### Option to Address Data leakage\n",
    "Data leakage is when test and training data sets share information, essentially making the test set not completely unseen or independent. The goal is to simulate the real world where no information about new data is known. This is violated when imputing or scaling is done on the entire test set and not just the training. One solution for data leakage is to build a pipeline. \n",
    "\n",
    "In this example, we begin with the original, complete dataset. We opted to run our resulting recommeded model through a pipeline set up that could reduce data leakage by building pre-processing sets into the modeling process along with cross validation. The steps are repeated for each iteration for the validation. "
   ]
  },
  {
   "cell_type": "code",
   "execution_count": 14,
   "metadata": {},
   "outputs": [],
   "source": [
    "\n",
    "# Create a variable \"cat_columns\" to include all features to be encoded\n",
    "cat_columns = ['x24', 'x29', 'x30','x32']\n",
    "# Drop NULLS in categorical features\n",
    "Business_Data_clean=Business_Data.dropna(subset=cat_columns)\n",
    "\n",
    "# Clean-up classes in some categorical features for consistency and spelling errors\n",
    "Business_Data_clean['x24'] = Business_Data_clean['x24'].replace(['asia', 'euorpe','america'], ['Asia', 'Europe','America'])\n",
    "Business_Data_clean['x29'] = Business_Data_clean['x29'].replace(['sept.', 'January','Dev','July'], ['Sep', 'Jan','Dec','Jul'])\n",
    "Business_Data_clean['x30'] = Business_Data_clean['x30'].replace(['monday', 'tuesday','wednesday','thurday','friday'], ['Mon', 'Tue','Wed','Thu','Fri'])\n",
    "\n",
    "# Use the pandas get_dummies function to encode the selected categorical features\n",
    "Business_Data_clean = pd.get_dummies(Business_Data_clean, prefix_sep=\"_\", drop_first=True, columns=cat_columns)\n",
    "\n",
    "\n",
    "# Assign the Explanatory features and Response variable to variables X and y respectively  \n",
    "X = Business_Data_clean.drop(columns=['y'], axis=1)\n",
    "y = Business_Data_clean.y\n",
    "\n",
    "# We split the data but use the stratify option to ensure a \n",
    "# balanced split of the outcome \"y\" across the test and train data sets\n",
    "X_train, X_test, y_train, y_test = train_test_split(X, y, test_size=0.25, random_state=10, stratify=y)\n",
    "\n",
    "#Reduce features down to only the important ones                   \n",
    "Important_Feature =['x7','x12','x20','x23','x27','x28','x37','x38','x40','x42','x46','x48','x49']\n",
    "\n",
    "X_train=X_train[Important_Feature]\n",
    "X_test=X_test[Important_Feature]      "
   ]
  },
  {
   "cell_type": "markdown",
   "metadata": {},
   "source": [
    "The pipeline below **imputes** the median for missing values and **scales** continuous variables.\n",
    "\n",
    "Cross validation is run on the pipeline built above and **Ensemble_5**  using 5-fold. These results can give us a better idea of how the model will perform in production. "
   ]
  },
  {
   "cell_type": "code",
   "execution_count": null,
   "metadata": {},
   "outputs": [],
   "source": [
    "from sklearn.impute import SimpleImputer\n",
    "from sklearn.compose import ColumnTransformer\n",
    "from sklearn.pipeline import Pipeline\n",
    "#code for later\n",
    "#Pipeline.steps.pop(1)\n",
    "#add in a model step at the end \n",
    "#Pipeline.steps.append((\"classify\",DecisionTreeClassifier()))\n",
    "#find columns to impute\n",
    "Columns_to_Imp=[X_train.columns.get_loc(c) for c in Important_Feature if c in X_train]\n",
    "#Step to impute the data \n",
    "t1 = [('Impute', SimpleImputer(missing_values = np.nan,strategy='median'), Columns_to_Imp)]\n",
    "transformer_Impute = ColumnTransformer(transformers=t1,remainder='passthrough')\n",
    "#Step to scale the data \n",
    "t2 = [('scale', MinMaxScaler(),Columns_to_Imp)]\n",
    "transformer_Scale = ColumnTransformer(transformers=t2,remainder='passthrough')\n",
    "# define pipeline\n",
    "pipeline = Pipeline(steps=[('Impute', transformer_Impute),\n",
    "                           ('Scale', transformer_Scale),\n",
    "                           #(\"classify\",LogisticRegression(solver = 'lbfgs', random_state=rand_state))])\n",
    "                           (\"classify\", StackingClassifier(estimators=ensemble_estimators_5, final_estimator=CalibratedClassifierCV(SVC(gamma = 0.5, random_state=rand_state))))])"
   ]
  },
  {
   "cell_type": "markdown",
   "metadata": {},
   "source": [
    "### Here, we can compare the results of the pipeline set up to the rest models outlined above. "
   ]
  },
  {
   "cell_type": "code",
   "execution_count": null,
   "metadata": {},
   "outputs": [],
   "source": [
    "\n",
    "#fit the model\n",
    "Accuracy_CV=cross_val_score(pipeline,X_train,y=y_train,cv=cv).mean\n",
    "pipeline.fit(X_train, y_train)\n"
   ]
  },
  {
   "cell_type": "markdown",
   "metadata": {},
   "source": [
    "![title](img/pipelinefitoutput.png)"
   ]
  },
  {
   "cell_type": "code",
   "execution_count": null,
   "metadata": {},
   "outputs": [],
   "source": [
    "y_pred_ens_5 = pipeline.predict(X_test)\n",
    "y_pred_proba = pipeline.predict_proba(X_test)[:, 1]\n",
    "fpr, tpr, _ = roc_curve(y_test,  y_pred_proba)\n",
    "auc = roc_auc_score(y_test, y_pred_proba)\n",
    "\n",
    "(FP, FN, TP, TN, Cost, Accuracy, Recall, Precision) = confusion_mat(y_test, y_pred_ens_5)\n",
    "results_df = results_df.append({'Classifier':'Ensemble_5_data_leakage'\n",
    "                                , 'Features':'Reduced'\n",
    "                                , 'Parameters': 'Best'\n",
    "                                , 'Accuracy': Accuracy_CV\n",
    "                                , 'Recall': Recall\n",
    "                                , 'Precision': Precision\n",
    "                                , 'FPR': fpr\n",
    "                                , 'TPR': tpr\n",
    "                                , 'AUC': auc\n",
    "                                , 'True_Positives': TP\n",
    "                                , 'True_Negatives': TN\n",
    "                                , 'False_Positives': FP\n",
    "                                , 'False_Negatives': FN\n",
    "                                , 'Cost(1000s)': Cost\n",
    "                               }\n",
    "                               , ignore_index=True\n",
    "                              )"
   ]
  },
  {
   "cell_type": "markdown",
   "metadata": {},
   "source": [
    "![title](img/pipelineconfusionmatrixoutput.png)"
   ]
  },
  {
   "cell_type": "markdown",
   "metadata": {},
   "source": [
    "Print out results to compare with previous models \n",
    "\n",
    "The goal is to build a machine model that will do well in production. We compare our pipeline model to the other models that we constructed. The impact to accuracy is minimal by a couple hundred of a percent.  Cost difference is relatively minimal and is worth it considering the reduction of data leakage and longevity of the model."
   ]
  },
  {
   "cell_type": "code",
   "execution_count": 24,
   "metadata": {
    "collapsed": true
   },
   "outputs": [
    {
     "ename": "NameError",
     "evalue": "name 'results_df' is not defined",
     "output_type": "error",
     "traceback": [
      "\u001b[1;31m---------------------------------------------------------------------------\u001b[0m",
      "\u001b[1;31mNameError\u001b[0m                                 Traceback (most recent call last)",
      "\u001b[1;32m<ipython-input-24-de3ca4d8fc69>\u001b[0m in \u001b[0;36m<module>\u001b[1;34m\u001b[0m\n\u001b[1;32m----> 1\u001b[1;33m results_df[['Classifier', 'Features', 'Parameters', 'Accuracy', 'Recall',\n\u001b[0m\u001b[0;32m      2\u001b[0m             \u001b[1;34m'Precision'\u001b[0m\u001b[1;33m,\u001b[0m \u001b[1;34m'AUC'\u001b[0m\u001b[1;33m,\u001b[0m \u001b[1;34m'True_Positives'\u001b[0m\u001b[1;33m,\u001b[0m \u001b[1;34m'True_Negatives'\u001b[0m\u001b[1;33m,\u001b[0m\u001b[1;33m\u001b[0m\u001b[1;33m\u001b[0m\u001b[0m\n\u001b[0;32m      3\u001b[0m             'False_Positives', 'False_Negatives', 'Cost(1000s)']].sort_values(by = 'Cost(1000s)')\n",
      "\u001b[1;31mNameError\u001b[0m: name 'results_df' is not defined"
     ]
    }
   ],
   "source": [
    "results_df[['Classifier', 'Features', 'Parameters', 'Accuracy', 'Recall',\n",
    "            'Precision', 'AUC', 'True_Positives', 'True_Negatives', \n",
    "            'False_Positives', 'False_Negatives', 'Cost(1000s)']].sort_values(by = 'Cost(1000s)')"
   ]
  },
  {
   "cell_type": "markdown",
   "metadata": {},
   "source": [
    "<table border=\"1\" class=\"dataframe\">  <thead>    <tr style=\"text-align: right;\">      <th></th>      <th>Classifier</th>      <th>Features</th>      <th>Parameters</th>      <th>Accuracy</th>      <th>Recall</th>      <th>Precision</th>      <th>AUC</th>      <th>True_Positives</th>      <th>True_Negatives</th>      <th>False_Positives</th>      <th>False_Negatives</th>      <th>Cost(1000s)</th>    </tr>  </thead>  <tbody>    <tr>      <th>12</th>      <td>Ensemble_2</td>      <td>Reduced</td>      <td>Best</td>      <td>0.942859</td>      <td>0.942859</td>      <td>0.932398</td>      <td>0.982961</td>      <td>14827</td>      <td>22860</td>      <td>1075</td>      <td>1209</td>      <td>615.25</td>    </tr>    <tr>      <th>14</th>      <td>Ensemble_4</td>      <td>Reduced</td>      <td>Best</td>      <td>0.942708</td>      <td>0.942708</td>      <td>0.932645</td>      <td>0.983313</td>      <td>14816</td>      <td>22865</td>      <td>1070</td>      <td>1220</td>      <td>620.70</td>    </tr>    <tr>      <th>15</th>      <td>Ensemble_5</td>      <td>Reduced</td>      <td>Best</td>      <td>0.942658</td>      <td>0.942658</td>      <td>0.932691</td>      <td>0.957358</td>      <td>14813</td>      <td>22866</td>      <td>1069</td>      <td>1223</td>      <td>622.19</td>    </tr>    <tr>      <th>16</th>      <td>Ensemble_5</td>      <td>Reduced</td>      <td>Best</td>      <td>0.942658</td>      <td>0.942658</td>      <td>0.932691</td>      <td>0.957358</td>      <td>14813</td>      <td>22866</td>      <td>1069</td>      <td>1223</td>      <td>622.19</td>    </tr>    <tr>      <th>17</th>      <td>Ensemble_5_data_leakage</td>      <td>Reduced</td>      <td>Best</td>      <td>0.941314</td>      <td>0.942083</td>      <td>0.932812</td>      <td>0.957373</td>      <td>14786</td>      <td>22870</td>      <td>1065</td>      <td>1250</td>      <td>635.65</td>    </tr>    <tr>      <th>10</th>      <td>XGB</td>      <td>Reduced</td>      <td>Best</td>      <td>0.939006</td>      <td>0.939006</td>      <td>0.927127</td>      <td>0.982146</td>      <td>14758</td>      <td>22775</td>      <td>1160</td>      <td>1278</td>      <td>650.60</td>    </tr>    <tr>      <th>11</th>      <td>Ensemble_1</td>      <td>Reduced</td>      <td>Best</td>      <td>0.931976</td>      <td>0.931976</td>      <td>0.924189</td>      <td>0.927467</td>      <td>14507</td>      <td>22745</td>      <td>1190</td>      <td>1529</td>      <td>776.40</td>    </tr>    <tr>      <th>9</th>      <td>Random Forest</td>      <td>Reduced</td>      <td>Best</td>      <td>0.933152</td>      <td>0.933152</td>      <td>0.931264</td>      <td>0.979444</td>      <td>14429</td>      <td>22870</td>      <td>1065</td>      <td>1607</td>      <td>814.15</td>    </tr>    <tr>      <th>7</th>      <td>XGB</td>      <td>Reduced</td>      <td>Default</td>      <td>0.925171</td>      <td>0.925171</td>      <td>0.913996</td>      <td>0.975660</td>      <td>14400</td>      <td>22580</td>      <td>1355</td>      <td>1636</td>      <td>831.55</td>    </tr>    <tr>      <th>6</th>      <td>Random Forest</td>      <td>Reduced</td>      <td>Default</td>      <td>0.930525</td>      <td>0.930525</td>      <td>0.931524</td>      <td>0.978250</td>      <td>14311</td>      <td>22883</td>      <td>1052</td>      <td>1725</td>      <td>873.02</td>    </tr>    <tr>      <th>4</th>      <td>XGB</td>      <td>Full</td>      <td>Default</td>      <td>0.921643</td>      <td>0.921643</td>      <td>0.911690</td>      <td>0.973989</td>      <td>14288</td>      <td>22551</td>      <td>1384</td>      <td>1748</td>      <td>887.84</td>    </tr>    <tr>      <th>3</th>      <td>Random Forest</td>      <td>Full</td>      <td>Default</td>      <td>0.917565</td>      <td>0.917565</td>      <td>0.926834</td>      <td>0.971895</td>      <td>13833</td>      <td>22843</td>      <td>1092</td>      <td>2203</td>      <td>1112.42</td>    </tr>    <tr>      <th>5</th>      <td>Decision Tree</td>      <td>Reduced</td>      <td>Default</td>      <td>0.856746</td>      <td>0.856746</td>      <td>0.822228</td>      <td>0.850729</td>      <td>13154</td>      <td>21091</td>      <td>2844</td>      <td>2882</td>      <td>1469.44</td>    </tr>    <tr>      <th>8</th>      <td>Decision Tree</td>      <td>Reduced</td>      <td>Best</td>      <td>0.847514</td>      <td>0.847514</td>      <td>0.813656</td>      <td>0.854858</td>      <td>12894</td>      <td>20982</td>      <td>2953</td>      <td>3142</td>      <td>1600.53</td>    </tr>    <tr>      <th>2</th>      <td>Decision Tree</td>      <td>Full</td>      <td>Default</td>      <td>0.839384</td>      <td>0.839384</td>      <td>0.798522</td>      <td>0.833216</td>      <td>12861</td>      <td>20690</td>      <td>3245</td>      <td>3175</td>      <td>1619.95</td>    </tr>    <tr>      <th>13</th>      <td>Ensemble_3</td>      <td>Reduced</td>      <td>Best</td>      <td>0.84819</td>      <td>0.848190</td>      <td>0.821881</td>      <td>0.854858</td>      <td>12726</td>      <td>21177</td>      <td>2758</td>      <td>3310</td>      <td>1682.58</td>    </tr>    <tr>      <th>1</th>      <td>Gaussian Naive-Bayes</td>      <td>Full</td>      <td>Default</td>      <td>0.6894</td>      <td>0.689400</td>      <td>0.639344</td>      <td>0.742411</td>      <td>8307</td>      <td>19249</td>      <td>4686</td>      <td>7729</td>      <td>3911.36</td>    </tr>    <tr>      <th>0</th>      <td>Logistic Regression</td>      <td>Full</td>      <td>Default</td>      <td>0.707338</td>      <td>0.707338</td>      <td>0.678519</td>      <td>0.765416</td>      <td>8244</td>      <td>20029</td>      <td>3906</td>      <td>7792</td>      <td>3935.06</td>    </tr>  </tbody></table>"
   ]
  },
  {
   "cell_type": "markdown",
   "metadata": {},
   "source": [
    "---\n",
    "# REFERENCES\n",
    "\n",
    "Notebook code adapted from Capstone Project work by Kevin Mendonsa, Vivek Viswanathan, and Maureen Stolberg: **\"Predicting Attrition - a Driver for Creating Value, Realizing Strategy, and Refining Key HR Processes\"**\n",
    "\n",
    "Additionally, the following websites were helpful resources for framing our work, explaining details, and example code.\n",
    "\n",
    "- https://jamesrledoux.com/code/imputation\n",
    "- https://chrisalbon.com/machine_learning/feature_selection/drop_highly_correlated_features/\n",
    "- https://stackoverflow.com/questions/17778394/list-highest-correlation-pairs-from-a-large-correlation-matrix-in-pandas\n",
    "- https://stackoverflow.com/questions/60393024/rfecv-for-classification-giving-keyerror-weight\n",
    "- https://scikit-learn.org/stable/auto_examples/feature_selection/plot_rfe_with_cross_validation.html\n",
    "- https://www.kaggle.com/arthurtok/introduction-to-ensembling-stacking-in-python\n",
    "- https://towardsdatascience.com/automate-stacking-in-python-fc3e7834772e\n",
    "- https://scikit-learn.org/stable/modules/ensemble.html\n",
    "- https://towardsdatascience.com/boosting-algorithm-xgboost-4d9ec0207d\n",
    "- https://towardsdatascience.com/feature-selection-in-python-recursive-feature-elimination-19f1c39b8d15\n",
    "- https://towardsdatascience.com/ensemble-methods-bagging-boosting-and-stacking-c9214a10a205\n",
    "-https://towardsdatascience.com/data-leakage-in-machine-learning-10bdd3eec742#:~:text=Causes%20of%20Data%20Leakage%201%20Pre-processing.%20A%20very,are%20dependencies%20between%20your%20test%20and%20train%20set."
   ]
  }
 ],
 "metadata": {
  "kernelspec": {
   "display_name": "Python 3",
   "language": "python",
   "name": "python3"
  },
  "language_info": {
   "codemirror_mode": {
    "name": "ipython",
    "version": 3
   },
   "file_extension": ".py",
   "mimetype": "text/x-python",
   "name": "python",
   "nbconvert_exporter": "python",
   "pygments_lexer": "ipython3",
   "version": "3.7.6"
  }
 },
 "nbformat": 4,
 "nbformat_minor": 2
}
